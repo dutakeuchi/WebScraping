{
 "cells": [
  {
   "cell_type": "markdown",
   "id": "2be2ca33-8029-456f-9fb6-f9a02a90d07a",
   "metadata": {},
   "source": [
    "<p style=\"text-align:center\">\n",
    "    <a href=\"https://skills.network\" target=\"_blank\">\n",
    "    <img src=\"https://cf-courses-data.s3.us.cloud-object-storage.appdomain.cloud/assets/logos/SN_web_lightmode.png\" width=\"200\" alt=\"Skills Network Logo\">\n",
    "    </a>\n",
    "</p>\n"
   ]
  },
  {
   "cell_type": "markdown",
   "id": "b749d446-383c-4fb0-98a9-e982978b9185",
   "metadata": {},
   "source": [
    "# **Web Scraping Lab**\n"
   ]
  },
  {
   "cell_type": "markdown",
   "id": "8b768566-22f1-4944-919e-4103fd1420bb",
   "metadata": {},
   "source": [
    "Estimated time needed: **30** minutes\n"
   ]
  },
  {
   "cell_type": "markdown",
   "id": "d861f927-765c-4711-ab36-74aee21d9c28",
   "metadata": {},
   "source": [
    "## Objectives\n"
   ]
  },
  {
   "cell_type": "markdown",
   "id": "f45478c2-f9ce-4221-833a-51edf4e3b217",
   "metadata": {},
   "source": [
    "After completing this lab you will be able to:\n"
   ]
  },
  {
   "cell_type": "markdown",
   "id": "1103c902-c010-42b2-beaa-4269d3be303f",
   "metadata": {},
   "source": [
    "<h2>Table of Contents</h2>\n",
    "<div class=\"alert alert-block alert-info\" style=\"margin-top: 20px\">\n",
    "    <ul>\n",
    "        <li>\n",
    "            <a href=\"https://bso/?utm_medium=Exinfluencer&utm_source=Exinfluencer&utm_content=000026UJ&utm_term=10006555&utm_id=NA-SkillsNetwork-Channel-SkillsNetworkCoursesIBMDeveloperSkillsNetworkPY0220ENSkillsNetwork23455606-2021-01-01\">Beautiful Soup Object</a>\n",
    "            <ul>\n",
    "                <li>Tag</li>\n",
    "                <li>Children, Parents, and Siblings</li>\n",
    "                <li>HTML Attributes</li>\n",
    "                <li>Navigable String</li>\n",
    "            </ul>\n",
    "        </li>\n",
    "     </ul>\n",
    "    <ul>\n",
    "        <li>\n",
    "            <a href=\"https://filter/?utm_medium=Exinfluencer&utm_source=Exinfluencer&utm_content=000026UJ&utm_term=10006555&utm_id=NA-SkillsNetwork-Channel-SkillsNetworkCoursesIBMDeveloperSkillsNetworkPY0220ENSkillsNetwork23455606-2021-01-01\">Filter</a>\n",
    "            <ul>\n",
    "                <li>find All</li>\n",
    "                <li>find </li>\n",
    "                <li>HTML Attributes</li>\n",
    "                <li>Navigable String</li>\n",
    "            </ul>\n",
    "        </li>\n",
    "     </ul>\n",
    "     <ul>\n",
    "        <li>\n",
    "            <a href=\"https://dscw/?utm_medium=Exinfluencer&utm_source=Exinfluencer&utm_content=000026UJ&utm_term=10006555&utm_id=NA-SkillsNetwork-Channel-SkillsNetworkCoursesIBMDeveloperSkillsNetworkPY0220ENSkillsNetwork23455606-2021-01-01\">Downloading And Scraping The Contents Of A Web</a>\n",
    "    </li>\n",
    "         </ul>\n",
    "    <p>\n",
    "        Estimated time needed: <strong>25 min</strong>\n",
    "    </p>\n",
    "\n",
    "</div>\n",
    "\n",
    "<hr>\n"
   ]
  },
  {
   "cell_type": "markdown",
   "id": "e66856ac-0c1e-47fb-a123-24aeedda8f23",
   "metadata": {},
   "source": [
    "For this lab, we are going to be using Python and several Python libraries. Some of these libraries might be installed in your lab environment or in SN Labs. Others may need to be installed by you. The cells below will install these libraries when executed.\n"
   ]
  },
  {
   "cell_type": "code",
   "execution_count": null,
   "id": "bf89af3c-22e2-4667-b5ba-ffed00e1df57",
   "metadata": {},
   "outputs": [],
   "source": [
    "!mamba install bs4==4.10.0 -y\n",
    "!pip install lxml==4.6.4\n",
    "!mamba install html5lib==1.1 -y\n",
    "!pip install pandas\n",
    "# !pip install requests==2.26.0"
   ]
  },
  {
   "cell_type": "markdown",
   "id": "a7d8bce4-5cad-4db5-bd22-f24dabe4a1aa",
   "metadata": {},
   "source": [
    "Import the required modules and functions\n"
   ]
  },
  {
   "cell_type": "code",
   "execution_count": null,
   "id": "7f4ba06c-317d-40dd-bb0e-d7693ffb7f81",
   "metadata": {},
   "outputs": [],
   "source": [
    "pip install --upgrade beautifulsoup4\n"
   ]
  },
  {
   "cell_type": "code",
   "execution_count": null,
   "id": "a4d34cb4-2c0b-4531-9cb3-9f70ec46ac47",
   "metadata": {},
   "outputs": [],
   "source": [
    "pip install --upgrade pandas"
   ]
  },
  {
   "cell_type": "markdown",
   "id": "464e86eb-e04e-4430-8d41-f7a885baeb92",
   "metadata": {},
   "source": [
    "suppress all warnings\n"
   ]
  },
  {
   "cell_type": "code",
   "execution_count": 1,
   "id": "b494acaf-38c7-4c11-867d-0f4af90f18f5",
   "metadata": {},
   "outputs": [],
   "source": [
    "import warnings\n",
    "warnings.simplefilter(\"ignore\")"
   ]
  },
  {
   "cell_type": "code",
   "execution_count": 2,
   "id": "9fc490e8-4ec2-41bd-9419-4a83a93ae5c3",
   "metadata": {},
   "outputs": [],
   "source": [
    "from bs4 import BeautifulSoup # this module helps in web scrapping.\n",
    "import requests  # this module helps us to download a web page\n",
    "import pandas as pd"
   ]
  },
  {
   "cell_type": "markdown",
   "id": "308cd613-e340-47bc-a257-4dae4a517b54",
   "metadata": {},
   "source": [
    "<h2 id=\"BSO\">Beautiful Soup Objects</h2>\n"
   ]
  },
  {
   "cell_type": "markdown",
   "id": "febb38bf-9ff0-46c3-be5c-bf014420dba1",
   "metadata": {},
   "source": [
    "Beautiful Soup is a Python library for pulling data out of HTML and XML files, we will focus on HTML files. This is accomplished by representing the HTML as a set of objects with methods used to parse the HTML.  We can navigate the HTML as a tree and/or filter out what we are looking for.\n",
    "\n",
    "Consider the following HTML:\n"
   ]
  },
  {
   "cell_type": "code",
   "execution_count": null,
   "id": "716e6134-9c43-4e90-9880-a882b176707f",
   "metadata": {},
   "outputs": [],
   "source": [
    "%%html\n",
    "<!DOCTYPE html>\n",
    "<html>\n",
    "<head>\n",
    "<title>Page Title</title>\n",
    "</head>\n",
    "<body>\n",
    "<h3><b id='boldest'>Lebron James</b></h3>\n",
    "<p> Salary: $ 92,000,000 </p>\n",
    "<h3> Stephen Curry</h3>\n",
    "<p> Salary: $85,000, 000 </p>\n",
    "<h3> Kevin Durant </h3>\n",
    "<p> Salary: $73,200, 000</p>\n",
    "</body>\n",
    "</html>"
   ]
  },
  {
   "cell_type": "markdown",
   "id": "fc720757-91bc-4019-bb2e-3f87ec764958",
   "metadata": {},
   "source": [
    "We can store it as a string in the variable HTML:\n"
   ]
  },
  {
   "cell_type": "code",
   "execution_count": 3,
   "id": "6a652d95-0ef5-4add-a8f6-517796f8b761",
   "metadata": {},
   "outputs": [],
   "source": [
    "html=\"<!DOCTYPE html><html><head><title>Page Title</title></head><body><h3><b id='boldest'>Lebron James</b></h3><p> Salary: $ 92,000,000 </p><h3> Stephen Curry</h3><p> Salary: $85,000, 000 </p><h3> Kevin Durant </h3><p> Salary: $73,200, 000</p></body></html>\""
   ]
  },
  {
   "cell_type": "markdown",
   "id": "62629013-1ba0-4168-ba70-b8969c568b2e",
   "metadata": {},
   "source": [
    "To parse a document, pass it into the <code>BeautifulSoup</code> constructor, the <code>BeautifulSoup</code> object, which represents the document as a nested data structure:\n"
   ]
  },
  {
   "cell_type": "code",
   "execution_count": 4,
   "id": "24f8ee9e-3a63-4b5e-85c0-4b2dc7ba2b61",
   "metadata": {},
   "outputs": [
    {
     "data": {
      "text/plain": [
       "<!DOCTYPE html>\n",
       "<html><head><title>Page Title</title></head><body><h3><b id=\"boldest\">Lebron James</b></h3><p> Salary: $ 92,000,000 </p><h3> Stephen Curry</h3><p> Salary: $85,000, 000 </p><h3> Kevin Durant </h3><p> Salary: $73,200, 000</p></body></html>"
      ]
     },
     "execution_count": 4,
     "metadata": {},
     "output_type": "execute_result"
    }
   ],
   "source": [
    "soup = BeautifulSoup(html, \"html.parser\")\n",
    "soup"
   ]
  },
  {
   "cell_type": "markdown",
   "id": "c3ef634b-3fd4-4bdd-bf54-0a245eed3d0a",
   "metadata": {},
   "source": [
    "First, the document is converted to Unicode, (similar to ASCII),  and HTML entities are converted to Unicode characters. Beautiful Soup transforms a complex HTML document into a complex tree of Python objects. The <code>BeautifulSoup</code> object can create other types of objects. In this lab, we will cover <code>BeautifulSoup</code> and <code>Tag</code> objects that for the purposes of this lab are identical, and <code>NavigableString</code> objects.\n"
   ]
  },
  {
   "cell_type": "markdown",
   "id": "c03efb01-dcac-4d4f-866e-1813e207a6b3",
   "metadata": {},
   "source": [
    "We can use the method <code>prettify()</code> to display the HTML in the nested structure:\n"
   ]
  },
  {
   "cell_type": "code",
   "execution_count": 5,
   "id": "2efc6c15-6981-42e9-abdd-b6fe2dcb9145",
   "metadata": {},
   "outputs": [
    {
     "name": "stdout",
     "output_type": "stream",
     "text": [
      "<!DOCTYPE html>\n",
      "<html>\n",
      " <head>\n",
      "  <title>\n",
      "   Page Title\n",
      "  </title>\n",
      " </head>\n",
      " <body>\n",
      "  <h3>\n",
      "   <b id=\"boldest\">\n",
      "    Lebron James\n",
      "   </b>\n",
      "  </h3>\n",
      "  <p>\n",
      "   Salary: $ 92,000,000\n",
      "  </p>\n",
      "  <h3>\n",
      "   Stephen Curry\n",
      "  </h3>\n",
      "  <p>\n",
      "   Salary: $85,000, 000\n",
      "  </p>\n",
      "  <h3>\n",
      "   Kevin Durant\n",
      "  </h3>\n",
      "  <p>\n",
      "   Salary: $73,200, 000\n",
      "  </p>\n",
      " </body>\n",
      "</html>\n",
      "\n"
     ]
    }
   ],
   "source": [
    "print(soup.prettify())"
   ]
  },
  {
   "cell_type": "markdown",
   "id": "b57173ce-17d1-4f77-9b10-e35151df27c3",
   "metadata": {},
   "source": [
    "## Tags\n"
   ]
  },
  {
   "cell_type": "markdown",
   "id": "ab9ca95f-34d9-42fb-90d5-e49784856aca",
   "metadata": {},
   "source": [
    "Let's say we want the  title of the page and the name of the top paid player we can use the <code>Tag</code>. The <code>Tag</code> object corresponds to an HTML tag in the original document, for example, the tag title.\n"
   ]
  },
  {
   "cell_type": "code",
   "execution_count": 6,
   "id": "6cadb093-cf3d-484a-ab72-836b306d97e1",
   "metadata": {},
   "outputs": [
    {
     "name": "stdout",
     "output_type": "stream",
     "text": [
      "tag object: <title>Page Title</title>\n"
     ]
    }
   ],
   "source": [
    "tag_object=soup.title\n",
    "print(\"tag object:\",tag_object)"
   ]
  },
  {
   "cell_type": "markdown",
   "id": "16e70177-db82-423c-b2d7-7a33374889c7",
   "metadata": {},
   "source": [
    "we can see the tag type <code>bs4.element.Tag</code>\n"
   ]
  },
  {
   "cell_type": "code",
   "execution_count": 7,
   "id": "a820fd1d-3f7f-4b17-9701-84d0e54a6740",
   "metadata": {},
   "outputs": [
    {
     "name": "stdout",
     "output_type": "stream",
     "text": [
      "tag object type: <class 'bs4.element.Tag'>\n"
     ]
    }
   ],
   "source": [
    "print(\"tag object type:\",type(tag_object))"
   ]
  },
  {
   "cell_type": "markdown",
   "id": "c1cc31d4-697b-4fe2-ba8c-a8a221dc24fe",
   "metadata": {},
   "source": [
    "If there is more than one <code>Tag</code>  with the same name, the first element with that <code>Tag</code> name is called, this corresponds to the most paid player:\n"
   ]
  },
  {
   "cell_type": "code",
   "execution_count": 8,
   "id": "9b6b382c-4571-4634-8911-909d0228c11a",
   "metadata": {},
   "outputs": [
    {
     "data": {
      "text/plain": [
       "<h3><b id=\"boldest\">Lebron James</b></h3>"
      ]
     },
     "execution_count": 8,
     "metadata": {},
     "output_type": "execute_result"
    }
   ],
   "source": [
    "tag_object=soup.h3\n",
    "tag_object"
   ]
  },
  {
   "cell_type": "code",
   "execution_count": 47,
   "metadata": {},
   "outputs": [
    {
     "data": {
      "text/plain": [
       "'Lebron James'"
      ]
     },
     "execution_count": 47,
     "metadata": {},
     "output_type": "execute_result"
    }
   ],
   "source": [
    "soup.h3.string"
   ]
  },
  {
   "cell_type": "code",
   "execution_count": 21,
   "metadata": {},
   "outputs": [
    {
     "name": "stdout",
     "output_type": "stream",
     "text": [
      "Lebron James\n",
      " Stephen Curry\n",
      " Kevin Durant \n"
     ]
    }
   ],
   "source": [
    "for child in soup.find_all('h3'):\n",
    "    print(child.string)"
   ]
  },
  {
   "cell_type": "markdown",
   "id": "024e08cb-7e20-48e4-a1fb-a39cae663c92",
   "metadata": {},
   "source": [
    "Enclosed in the bold attribute <code>b</code>, it helps to use the tree representation. We can navigate down the tree using the child attribute to get the name.\n"
   ]
  },
  {
   "cell_type": "markdown",
   "id": "5378fb2f-4357-4465-9fe6-39e4ddcf7b75",
   "metadata": {},
   "source": [
    "### Children, Parents, and Siblings\n"
   ]
  },
  {
   "cell_type": "markdown",
   "id": "39bff72a-67fc-41a5-b9db-3196d0794a78",
   "metadata": {},
   "source": [
    "As stated above the <code>Tag</code> object is a tree of objects we can access the child of the tag or navigate down the branch as follows:\n"
   ]
  },
  {
   "cell_type": "code",
   "execution_count": 22,
   "id": "228ac84b-d6bc-4e40-862d-f7a9188c5ec2",
   "metadata": {},
   "outputs": [
    {
     "data": {
      "text/plain": [
       "<b id=\"boldest\">Lebron James</b>"
      ]
     },
     "execution_count": 22,
     "metadata": {},
     "output_type": "execute_result"
    }
   ],
   "source": [
    "tag_child =tag_object.b\n",
    "tag_child"
   ]
  },
  {
   "cell_type": "markdown",
   "id": "7ce14490-ffcd-45d3-89f9-09316e24d80f",
   "metadata": {},
   "source": [
    "You can access the parent with the <code> parent</code>\n"
   ]
  },
  {
   "cell_type": "code",
   "execution_count": 23,
   "id": "9826a6c7-8b9e-41ce-9142-c940932ef89c",
   "metadata": {},
   "outputs": [
    {
     "data": {
      "text/plain": [
       "<h3><b id=\"boldest\">Lebron James</b></h3>"
      ]
     },
     "execution_count": 23,
     "metadata": {},
     "output_type": "execute_result"
    }
   ],
   "source": [
    "parent_tag=tag_child.parent\n",
    "parent_tag"
   ]
  },
  {
   "cell_type": "markdown",
   "id": "d3961809-f0b2-472b-a117-1a0daeeb0df2",
   "metadata": {},
   "source": [
    "this is identical to\n"
   ]
  },
  {
   "cell_type": "code",
   "execution_count": 24,
   "id": "5f597306-7d52-4527-9f4a-a83f3228f882",
   "metadata": {},
   "outputs": [
    {
     "data": {
      "text/plain": [
       "<h3><b id=\"boldest\">Lebron James</b></h3>"
      ]
     },
     "execution_count": 24,
     "metadata": {},
     "output_type": "execute_result"
    }
   ],
   "source": [
    "tag_object"
   ]
  },
  {
   "cell_type": "markdown",
   "id": "95e3e49d-ded7-42a6-9737-f0ca5934e5f3",
   "metadata": {},
   "source": [
    "<code>tag_object</code> parent is the <code>body</code> element.\n"
   ]
  },
  {
   "cell_type": "code",
   "execution_count": 25,
   "id": "ea53771f-1133-4811-a2e8-dd6abe49fa07",
   "metadata": {},
   "outputs": [
    {
     "data": {
      "text/plain": [
       "<body><h3><b id=\"boldest\">Lebron James</b></h3><p> Salary: $ 92,000,000 </p><h3> Stephen Curry</h3><p> Salary: $85,000, 000 </p><h3> Kevin Durant </h3><p> Salary: $73,200, 000</p></body>"
      ]
     },
     "execution_count": 25,
     "metadata": {},
     "output_type": "execute_result"
    }
   ],
   "source": [
    "tag_object.parent"
   ]
  },
  {
   "cell_type": "code",
   "execution_count": 29,
   "metadata": {},
   "outputs": [
    {
     "data": {
      "text/plain": [
       "<html><head><title>Page Title</title></head><body><h3><b id=\"boldest\">Lebron James</b></h3><p> Salary: $ 92,000,000 </p><h3> Stephen Curry</h3><p> Salary: $85,000, 000 </p><h3> Kevin Durant </h3><p> Salary: $73,200, 000</p></body></html>"
      ]
     },
     "execution_count": 29,
     "metadata": {},
     "output_type": "execute_result"
    }
   ],
   "source": [
    "tag_object.parent.parent"
   ]
  },
  {
   "cell_type": "code",
   "execution_count": 28,
   "metadata": {},
   "outputs": [
    {
     "name": "stdout",
     "output_type": "stream",
     "text": [
      "<!DOCTYPE html>\n",
      "<html>\n",
      " <head>\n",
      "  <title>\n",
      "   Page Title\n",
      "  </title>\n",
      " </head>\n",
      " <body>\n",
      "  <h3>\n",
      "   <b id=\"boldest\">\n",
      "    Lebron James\n",
      "   </b>\n",
      "  </h3>\n",
      "  <p>\n",
      "   Salary: $ 92,000,000\n",
      "  </p>\n",
      "  <h3>\n",
      "   Stephen Curry\n",
      "  </h3>\n",
      "  <p>\n",
      "   Salary: $85,000, 000\n",
      "  </p>\n",
      "  <h3>\n",
      "   Kevin Durant\n",
      "  </h3>\n",
      "  <p>\n",
      "   Salary: $73,200, 000\n",
      "  </p>\n",
      " </body>\n",
      "</html>\n",
      "\n"
     ]
    }
   ],
   "source": [
    "print(soup.prettify())"
   ]
  },
  {
   "cell_type": "markdown",
   "id": "1c9a894e-04db-439e-99b4-98fd2023127b",
   "metadata": {},
   "source": [
    "<code>tag_object</code> sibling is the <code>paragraph</code> element\n"
   ]
  },
  {
   "cell_type": "code",
   "execution_count": 30,
   "id": "a9fb772a-86ae-4db1-a015-46c61a47702c",
   "metadata": {},
   "outputs": [
    {
     "data": {
      "text/plain": [
       "<p> Salary: $ 92,000,000 </p>"
      ]
     },
     "execution_count": 30,
     "metadata": {},
     "output_type": "execute_result"
    }
   ],
   "source": [
    "sibling_1=tag_object.next_sibling\n",
    "sibling_1"
   ]
  },
  {
   "cell_type": "markdown",
   "id": "1a1da724-cd05-4fa1-8255-ad0a4570a999",
   "metadata": {},
   "source": [
    "`sibling_2` is the `header` element which is also a sibling of both `sibling_1` and `tag_object`\n"
   ]
  },
  {
   "cell_type": "code",
   "execution_count": 31,
   "id": "71a04c0e-2e3d-4612-91a8-17de0c30d28c",
   "metadata": {},
   "outputs": [
    {
     "data": {
      "text/plain": [
       "<h3> Stephen Curry</h3>"
      ]
     },
     "execution_count": 31,
     "metadata": {},
     "output_type": "execute_result"
    }
   ],
   "source": [
    "sibling_2=sibling_1.next_sibling\n",
    "sibling_2"
   ]
  },
  {
   "cell_type": "markdown",
   "id": "505d5d58-c625-4154-9a48-d25d2f80a635",
   "metadata": {},
   "source": [
    "<h3 id=\"first_question\">Exercise: <code>next_sibling</code></h3>\n"
   ]
  },
  {
   "cell_type": "markdown",
   "id": "f6d51598-5d6e-433c-a532-4150ee092d94",
   "metadata": {},
   "source": [
    "Using the object <code>sibling\\_2</code> and the property <code>next_sibling</code> to find the salary of Stephen Curry:\n"
   ]
  },
  {
   "cell_type": "code",
   "execution_count": 34,
   "id": "5c6a7e1d-06ca-4037-9bc2-6e60628a07e5",
   "metadata": {},
   "outputs": [
    {
     "data": {
      "text/plain": [
       "<p> Salary: $85,000, 000 </p>"
      ]
     },
     "execution_count": 34,
     "metadata": {},
     "output_type": "execute_result"
    }
   ],
   "source": [
    "sibling_2.next_sibling"
   ]
  },
  {
   "cell_type": "markdown",
   "id": "39c5a814-9020-480a-b23a-4d11a5c7d362",
   "metadata": {},
   "source": [
    "<details><summary>Click here for the solution</summary>\n",
    "\n",
    "```\n",
    "sibling_2.next_sibling\n",
    "\n",
    "```\n",
    "\n",
    "</details>\n"
   ]
  },
  {
   "cell_type": "markdown",
   "id": "60746eee-b49f-42c0-bbf8-92890b929f35",
   "metadata": {},
   "source": [
    "### HTML Attributes\n"
   ]
  },
  {
   "cell_type": "markdown",
   "id": "4cbb740c-a1a7-4a5a-8e27-7e00efbe233e",
   "metadata": {},
   "source": [
    "If the tag has attributes, the tag <code>id=\"boldest\"</code> has an attribute <code>id</code> whose value is <code>boldest</code>. You can access a tag’s attributes by treating the tag like a dictionary:\n"
   ]
  },
  {
   "cell_type": "code",
   "execution_count": 35,
   "id": "700491b6-381b-4db3-b225-d8fed9496ca5",
   "metadata": {},
   "outputs": [
    {
     "data": {
      "text/plain": [
       "'boldest'"
      ]
     },
     "execution_count": 35,
     "metadata": {},
     "output_type": "execute_result"
    }
   ],
   "source": [
    "tag_child['id']"
   ]
  },
  {
   "cell_type": "markdown",
   "id": "1dd20399-3dfa-4a0b-8135-05291a1f0f2f",
   "metadata": {},
   "source": [
    "You can access that dictionary directly as <code>attrs</code>:\n"
   ]
  },
  {
   "cell_type": "code",
   "execution_count": 36,
   "id": "e25cca5c-4345-4e8b-8390-798f6d621cb4",
   "metadata": {},
   "outputs": [
    {
     "data": {
      "text/plain": [
       "{'id': 'boldest'}"
      ]
     },
     "execution_count": 36,
     "metadata": {},
     "output_type": "execute_result"
    }
   ],
   "source": [
    "tag_child.attrs"
   ]
  },
  {
   "cell_type": "markdown",
   "id": "2057e829-0667-4cdc-8fae-ab547096012f",
   "metadata": {},
   "source": [
    "You can also work with Multi-valued attribute check out <a href=\"https://www.crummy.com/software/BeautifulSoup/bs4/doc/?utm_medium=Exinfluencer&utm_source=Exinfluencer&utm_content=000026UJ&utm_term=10006555&utm_id=NA-SkillsNetwork-Channel-SkillsNetworkCoursesIBMDeveloperSkillsNetworkPY0220ENSkillsNetwork23455606-2021-01-01\">\\[1]</a> for more.\n"
   ]
  },
  {
   "cell_type": "markdown",
   "id": "bf8c6fb3-f142-4546-8bc1-d5599e0f7b69",
   "metadata": {},
   "source": [
    "We can also obtain the content if the attribute of the <code>tag</code> using the Python <code>get()</code> method.\n"
   ]
  },
  {
   "cell_type": "code",
   "execution_count": 37,
   "id": "192b9dcf-b8db-4aee-9763-e7526077ef0b",
   "metadata": {},
   "outputs": [
    {
     "data": {
      "text/plain": [
       "'boldest'"
      ]
     },
     "execution_count": 37,
     "metadata": {},
     "output_type": "execute_result"
    }
   ],
   "source": [
    "tag_child.get('id')"
   ]
  },
  {
   "cell_type": "code",
   "execution_count": null,
   "metadata": {},
   "outputs": [
    {
     "data": {
      "text/plain": [
       "[<h3><b id=\"boldest\">Lebron James</b></h3>,\n",
       " <h3> Stephen Curry</h3>,\n",
       " <h3> Kevin Durant </h3>]"
      ]
     },
     "execution_count": 41,
     "metadata": {},
     "output_type": "execute_result"
    }
   ],
   "source": []
  },
  {
   "cell_type": "markdown",
   "id": "bf48049b-360c-413b-b0e8-25f5cf372b48",
   "metadata": {},
   "source": [
    "### Navigable String\n"
   ]
  },
  {
   "cell_type": "markdown",
   "id": "b336f775-962c-43cf-9d26-26f4684cae48",
   "metadata": {},
   "source": [
    "A string corresponds to a bit of text or content within a tag. Beautiful Soup uses the <code>NavigableString</code> class to contain this text. In our HTML we can obtain the name of the first player by extracting the sting of the <code>Tag</code> object <code>tag_child</code> as follows:\n"
   ]
  },
  {
   "cell_type": "code",
   "execution_count": 42,
   "metadata": {},
   "outputs": [
    {
     "data": {
      "text/plain": [
       "<b id=\"boldest\">Lebron James</b>"
      ]
     },
     "execution_count": 42,
     "metadata": {},
     "output_type": "execute_result"
    }
   ],
   "source": [
    "tag_child"
   ]
  },
  {
   "cell_type": "code",
   "execution_count": 48,
   "id": "6ac07002-9876-4e20-acfb-b21c9431fd89",
   "metadata": {},
   "outputs": [
    {
     "data": {
      "text/plain": [
       "'Lebron James'"
      ]
     },
     "execution_count": 48,
     "metadata": {},
     "output_type": "execute_result"
    }
   ],
   "source": [
    "tag_string=tag_child.string\n",
    "tag_string"
   ]
  },
  {
   "cell_type": "markdown",
   "id": "46bd9124-73ff-4bdc-9bd5-fcf9446c4616",
   "metadata": {},
   "source": [
    "we can verify the type is Navigable String\n"
   ]
  },
  {
   "cell_type": "code",
   "execution_count": 49,
   "id": "365da893-836a-41fc-9222-3bbd0e90c7e4",
   "metadata": {},
   "outputs": [
    {
     "data": {
      "text/plain": [
       "bs4.element.NavigableString"
      ]
     },
     "execution_count": 49,
     "metadata": {},
     "output_type": "execute_result"
    }
   ],
   "source": [
    "type(tag_string)"
   ]
  },
  {
   "cell_type": "markdown",
   "id": "d3d6c8c9-2b93-46ec-abdb-cfc5bf6bc6aa",
   "metadata": {},
   "source": [
    "A NavigableString is just like a Python string or Unicode string, to be more precise. The main difference is that it also supports some  <code>BeautifulSoup</code> features. We can covert it to sting object in Python:\n"
   ]
  },
  {
   "cell_type": "code",
   "execution_count": 50,
   "id": "77e1f122-4a6e-4753-a1c6-9c4f4d4a975a",
   "metadata": {},
   "outputs": [
    {
     "data": {
      "text/plain": [
       "'Lebron James'"
      ]
     },
     "execution_count": 50,
     "metadata": {},
     "output_type": "execute_result"
    }
   ],
   "source": [
    "unicode_string = str(tag_string)\n",
    "unicode_string"
   ]
  },
  {
   "cell_type": "code",
   "execution_count": 51,
   "metadata": {},
   "outputs": [
    {
     "data": {
      "text/plain": [
       "str"
      ]
     },
     "execution_count": 51,
     "metadata": {},
     "output_type": "execute_result"
    }
   ],
   "source": [
    "type(unicode_string)"
   ]
  },
  {
   "cell_type": "markdown",
   "id": "984c6671-3c61-4be8-addb-1bfafa30385e",
   "metadata": {},
   "source": [
    "<h2 id=\"filter\">Filter</h2>\n"
   ]
  },
  {
   "cell_type": "markdown",
   "id": "5c8d20db-4b21-4144-af88-848b424ba343",
   "metadata": {},
   "source": [
    "Filters allow you to find complex patterns, the simplest filter is a string. In this section we will pass a string to a different filter method and Beautiful Soup will perform a match against that exact string.  Consider the following HTML of rocket launchs:\n"
   ]
  },
  {
   "cell_type": "code",
   "execution_count": null,
   "id": "6d924633-c8fa-4aa4-b4a2-f6c5228b87a0",
   "metadata": {},
   "outputs": [],
   "source": [
    "%%html\n",
    "<table>\n",
    "  <tr>\n",
    "    <td id='flight' >Flight No</td>\n",
    "    <td>Launch site</td> \n",
    "    <td>Payload mass</td>\n",
    "   </tr>\n",
    "  <tr> \n",
    "    <td>1</td>\n",
    "    <td><a href='https://en.wikipedia.org/wiki/Florida'>Florida</a></td>\n",
    "    <td>300 kg</td>\n",
    "  </tr>\n",
    "  <tr>\n",
    "    <td>2</td>\n",
    "    <td><a href='https://en.wikipedia.org/wiki/Texas'>Texas</a></td>\n",
    "    <td>94 kg</td>\n",
    "  </tr>\n",
    "  <tr>\n",
    "    <td>3</td>\n",
    "    <td><a href='https://en.wikipedia.org/wiki/Florida'>Florida</a> </td>\n",
    "    <td>80 kg</td>\n",
    "  </tr>\n",
    "</table>"
   ]
  },
  {
   "cell_type": "markdown",
   "id": "5299f55e-c5de-4ad5-b1cb-992255550115",
   "metadata": {},
   "source": [
    "We can store it as a string in the variable <code>table</code>:\n"
   ]
  },
  {
   "cell_type": "code",
   "execution_count": 52,
   "id": "0e6f457d-c4f5-4767-bec2-3f9668dd1793",
   "metadata": {},
   "outputs": [],
   "source": [
    "table=\"<table><tr><td id='flight' >Flight No</td><td>Launch site</td><td>Payload mass</td></tr><tr><td>1</td><td><a href='https://en.wikipedia.org/wiki/Florida'>Florida</a></td><td>300 kg</td></tr><tr><td>2</td><td><a href='https://en.wikipedia.org/wiki/Texas'>Texas</a></td><td>94 kg</td></tr><tr><td>3</td><td><a href='https://en.wikipedia.org/wiki/Florida'>Florida</a> </td><td>80 kg</td></tr></table>\""
   ]
  },
  {
   "cell_type": "code",
   "execution_count": 56,
   "id": "e36af616-e65f-4206-9b90-6448777bdc66",
   "metadata": {},
   "outputs": [
    {
     "name": "stdout",
     "output_type": "stream",
     "text": [
      "<table>\n",
      " <tr>\n",
      "  <td id=\"flight\">\n",
      "   Flight No\n",
      "  </td>\n",
      "  <td>\n",
      "   Launch site\n",
      "  </td>\n",
      "  <td>\n",
      "   Payload mass\n",
      "  </td>\n",
      " </tr>\n",
      " <tr>\n",
      "  <td>\n",
      "   1\n",
      "  </td>\n",
      "  <td>\n",
      "   <a href=\"https://en.wikipedia.org/wiki/Florida\">\n",
      "    Florida\n",
      "   </a>\n",
      "  </td>\n",
      "  <td>\n",
      "   300 kg\n",
      "  </td>\n",
      " </tr>\n",
      " <tr>\n",
      "  <td>\n",
      "   2\n",
      "  </td>\n",
      "  <td>\n",
      "   <a href=\"https://en.wikipedia.org/wiki/Texas\">\n",
      "    Texas\n",
      "   </a>\n",
      "  </td>\n",
      "  <td>\n",
      "   94 kg\n",
      "  </td>\n",
      " </tr>\n",
      " <tr>\n",
      "  <td>\n",
      "   3\n",
      "  </td>\n",
      "  <td>\n",
      "   <a href=\"https://en.wikipedia.org/wiki/Florida\">\n",
      "    Florida\n",
      "   </a>\n",
      "  </td>\n",
      "  <td>\n",
      "   80 kg\n",
      "  </td>\n",
      " </tr>\n",
      "</table>\n",
      "\n"
     ]
    }
   ],
   "source": [
    "table_bs = BeautifulSoup(table, \"html.parser\")\n",
    "print(table_bs.prettify())"
   ]
  },
  {
   "cell_type": "markdown",
   "id": "b75fc40a-9b15-42de-a34c-8d5523a55e3b",
   "metadata": {},
   "source": [
    "## find All\n"
   ]
  },
  {
   "cell_type": "markdown",
   "id": "97accc19-7dd9-438c-985c-5bdbbfd22533",
   "metadata": {},
   "source": [
    "The <code>find_all()</code> method looks through a tag’s descendants and retrieves all descendants that match your filters.\n",
    "\n",
    "<p>\n",
    "The Method signature for <code>find_all(name, attrs, recursive, string, limit, **kwargs)<c/ode>\n",
    "</p>\n"
   ]
  },
  {
   "cell_type": "markdown",
   "id": "37905c60-b934-4799-a1df-76775b80311c",
   "metadata": {},
   "source": [
    "### Name\n"
   ]
  },
  {
   "cell_type": "markdown",
   "id": "629cdcb6-a860-4549-baa3-c0c3207214bd",
   "metadata": {},
   "source": [
    "When we set the <code>name</code> parameter to a tag name, the method will extract all the tags with that name and its children.\n"
   ]
  },
  {
   "cell_type": "code",
   "execution_count": 57,
   "id": "6a8d889d-6b95-406e-9d68-293efe4441e3",
   "metadata": {},
   "outputs": [
    {
     "data": {
      "text/plain": [
       "[<tr><td id=\"flight\">Flight No</td><td>Launch site</td><td>Payload mass</td></tr>,\n",
       " <tr><td>1</td><td><a href=\"https://en.wikipedia.org/wiki/Florida\">Florida</a></td><td>300 kg</td></tr>,\n",
       " <tr><td>2</td><td><a href=\"https://en.wikipedia.org/wiki/Texas\">Texas</a></td><td>94 kg</td></tr>,\n",
       " <tr><td>3</td><td><a href=\"https://en.wikipedia.org/wiki/Florida\">Florida</a> </td><td>80 kg</td></tr>]"
      ]
     },
     "execution_count": 57,
     "metadata": {},
     "output_type": "execute_result"
    }
   ],
   "source": [
    "table_rows=table_bs.find_all('tr')\n",
    "table_rows"
   ]
  },
  {
   "cell_type": "markdown",
   "id": "2ddc6d6c-dea6-49fa-86b6-508d7a18996d",
   "metadata": {},
   "source": [
    "The result is a Python Iterable just like a list, each element is a <code>tag</code> object:\n"
   ]
  },
  {
   "cell_type": "code",
   "execution_count": 60,
   "id": "135c1b3f-d0b2-4197-8650-b93c619af74c",
   "metadata": {},
   "outputs": [
    {
     "data": {
      "text/plain": [
       "<tr><td id=\"flight\">Flight No</td><td>Launch site</td><td>Payload mass</td></tr>"
      ]
     },
     "execution_count": 60,
     "metadata": {},
     "output_type": "execute_result"
    }
   ],
   "source": [
    "first_row =table_rows[0]\n",
    "first_row"
   ]
  },
  {
   "cell_type": "markdown",
   "id": "54463358-1f1b-4dac-9d9f-b97cc3fd10aa",
   "metadata": {},
   "source": [
    "The type is <code>tag</code>\n"
   ]
  },
  {
   "cell_type": "code",
   "execution_count": 61,
   "id": "e7aa439c-8b9d-40c1-9dc8-f563e92dacee",
   "metadata": {},
   "outputs": [
    {
     "name": "stdout",
     "output_type": "stream",
     "text": [
      "<class 'bs4.element.Tag'>\n"
     ]
    }
   ],
   "source": [
    "print(type(first_row))"
   ]
  },
  {
   "cell_type": "markdown",
   "id": "a53bf1a3-ecc9-4707-8e83-617c569d117e",
   "metadata": {},
   "source": [
    "we can obtain the child\n"
   ]
  },
  {
   "cell_type": "code",
   "execution_count": 62,
   "id": "ee558061-5575-42a7-bc55-0e9b5924cbc7",
   "metadata": {},
   "outputs": [
    {
     "data": {
      "text/plain": [
       "<td id=\"flight\">Flight No</td>"
      ]
     },
     "execution_count": 62,
     "metadata": {},
     "output_type": "execute_result"
    }
   ],
   "source": [
    "first_row.td"
   ]
  },
  {
   "cell_type": "markdown",
   "id": "70d626bc-e9ab-4db0-b700-ca89c2db67d4",
   "metadata": {},
   "source": [
    "If we iterate through the list, each element corresponds to a row in the table:\n"
   ]
  },
  {
   "cell_type": "code",
   "execution_count": 63,
   "id": "079d02b8-0fdb-43df-a920-489ab9d0a346",
   "metadata": {},
   "outputs": [
    {
     "name": "stdout",
     "output_type": "stream",
     "text": [
      "row 0 is <tr><td id=\"flight\">Flight No</td><td>Launch site</td><td>Payload mass</td></tr>\n",
      "row 1 is <tr><td>1</td><td><a href=\"https://en.wikipedia.org/wiki/Florida\">Florida</a></td><td>300 kg</td></tr>\n",
      "row 2 is <tr><td>2</td><td><a href=\"https://en.wikipedia.org/wiki/Texas\">Texas</a></td><td>94 kg</td></tr>\n",
      "row 3 is <tr><td>3</td><td><a href=\"https://en.wikipedia.org/wiki/Florida\">Florida</a> </td><td>80 kg</td></tr>\n"
     ]
    }
   ],
   "source": [
    "for i,row in enumerate(table_rows):\n",
    "    print(\"row\",i,\"is\",row)\n",
    "    "
   ]
  },
  {
   "cell_type": "markdown",
   "id": "5b53f785-6dab-45bb-853f-37a61b9b78b7",
   "metadata": {},
   "source": [
    "As <code>row</code> is a <code>cell</code> object, we can apply the method <code>find_all</code> to it and extract table cells in the object <code>cells</code> using the tag <code>td</code>, this is all the children with the name <code>td</code>. The result is a list, each element corresponds to a cell and is a <code>Tag</code> object, we can iterate through this list as well. We can extract the content using the <code>string</code>  attribute.\n"
   ]
  },
  {
   "cell_type": "code",
   "execution_count": 71,
   "id": "aa89d4fc-1f6d-4462-8803-5a006394cc26",
   "metadata": {},
   "outputs": [
    {
     "name": "stdout",
     "output_type": "stream",
     "text": [
      "row 0\n",
      "colunm 0 cell <td id=\"flight\">Flight No</td>\n",
      "colunm 1 cell <td>Launch site</td>\n",
      "colunm 2 cell <td>Payload mass</td>\n",
      "row 1\n",
      "colunm 0 cell <td>1</td>\n",
      "colunm 1 cell <td><a href=\"https://en.wikipedia.org/wiki/Florida\">Florida</a></td>\n",
      "colunm 2 cell <td>300 kg</td>\n",
      "row 2\n",
      "colunm 0 cell <td>2</td>\n",
      "colunm 1 cell <td><a href=\"https://en.wikipedia.org/wiki/Texas\">Texas</a></td>\n",
      "colunm 2 cell <td>94 kg</td>\n",
      "row 3\n",
      "colunm 0 cell <td>3</td>\n",
      "colunm 1 cell <td><a href=\"https://en.wikipedia.org/wiki/Florida\">Florida</a> </td>\n",
      "colunm 2 cell <td>80 kg</td>\n"
     ]
    }
   ],
   "source": [
    "for i,row in enumerate(table_rows):\n",
    "    print(\"row\",i)\n",
    "    cells=row.find_all('td')\n",
    "    for j,cell in enumerate(cells):\n",
    "        print('colunm',j,\"cell\",cell)"
   ]
  },
  {
   "cell_type": "markdown",
   "id": "070f3279-120b-4b65-af92-dfb0d45bb2c8",
   "metadata": {},
   "source": [
    "If we use a list we can match against any item in that list.\n"
   ]
  },
  {
   "cell_type": "code",
   "execution_count": 72,
   "id": "bd652eb8-05e1-484e-850a-32fa7f94ae1a",
   "metadata": {},
   "outputs": [
    {
     "data": {
      "text/plain": [
       "[<tr><td id=\"flight\">Flight No</td><td>Launch site</td><td>Payload mass</td></tr>,\n",
       " <td id=\"flight\">Flight No</td>,\n",
       " <td>Launch site</td>,\n",
       " <td>Payload mass</td>,\n",
       " <tr><td>1</td><td><a href=\"https://en.wikipedia.org/wiki/Florida\">Florida</a></td><td>300 kg</td></tr>,\n",
       " <td>1</td>,\n",
       " <td><a href=\"https://en.wikipedia.org/wiki/Florida\">Florida</a></td>,\n",
       " <td>300 kg</td>,\n",
       " <tr><td>2</td><td><a href=\"https://en.wikipedia.org/wiki/Texas\">Texas</a></td><td>94 kg</td></tr>,\n",
       " <td>2</td>,\n",
       " <td><a href=\"https://en.wikipedia.org/wiki/Texas\">Texas</a></td>,\n",
       " <td>94 kg</td>,\n",
       " <tr><td>3</td><td><a href=\"https://en.wikipedia.org/wiki/Florida\">Florida</a> </td><td>80 kg</td></tr>,\n",
       " <td>3</td>,\n",
       " <td><a href=\"https://en.wikipedia.org/wiki/Florida\">Florida</a> </td>,\n",
       " <td>80 kg</td>]"
      ]
     },
     "execution_count": 72,
     "metadata": {},
     "output_type": "execute_result"
    }
   ],
   "source": [
    "list_input=table_bs .find_all(name=[\"tr\", \"td\"])\n",
    "list_input"
   ]
  },
  {
   "cell_type": "markdown",
   "id": "69c16e4d-52a9-459a-8a53-7442cc1973e3",
   "metadata": {},
   "source": [
    "## Attributes\n"
   ]
  },
  {
   "cell_type": "markdown",
   "id": "7eae4530-63d7-49b0-848a-7c45ddda9dc9",
   "metadata": {},
   "source": [
    "If the argument is not recognized it will be turned into a filter on the tag’s attributes. For example the <code>id</code>  argument, Beautiful Soup will filter against each tag’s <code>id</code> attribute. For example, the first <code>td</code> elements have a value of <code>id</code> of <code>flight</code>, therefore we can filter based on that <code>id</code> value.\n"
   ]
  },
  {
   "cell_type": "code",
   "execution_count": 73,
   "id": "b833163d-242f-48b3-b4b3-3ee1ce2ff6ae",
   "metadata": {},
   "outputs": [
    {
     "data": {
      "text/plain": [
       "[<td id=\"flight\">Flight No</td>]"
      ]
     },
     "execution_count": 73,
     "metadata": {},
     "output_type": "execute_result"
    }
   ],
   "source": [
    "table_bs.find_all(id=\"flight\")"
   ]
  },
  {
   "cell_type": "code",
   "execution_count": 77,
   "metadata": {},
   "outputs": [
    {
     "data": {
      "text/plain": [
       "[<td id=\"flight\">Flight No</td>,\n",
       " <td>Launch site</td>,\n",
       " <td>Payload mass</td>,\n",
       " <td>1</td>,\n",
       " <td><a href=\"https://en.wikipedia.org/wiki/Florida\">Florida</a></td>,\n",
       " <td>300 kg</td>,\n",
       " <td>2</td>,\n",
       " <td><a href=\"https://en.wikipedia.org/wiki/Texas\">Texas</a></td>,\n",
       " <td>94 kg</td>,\n",
       " <td>3</td>,\n",
       " <td><a href=\"https://en.wikipedia.org/wiki/Florida\">Florida</a> </td>,\n",
       " <td>80 kg</td>]"
      ]
     },
     "execution_count": 77,
     "metadata": {},
     "output_type": "execute_result"
    }
   ],
   "source": [
    "table_bs.find_all('td')"
   ]
  },
  {
   "cell_type": "markdown",
   "id": "1695a694-34f4-4903-80e0-84d6c05cd495",
   "metadata": {},
   "source": [
    "We can find all the elements that have links to the Florida Wikipedia page:\n"
   ]
  },
  {
   "cell_type": "code",
   "execution_count": 78,
   "id": "51215e2f-0953-49ed-a055-4f9f2750b11c",
   "metadata": {},
   "outputs": [
    {
     "data": {
      "text/plain": [
       "[<a href=\"https://en.wikipedia.org/wiki/Florida\">Florida</a>,\n",
       " <a href=\"https://en.wikipedia.org/wiki/Florida\">Florida</a>]"
      ]
     },
     "execution_count": 78,
     "metadata": {},
     "output_type": "execute_result"
    }
   ],
   "source": [
    "list_input=table_bs.find_all(href=\"https://en.wikipedia.org/wiki/Florida\")\n",
    "list_input"
   ]
  },
  {
   "cell_type": "markdown",
   "id": "98495ea8-3445-41fd-9306-88d8a87217be",
   "metadata": {},
   "source": [
    "If we set the  <code>href</code> attribute to True, regardless of what the value is, the code finds all tags with <code>href</code> value:\n"
   ]
  },
  {
   "cell_type": "code",
   "execution_count": 81,
   "id": "f9a09a17-ecf5-42ab-95dd-9228347e6c42",
   "metadata": {},
   "outputs": [
    {
     "data": {
      "text/plain": [
       "[<a href=\"https://en.wikipedia.org/wiki/Florida\">Florida</a>,\n",
       " <a href=\"https://en.wikipedia.org/wiki/Texas\">Texas</a>,\n",
       " <a href=\"https://en.wikipedia.org/wiki/Florida\">Florida</a>]"
      ]
     },
     "execution_count": 81,
     "metadata": {},
     "output_type": "execute_result"
    }
   ],
   "source": [
    "table_bs.find_all(href=True)\n"
   ]
  },
  {
   "cell_type": "code",
   "execution_count": 86,
   "metadata": {},
   "outputs": [
    {
     "name": "stdout",
     "output_type": "stream",
     "text": [
      "Florida\n",
      "Texas\n",
      "Florida\n"
     ]
    }
   ],
   "source": [
    "for i in table_bs.find_all(href=True):\n",
    "    print(i.string)"
   ]
  },
  {
   "cell_type": "markdown",
   "id": "19aa6a98-7c68-4330-bd64-d54b6c5d39d9",
   "metadata": {},
   "source": [
    "There are other methods for dealing with attributes and other related methods; Check out the following <a href='https://www.crummy.com/software/BeautifulSoup/bs4/doc/?utm_medium=Exinfluencer&utm_source=Exinfluencer&utm_content=000026UJ&utm_term=10006555&utm_id=NA-SkillsNetwork-Channel-SkillsNetworkCoursesIBMDeveloperSkillsNetworkPY0220ENSkillsNetwork23455606-2021-01-01#css-selectors'>link</a>\n"
   ]
  },
  {
   "cell_type": "markdown",
   "id": "1ee17063-e09b-4d3a-8507-fce9e869eb38",
   "metadata": {},
   "source": [
    "<h3 id=\"exer_type\">Exercise: <code>find_all</code></h3>\n"
   ]
  },
  {
   "cell_type": "markdown",
   "id": "7ecdd0a9-8572-4054-83c6-eaaa132c0ff6",
   "metadata": {},
   "source": [
    "Using the logic above, find all the elements without <code>href</code> value\n"
   ]
  },
  {
   "cell_type": "code",
   "execution_count": 91,
   "id": "1b8e0a7b-808e-45ff-b6b5-79867abef774",
   "metadata": {},
   "outputs": [
    {
     "data": {
      "text/plain": [
       "[]"
      ]
     },
     "execution_count": 91,
     "metadata": {},
     "output_type": "execute_result"
    }
   ],
   "source": [
    "table_bs.find_all('a', href=False)"
   ]
  },
  {
   "cell_type": "markdown",
   "id": "67380495-5b82-4532-b092-b0a7a7877b73",
   "metadata": {},
   "source": [
    "<details><summary>Click here for the solution</summary>\n",
    "\n",
    "```\n",
    "table_bs.find_all('a', href=False)\n",
    "\n",
    "```\n",
    "\n",
    "</details>\n"
   ]
  },
  {
   "cell_type": "markdown",
   "id": "3f21719a-3496-424f-bb7b-afa52ab1d930",
   "metadata": {},
   "source": [
    "Using the soup object <code>soup</code>, find the element with the <code>id</code> attribute content set to <code>\"boldest\"</code>.\n"
   ]
  },
  {
   "cell_type": "code",
   "execution_count": 95,
   "id": "d17f7868-c0e4-4f14-9423-e39ba054d3b2",
   "metadata": {},
   "outputs": [
    {
     "data": {
      "text/plain": [
       "[<b id=\"boldest\">Lebron James</b>]"
      ]
     },
     "execution_count": 95,
     "metadata": {},
     "output_type": "execute_result"
    }
   ],
   "source": [
    "soup.find_all(id='boldest')"
   ]
  },
  {
   "cell_type": "code",
   "execution_count": 99,
   "metadata": {},
   "outputs": [
    {
     "data": {
      "text/plain": [
       "[<b id=\"boldest\">Lebron James</b>]"
      ]
     },
     "execution_count": 99,
     "metadata": {},
     "output_type": "execute_result"
    }
   ],
   "source": [
    "soup.find_all('b')"
   ]
  },
  {
   "cell_type": "markdown",
   "id": "ea8ec80e-b299-4627-bbd1-458398569216",
   "metadata": {},
   "source": [
    "<details><summary>Click here for the solution</summary>\n",
    "\n",
    "```\n",
    "soup.find_all(id=\"boldest\")\n",
    "\n",
    "```\n",
    "\n",
    "</details>\n"
   ]
  },
  {
   "cell_type": "markdown",
   "id": "654cd31a-a5e1-42cb-b3d8-57a063e6db94",
   "metadata": {},
   "source": [
    "### string\n"
   ]
  },
  {
   "cell_type": "markdown",
   "id": "c6a513ba-80c8-42f8-9607-168707f19cef",
   "metadata": {},
   "source": [
    "With string you can search for strings instead of tags, where we find all the elments with Florida:\n"
   ]
  },
  {
   "cell_type": "code",
   "execution_count": 100,
   "id": "2f48ce5d-cc93-4373-84f0-fd988a6b1471",
   "metadata": {},
   "outputs": [
    {
     "data": {
      "text/plain": [
       "['Florida', 'Florida']"
      ]
     },
     "execution_count": 100,
     "metadata": {},
     "output_type": "execute_result"
    }
   ],
   "source": [
    "table_bs.find_all(string=\"Florida\")"
   ]
  },
  {
   "cell_type": "markdown",
   "id": "7cd2899d-0c07-46f8-a76e-b7ddf0d2d9da",
   "metadata": {},
   "source": [
    "## find\n"
   ]
  },
  {
   "cell_type": "markdown",
   "id": "891ebe7d-16a8-40f3-8877-5ac383ba89d3",
   "metadata": {},
   "source": [
    "The <code>find_all()</code> method scans the entire document looking for results, it’s if you are looking for one element you can use the <code>find()</code> method to find the first element in the document. Consider the following two table:\n"
   ]
  },
  {
   "cell_type": "code",
   "execution_count": null,
   "id": "024b5a17-1adc-4808-b530-936889b03716",
   "metadata": {},
   "outputs": [],
   "source": [
    "%%html\n",
    "<h3>Rocket Launch </h3>\n",
    "\n",
    "<p>\n",
    "<table class='rocket'>\n",
    "  <tr>\n",
    "    <td>Flight No</td>\n",
    "    <td>Launch site</td> \n",
    "    <td>Payload mass</td>\n",
    "  </tr>\n",
    "  <tr>\n",
    "    <td>1</td>\n",
    "    <td>Florida</td>\n",
    "    <td>300 kg</td>\n",
    "  </tr>\n",
    "  <tr>\n",
    "    <td>2</td>\n",
    "    <td>Texas</td>\n",
    "    <td>94 kg</td>\n",
    "  </tr>\n",
    "  <tr>\n",
    "    <td>3</td>\n",
    "    <td>Florida </td>\n",
    "    <td>80 kg</td>\n",
    "  </tr>\n",
    "</table>\n",
    "</p>\n",
    "<p>\n",
    "\n",
    "<h3>Pizza Party  </h3>\n",
    "  \n",
    "    \n",
    "<table class='pizza'>\n",
    "  <tr>\n",
    "    <td>Pizza Place</td>\n",
    "    <td>Orders</td> \n",
    "    <td>Slices </td>\n",
    "   </tr>\n",
    "  <tr>\n",
    "    <td>Domino's Pizza</td>\n",
    "    <td>10</td>\n",
    "    <td>100</td>\n",
    "  </tr>\n",
    "  <tr>\n",
    "    <td>Little Caesars</td>\n",
    "    <td>12</td>\n",
    "    <td >144 </td>\n",
    "  </tr>\n",
    "  <tr>\n",
    "    <td>Papa John's </td>\n",
    "    <td>15 </td>\n",
    "    <td>165</td>\n",
    "  </tr>\n"
   ]
  },
  {
   "cell_type": "markdown",
   "id": "14c6a68c-1c71-4cfe-aff2-e2d605cae4c6",
   "metadata": {},
   "source": [
    "We store the HTML as a Python string and assign <code>two_tables</code>:\n"
   ]
  },
  {
   "cell_type": "code",
   "execution_count": 101,
   "id": "b8fe4c82-a24c-4cbb-aa95-6fb381ab3e43",
   "metadata": {},
   "outputs": [],
   "source": [
    "two_tables=\"<h3>Rocket Launch </h3><p><table class='rocket'><tr><td>Flight No</td><td>Launch site</td> <td>Payload mass</td></tr><tr><td>1</td><td>Florida</td><td>300 kg</td></tr><tr><td>2</td><td>Texas</td><td>94 kg</td></tr><tr><td>3</td><td>Florida </td><td>80 kg</td></tr></table></p><p><h3>Pizza Party  </h3><table class='pizza'><tr><td>Pizza Place</td><td>Orders</td> <td>Slices </td></tr><tr><td>Domino's Pizza</td><td>10</td><td>100</td></tr><tr><td>Little Caesars</td><td>12</td><td >144 </td></tr><tr><td>Papa John's </td><td>15 </td><td>165</td></tr>\""
   ]
  },
  {
   "cell_type": "markdown",
   "id": "ed641db2-1ab2-46db-898a-8dd2b28e2bc8",
   "metadata": {},
   "source": [
    "We create a <code>BeautifulSoup</code> object  <code>two_tables_bs</code>\n"
   ]
  },
  {
   "cell_type": "code",
   "execution_count": 102,
   "id": "e437f6d2-ae39-4bdd-b9f4-5b2416cda91c",
   "metadata": {},
   "outputs": [],
   "source": [
    "two_tables_bs= BeautifulSoup(two_tables, 'html.parser')"
   ]
  },
  {
   "cell_type": "code",
   "execution_count": null,
   "metadata": {},
   "outputs": [],
   "source": [
    "print(two_tables_bs.prettify())"
   ]
  },
  {
   "cell_type": "markdown",
   "id": "911828a3-4ed8-41d4-ada5-aa11243caf87",
   "metadata": {},
   "source": [
    "We can find the first table using the tag name table\n"
   ]
  },
  {
   "cell_type": "code",
   "execution_count": 104,
   "id": "9a9e1515-9ce4-4275-86ee-3d42eb7120a3",
   "metadata": {},
   "outputs": [
    {
     "data": {
      "text/plain": [
       "<table class=\"rocket\"><tr><td>Flight No</td><td>Launch site</td> <td>Payload mass</td></tr><tr><td>1</td><td>Florida</td><td>300 kg</td></tr><tr><td>2</td><td>Texas</td><td>94 kg</td></tr><tr><td>3</td><td>Florida </td><td>80 kg</td></tr></table>"
      ]
     },
     "execution_count": 104,
     "metadata": {},
     "output_type": "execute_result"
    }
   ],
   "source": [
    "two_tables_bs.find(\"table\")"
   ]
  },
  {
   "cell_type": "markdown",
   "id": "1c277dd0-4c8f-45ce-92b3-c8b6d65a1380",
   "metadata": {},
   "source": [
    "We can filter on the class attribute to find the second table, but because class is a keyword in Python, we add an underscore.\n"
   ]
  },
  {
   "cell_type": "code",
   "execution_count": 105,
   "id": "0978b25d-cc23-4616-9d7a-1e065158c7d1",
   "metadata": {},
   "outputs": [
    {
     "data": {
      "text/plain": [
       "<table class=\"pizza\"><tr><td>Pizza Place</td><td>Orders</td> <td>Slices </td></tr><tr><td>Domino's Pizza</td><td>10</td><td>100</td></tr><tr><td>Little Caesars</td><td>12</td><td>144 </td></tr><tr><td>Papa John's </td><td>15 </td><td>165</td></tr></table>"
      ]
     },
     "execution_count": 105,
     "metadata": {},
     "output_type": "execute_result"
    }
   ],
   "source": [
    "two_tables_bs.find(\"table\",class_='pizza')"
   ]
  },
  {
   "cell_type": "markdown",
   "id": "1ad7dfb0-2a1a-4fae-8101-dab5f1c4b993",
   "metadata": {},
   "source": [
    "<h2 id=\"DSCW\">Downloading And Scraping The Contents Of A Web Page</h2> \n"
   ]
  },
  {
   "cell_type": "markdown",
   "id": "42907b23-efc9-4b1e-9552-230cd5f90123",
   "metadata": {},
   "source": [
    "We Download the contents of the web page:\n"
   ]
  },
  {
   "cell_type": "code",
   "execution_count": 106,
   "id": "392200f5-8e33-4b71-8e26-76e2200ce161",
   "metadata": {},
   "outputs": [],
   "source": [
    "url = \"https://web.archive.org/web/20230224123642/https://www.ibm.com/us-en/\""
   ]
  },
  {
   "cell_type": "markdown",
   "id": "99373f67-edcc-4809-a555-bd3bd1ead33b",
   "metadata": {},
   "source": [
    "We use <code>get</code> to download the contents of the webpage in text format and store in a variable called <code>data</code>:\n"
   ]
  },
  {
   "cell_type": "code",
   "execution_count": 107,
   "id": "9e0868f0-db29-46ae-96f9-b7fb058ffa88",
   "metadata": {},
   "outputs": [],
   "source": [
    "data  = requests.get(url).text "
   ]
  },
  {
   "cell_type": "markdown",
   "id": "d1161daa-c024-4f4b-b5ea-56e4b2d4bb6e",
   "metadata": {},
   "source": [
    "We create a <code>BeautifulSoup</code> object using the <code>BeautifulSoup</code> constructor\n"
   ]
  },
  {
   "cell_type": "code",
   "execution_count": 108,
   "id": "3fe71ca4-f3ee-470b-a138-d50fdf05467a",
   "metadata": {},
   "outputs": [],
   "source": [
    "soup = BeautifulSoup(data,\"html.parser\")  # create a soup object using the variable 'data'"
   ]
  },
  {
   "cell_type": "code",
   "execution_count": 110,
   "metadata": {},
   "outputs": [
    {
     "name": "stdout",
     "output_type": "stream",
     "text": [
      "<!DOCTYPE html>\n",
      "<html lang=\"en-US\">\n",
      " <head>\n",
      "  <script src=\"//archive.org/includes/athena.js\" type=\"text/javascript\">\n",
      "  </script>\n",
      "  <script type=\"text/javascript\">\n",
      "   window.addEventListener('DOMContentLoaded',function(){var v=archive_analytics.values;v.service='wb';v.server_name='wwwb-app225.us.archive.org';v.server_ms=1220;archive_analytics.send_pageview({});});\n",
      "  </script>\n",
      "  <script charset=\"utf-8\" src=\"https://web-static.archive.org/_static/js/bundle-playback.js?v=1B2M2Y8A\" type=\"text/javascript\">\n",
      "  </script>\n",
      "  <script charset=\"utf-8\" src=\"https://web-static.archive.org/_static/js/wombat.js?v=1B2M2Y8A\" type=\"text/javascript\">\n",
      "  </script>\n",
      "  <script>\n",
      "   window.RufflePlayer=window.RufflePlayer||{};window.RufflePlayer.config={\"autoplay\":\"on\",\"unmuteOverlay\":\"hidden\",\"showSwfDownload\":true};\n",
      "  </script>\n",
      "  <script src=\"https://web-static.archive.org/_static/js/ruffle/ruffle.js\" type=\"text/javascript\">\n",
      "  </script>\n",
      "  <script type=\"text/javascript\">\n",
      "   __wm.init(\"https://web.archive.org/web\");\n",
      "  __wm.wombat(\"https://www.ibm.com/us-en/\",\"20230224123642\",\"https://web.archive.org/\",\"web\",\"https://web-static.archive.org/_static/\",\n",
      "\t      \"1677242202\");\n",
      "  </script>\n",
      "  <link href=\"https://web-static.archive.org/_static/css/banner-styles.css?v=1B2M2Y8A\" rel=\"stylesheet\" type=\"text/css\"/>\n",
      "  <link href=\"https://web-static.archive.org/_static/css/iconochive.css?v=1B2M2Y8A\" rel=\"stylesheet\" type=\"text/css\"/>\n",
      "  <!-- End Wayback Rewrite JS Include -->\n",
      "  <meta content=\"width=device-width\" name=\"viewport\"/>\n",
      "  <meta charset=\"utf-8\"/>\n",
      "  <title>\n",
      "   IBM - United States\n",
      "  </title>\n",
      "  <link href=\"https://web.archive.org/web/20230224123642/https://www.ibm.com/us-en\" rel=\"canonical\"/>\n",
      "  <meta content=\"index,follow\" name=\"robots\"/>\n",
      "  <meta content=\"For more than a century IBM has been dedicated to every client's success and to creating innovations that matter for the world\" name=\"description\"/>\n",
      "  <meta content=\"IBM\" name=\"keywords\"/>\n",
      "  <meta content=\"IE=Edge\" http-equiv=\"X-UA-Compatible\"/>\n",
      "  <meta content=\"no-cache, no-store, must-revalidate\" http-equiv=\"Cache-Control\"/>\n",
      "  <meta content=\"no-cache\" http-equiv=\"Pragma\"/>\n",
      "  <meta content=\"0\" http-equiv=\"Expires\"/>\n",
      "  <link href=\"//web.archive.org/web/20230224123642im_/https://www.ibm.com/favicon.ico\" rel=\"icon\"/>\n",
      "  <meta content=\"^1.38.0\" name=\"ibmdotcom.version.react\"/>\n",
      "  <meta content=\"^1.38.0\" name=\"ibmdotcom.version.styles\"/>\n",
      "  <meta content=\"2023-02-22T18:05:00.504Z\" name=\"ibmdotcom.build.time\"/>\n",
      "  <meta content=\"2015-10-01\" name=\"dcterms.date\"/>\n",
      "  <meta content=\"Â© Copyright IBM Corp. 2020\" name=\"dcterms.rights\"/>\n",
      "  <meta content=\"US\" name=\"geo.country\"/>\n",
      "  <script>\n",
      "   digitalData={\"page\":{\"category\":{\"primaryCategory\":\"SB03\"},\"pageInfo\":{\"effectiveDate\":\"2022-12-15\",\"expiryDate\":\"2027-12-15\",\"language\":\"en-us\",\"publishDate\":\"2022-12-15\",\"publisher\":\"IBM Corporation\",\"version\":\"Carbon:IBM.com Library v1.32.0\",\"ibm\":{\"contentDelivery\":\"Hand coded\",\"contentProducer\":\"Lance Tappana\",\"country\":\"us\",\"industry\":\"ZZ\",\"owner\":\"Corporate Webmaster/New York/IBM\",\"siteID\":\"GLOBAL\",\"subject\":\"IBM000\",\"type\":\"CT052\",\"messaging\":{\"routing\":{\"focusArea\":\"Miscellaneous - Cross IBM\",\"languageCode\":\"en\",\"regionCode\":\"US\"},\"translation\":{\"languageCode\":\"en\",\"regionCode\":\"US\"}}},\"hotjar\":{\"enabled\":0}}}};\n",
      "  </script>\n",
      "  <script>\n",
      "   window.hj=window.hj||function(){(hj.q=hj.q||[]).push(arguments)};\n",
      "            window.hj('tagRecording', ['hjLoaded']);\n",
      "            document.addEventListener('onMegaMenuToggle', e => {\n",
      "              if(e.target.getAttribute(\"data-title\") == 'products-solutions') {\n",
      "                window.hj('trigger', 'MM_products-solutions');\n",
      "              }\n",
      "              if(e.target.getAttribute(\"data-title\") == 'services-consulting') {\n",
      "                window.hj('trigger', 'MM_services-consulting');\n",
      "              }\n",
      "              if(e.target.getAttribute(\"data-title\") == 'learn-support') {\n",
      "                window.hj('trigger', 'MM_learn-support');\n",
      "              }\n",
      "              if(e.target.getAttribute(\"data-title\") == 'explore-more') {\n",
      "                window.hj('trigger', 'MM_explore-more');\n",
      "              }\n",
      "            });\n",
      "  </script>\n",
      "  <script src=\"https://web.archive.org/web/20230224123642jm_/https://1.www.s81c.com/common/carbon-for-ibm-dotcom/tag/v2/alpha/masthead.min.js\" type=\"module\">\n",
      "  </script>\n",
      "  <link href=\"https://web.archive.org/web/20230224123642/https://www.ibm.com/us-en\" hreflang=\"en-us\" rel=\"alternate\"/>\n",
      "  <link href=\"https://web.archive.org/web/20230224123642/https://www.ibm.com/\" hreflang=\"x-default\" rel=\"alternate\"/>\n",
      "  <link href=\"https://web.archive.org/web/20230224123642/https://www.ibm.com/af-en\" hreflang=\"en-af\" rel=\"alternate\"/>\n",
      "  <link href=\"https://web.archive.org/web/20230224123642/https://www.ibm.com/dz-fr\" hreflang=\"fr-dz\" rel=\"alternate\"/>\n",
      "  <link href=\"https://web.archive.org/web/20230224123642/https://www.ibm.com/ao-pt\" hreflang=\"pt-ao\" rel=\"alternate\"/>\n",
      "  <link href=\"https://web.archive.org/web/20230224123642/https://www.ibm.com/ai-en\" hreflang=\"en-ai\" rel=\"alternate\"/>\n",
      "  <link href=\"https://web.archive.org/web/20230224123642/https://www.ibm.com/ag-en\" hreflang=\"en-ag\" rel=\"alternate\"/>\n",
      "  <link href=\"https://web.archive.org/web/20230224123642/https://www.ibm.com/ar-es\" hreflang=\"es-ar\" rel=\"alternate\"/>\n",
      "  <link href=\"https://web.archive.org/web/20230224123642/https://www.ibm.com/aw-en\" hreflang=\"en-aw\" rel=\"alternate\"/>\n",
      "  <link href=\"https://web.archive.org/web/20230224123642/https://www.ibm.com/au-en\" hreflang=\"en-au\" rel=\"alternate\"/>\n",
      "  <link href=\"https://web.archive.org/web/20230224123642/https://www.ibm.com/at-de\" hreflang=\"de-at\" rel=\"alternate\"/>\n",
      "  <link href=\"https://web.archive.org/web/20230224123642/https://www.ibm.com/bs-en\" hreflang=\"en-bs\" rel=\"alternate\"/>\n",
      "  <link href=\"https://web.archive.org/web/20230224123642/https://www.ibm.com/bh-en\" hreflang=\"en-bh\" rel=\"alternate\"/>\n",
      "  <link href=\"https://web.archive.org/web/20230224123642/https://www.ibm.com/bd-en\" hreflang=\"en-bd\" rel=\"alternate\"/>\n",
      "  <link href=\"https://web.archive.org/web/20230224123642/https://www.ibm.com/bb-en\" hreflang=\"en-bb\" rel=\"alternate\"/>\n",
      "  <link href=\"https://web.archive.org/web/20230224123642/https://www.ibm.com/be-en\" hreflang=\"en-be\" rel=\"alternate\"/>\n",
      "  <link href=\"https://web.archive.org/web/20230224123642/https://www.ibm.com/bm-en\" hreflang=\"en-bm\" rel=\"alternate\"/>\n",
      "  <link href=\"https://web.archive.org/web/20230224123642/https://www.ibm.com/bo-es\" hreflang=\"es-bo\" rel=\"alternate\"/>\n",
      "  <link href=\"https://web.archive.org/web/20230224123642/https://www.ibm.com/bw-en\" hreflang=\"en-bw\" rel=\"alternate\"/>\n",
      "  <link href=\"https://web.archive.org/web/20230224123642/https://www.ibm.com/br-pt\" hreflang=\"pt-br\" rel=\"alternate\"/>\n",
      "  <link href=\"https://web.archive.org/web/20230224123642/https://www.ibm.com/vg-en\" hreflang=\"en-vg\" rel=\"alternate\"/>\n",
      "  <link href=\"https://web.archive.org/web/20230224123642/https://www.ibm.com/bn-en\" hreflang=\"en-bn\" rel=\"alternate\"/>\n",
      "  <link href=\"https://web.archive.org/web/20230224123642/https://www.ibm.com/bg-en\" hreflang=\"en-bg\" rel=\"alternate\"/>\n",
      "  <link href=\"https://web.archive.org/web/20230224123642/https://www.ibm.com/bf-fr\" hreflang=\"fr-bf\" rel=\"alternate\"/>\n",
      "  <link href=\"https://web.archive.org/web/20230224123642/https://www.ibm.com/kh-en\" hreflang=\"en-kh\" rel=\"alternate\"/>\n",
      "  <link href=\"https://web.archive.org/web/20230224123642/https://www.ibm.com/cm-fr\" hreflang=\"fr-cm\" rel=\"alternate\"/>\n",
      "  <link href=\"https://web.archive.org/web/20230224123642/https://www.ibm.com/ca-en\" hreflang=\"en-ca\" rel=\"alternate\"/>\n",
      "  <link href=\"https://web.archive.org/web/20230224123642/https://www.ibm.com/ca-fr\" hreflang=\"fr-ca\" rel=\"alternate\"/>\n",
      "  <link href=\"https://web.archive.org/web/20230224123642/https://www.ibm.com/ky-en\" hreflang=\"en-ky\" rel=\"alternate\"/>\n",
      "  <link href=\"https://web.archive.org/web/20230224123642/https://www.ibm.com/td-fr\" hreflang=\"fr-td\" rel=\"alternate\"/>\n",
      "  <link href=\"https://web.archive.org/web/20230224123642/https://www.ibm.com/cl-es\" hreflang=\"es-cl\" rel=\"alternate\"/>\n",
      "  <link href=\"https://web.archive.org/web/20230224123642/https://www.ibm.com/cn-zh\" hreflang=\"zh-cn\" rel=\"alternate\"/>\n",
      "  <link href=\"https://web.archive.org/web/20230224123642/https://www.ibm.com/co-es\" hreflang=\"es-co\" rel=\"alternate\"/>\n",
      "  <link href=\"https://web.archive.org/web/20230224123642/https://www.ibm.com/cd-fr\" hreflang=\"fr-cd\" rel=\"alternate\"/>\n",
      "  <link href=\"https://web.archive.org/web/20230224123642/https://www.ibm.com/cg-fr\" hreflang=\"fr-cg\" rel=\"alternate\"/>\n",
      "  <link href=\"https://web.archive.org/web/20230224123642/https://www.ibm.com/cr-es\" hreflang=\"es-cr\" rel=\"alternate\"/>\n",
      "  <link href=\"https://web.archive.org/web/20230224123642/https://www.ibm.com/hr-en\" hreflang=\"en-hr\" rel=\"alternate\"/>\n",
      "  <link href=\"https://web.archive.org/web/20230224123642/https://www.ibm.com/cw-en\" hreflang=\"en-cw\" rel=\"alternate\"/>\n",
      "  <link href=\"https://web.archive.org/web/20230224123642/https://www.ibm.com/cy-en\" hreflang=\"en-cy\" rel=\"alternate\"/>\n",
      "  <link href=\"https://web.archive.org/web/20230224123642/https://www.ibm.com/cz-en\" hreflang=\"en-cz\" rel=\"alternate\"/>\n",
      "  <link href=\"https://web.archive.org/web/20230224123642/https://www.ibm.com/dm-en\" hreflang=\"en-dm\" rel=\"alternate\"/>\n",
      "  <link href=\"https://web.archive.org/web/20230224123642/https://www.ibm.com/dk-en\" hreflang=\"en-dk\" rel=\"alternate\"/>\n",
      "  <link href=\"https://web.archive.org/web/20230224123642/https://www.ibm.com/ec-es\" hreflang=\"es-ec\" rel=\"alternate\"/>\n",
      "  <link href=\"https://web.archive.org/web/20230224123642/https://www.ibm.com/eg-en\" hreflang=\"en-eg\" rel=\"alternate\"/>\n",
      "  <link href=\"https://web.archive.org/web/20230224123642/https://www.ibm.com/ee-en\" hreflang=\"en-ee\" rel=\"alternate\"/>\n",
      "  <link href=\"https://web.archive.org/web/20230224123642/https://www.ibm.com/et-en\" hreflang=\"en-et\" rel=\"alternate\"/>\n",
      "  <link href=\"https://web.archive.org/web/20230224123642/https://www.ibm.com/fi-en\" hreflang=\"en-fi\" rel=\"alternate\"/>\n",
      "  <link href=\"https://web.archive.org/web/20230224123642/https://www.ibm.com/fr-fr\" hreflang=\"fr-fr\" rel=\"alternate\"/>\n",
      "  <link href=\"https://web.archive.org/web/20230224123642/https://www.ibm.com/ga-fr\" hreflang=\"fr-ga\" rel=\"alternate\"/>\n",
      "  <link href=\"https://web.archive.org/web/20230224123642/https://www.ibm.com/de-de\" hreflang=\"de-de\" rel=\"alternate\"/>\n",
      "  <link href=\"https://web.archive.org/web/20230224123642/https://www.ibm.com/gh-en\" hreflang=\"en-gh\" rel=\"alternate\"/>\n",
      "  <link href=\"https://web.archive.org/web/20230224123642/https://www.ibm.com/gr-en\" hreflang=\"en-gr\" rel=\"alternate\"/>\n",
      "  <link href=\"https://web.archive.org/web/20230224123642/https://www.ibm.com/gd-en\" hreflang=\"en-gd\" rel=\"alternate\"/>\n",
      "  <link href=\"https://web.archive.org/web/20230224123642/https://www.ibm.com/gy-en\" hreflang=\"en-gy\" rel=\"alternate\"/>\n",
      "  <link href=\"https://web.archive.org/web/20230224123642/https://www.ibm.com/hk-en\" hreflang=\"en-hk\" rel=\"alternate\"/>\n",
      "  <link href=\"https://web.archive.org/web/20230224123642/https://www.ibm.com/hu-en\" hreflang=\"en-hu\" rel=\"alternate\"/>\n",
      "  <link href=\"https://web.archive.org/web/20230224123642/https://www.ibm.com/in-en\" hreflang=\"en-in\" rel=\"alternate\"/>\n",
      "  <link href=\"https://web.archive.org/web/20230224123642/https://www.ibm.com/id-en\" hreflang=\"en-id\" rel=\"alternate\"/>\n",
      "  <link href=\"https://web.archive.org/web/20230224123642/https://www.ibm.com/iq-en\" hreflang=\"en-iq\" rel=\"alternate\"/>\n",
      "  <link href=\"https://web.archive.org/web/20230224123642/https://www.ibm.com/ie-en\" hreflang=\"en-ie\" rel=\"alternate\"/>\n",
      "  <link href=\"https://web.archive.org/web/20230224123642/https://www.ibm.com/il-en\" hreflang=\"en-il\" rel=\"alternate\"/>\n",
      "  <link href=\"https://web.archive.org/web/20230224123642/https://www.ibm.com/it-it\" hreflang=\"it-it\" rel=\"alternate\"/>\n",
      "  <link href=\"https://web.archive.org/web/20230224123642/https://www.ibm.com/ci-fr\" hreflang=\"fr-ci\" rel=\"alternate\"/>\n",
      "  <link href=\"https://web.archive.org/web/20230224123642/https://www.ibm.com/jm-en\" hreflang=\"en-jm\" rel=\"alternate\"/>\n",
      "  <link href=\"https://web.archive.org/web/20230224123642/https://www.ibm.com/jp-ja\" hreflang=\"ja-jp\" rel=\"alternate\"/>\n",
      "  <link href=\"https://web.archive.org/web/20230224123642/https://www.ibm.com/jo-en\" hreflang=\"en-jo\" rel=\"alternate\"/>\n",
      "  <link href=\"https://web.archive.org/web/20230224123642/https://www.ibm.com/kz-en\" hreflang=\"en-kz\" rel=\"alternate\"/>\n",
      "  <link href=\"https://web.archive.org/web/20230224123642/https://www.ibm.com/ke-en\" hreflang=\"en-ke\" rel=\"alternate\"/>\n",
      "  <link href=\"https://web.archive.org/web/20230224123642/https://www.ibm.com/kr-ko\" hreflang=\"ko-kr\" rel=\"alternate\"/>\n",
      "  <link href=\"https://web.archive.org/web/20230224123642/https://www.ibm.com/kw-en\" hreflang=\"en-kw\" rel=\"alternate\"/>\n",
      "  <link href=\"https://web.archive.org/web/20230224123642/https://www.ibm.com/lv-en\" hreflang=\"en-lv\" rel=\"alternate\"/>\n",
      "  <link href=\"https://web.archive.org/web/20230224123642/https://www.ibm.com/lb-en\" hreflang=\"en-lb\" rel=\"alternate\"/>\n",
      "  <link href=\"https://web.archive.org/web/20230224123642/https://www.ibm.com/ly-en\" hreflang=\"en-ly\" rel=\"alternate\"/>\n",
      "  <link href=\"https://web.archive.org/web/20230224123642/https://www.ibm.com/lt-en\" hreflang=\"en-lt\" rel=\"alternate\"/>\n",
      "  <link href=\"https://web.archive.org/web/20230224123642/https://www.ibm.com/mw-en\" hreflang=\"en-mw\" rel=\"alternate\"/>\n",
      "  <link href=\"https://web.archive.org/web/20230224123642/https://www.ibm.com/my-en\" hreflang=\"en-my\" rel=\"alternate\"/>\n",
      "  <link href=\"https://web.archive.org/web/20230224123642/https://www.ibm.com/mu-fr\" hreflang=\"fr-mu\" rel=\"alternate\"/>\n",
      "  <link href=\"https://web.archive.org/web/20230224123642/https://www.ibm.com/mx-es\" hreflang=\"es-mx\" rel=\"alternate\"/>\n",
      "  <link href=\"https://web.archive.org/web/20230224123642/https://www.ibm.com/ms-en\" hreflang=\"en-ms\" rel=\"alternate\"/>\n",
      "  <link href=\"https://web.archive.org/web/20230224123642/https://www.ibm.com/ma-fr\" hreflang=\"fr-ma\" rel=\"alternate\"/>\n",
      "  <link href=\"https://web.archive.org/web/20230224123642/https://www.ibm.com/mz-pt\" hreflang=\"pt-mz\" rel=\"alternate\"/>\n",
      "  <link href=\"https://web.archive.org/web/20230224123642/https://www.ibm.com/na-en\" hreflang=\"en-na\" rel=\"alternate\"/>\n",
      "  <link href=\"https://web.archive.org/web/20230224123642/https://www.ibm.com/np-en\" hreflang=\"en-np\" rel=\"alternate\"/>\n",
      "  <link href=\"https://web.archive.org/web/20230224123642/https://www.ibm.com/nl-en\" hreflang=\"en-nl\" rel=\"alternate\"/>\n",
      "  <link href=\"https://web.archive.org/web/20230224123642/https://www.ibm.com/nz-en\" hreflang=\"en-nz\" rel=\"alternate\"/>\n",
      "  <link href=\"https://web.archive.org/web/20230224123642/https://www.ibm.com/ne-fr\" hreflang=\"fr-ne\" rel=\"alternate\"/>\n",
      "  <link href=\"https://web.archive.org/web/20230224123642/https://www.ibm.com/ng-en\" hreflang=\"en-ng\" rel=\"alternate\"/>\n",
      "  <link href=\"https://web.archive.org/web/20230224123642/https://www.ibm.com/no-en\" hreflang=\"en-no\" rel=\"alternate\"/>\n",
      "  <link href=\"https://web.archive.org/web/20230224123642/https://www.ibm.com/om-en\" hreflang=\"en-om\" rel=\"alternate\"/>\n",
      "  <link href=\"https://web.archive.org/web/20230224123642/https://www.ibm.com/pk-en\" hreflang=\"en-pk\" rel=\"alternate\"/>\n",
      "  <link href=\"https://web.archive.org/web/20230224123642/https://www.ibm.com/py-es\" hreflang=\"es-py\" rel=\"alternate\"/>\n",
      "  <link href=\"https://web.archive.org/web/20230224123642/https://www.ibm.com/pe-es\" hreflang=\"es-pe\" rel=\"alternate\"/>\n",
      "  <link href=\"https://web.archive.org/web/20230224123642/https://www.ibm.com/ph-en\" hreflang=\"en-ph\" rel=\"alternate\"/>\n",
      "  <link href=\"https://web.archive.org/web/20230224123642/https://www.ibm.com/pl-pl\" hreflang=\"pl-pl\" rel=\"alternate\"/>\n",
      "  <link href=\"https://web.archive.org/web/20230224123642/https://www.ibm.com/pt-en\" hreflang=\"en-pt\" rel=\"alternate\"/>\n",
      "  <link href=\"https://web.archive.org/web/20230224123642/https://www.ibm.com/qa-en\" hreflang=\"en-qa\" rel=\"alternate\"/>\n",
      "  <link href=\"https://web.archive.org/web/20230224123642/https://www.ibm.com/ro-en\" hreflang=\"en-ro\" rel=\"alternate\"/>\n",
      "  <link href=\"https://web.archive.org/web/20230224123642/https://www.ibm.com/ru-ru\" hreflang=\"ru-ru\" rel=\"alternate\"/>\n",
      "  <link href=\"https://web.archive.org/web/20230224123642/https://www.ibm.com/kn-en\" hreflang=\"en-kn\" rel=\"alternate\"/>\n",
      "  <link href=\"https://web.archive.org/web/20230224123642/https://www.ibm.com/lc-en\" hreflang=\"en-lc\" rel=\"alternate\"/>\n",
      "  <link href=\"https://web.archive.org/web/20230224123642/https://www.ibm.com/vc-en\" hreflang=\"en-vc\" rel=\"alternate\"/>\n",
      "  <link href=\"https://web.archive.org/web/20230224123642/https://www.ibm.com/sa-en\" hreflang=\"en-sa\" rel=\"alternate\"/>\n",
      "  <link href=\"https://web.archive.org/web/20230224123642/https://www.ibm.com/sn-fr\" hreflang=\"fr-sn\" rel=\"alternate\"/>\n",
      "  <link href=\"https://web.archive.org/web/20230224123642/https://www.ibm.com/rs-en\" hreflang=\"en-rs\" rel=\"alternate\"/>\n",
      "  <link href=\"https://web.archive.org/web/20230224123642/https://www.ibm.com/sc-fr\" hreflang=\"fr-sc\" rel=\"alternate\"/>\n",
      "  <link href=\"https://web.archive.org/web/20230224123642/https://www.ibm.com/sl-en\" hreflang=\"en-sl\" rel=\"alternate\"/>\n",
      "  <link href=\"https://web.archive.org/web/20230224123642/https://www.ibm.com/sg-en\" hreflang=\"en-sg\" rel=\"alternate\"/>\n",
      "  <link href=\"https://web.archive.org/web/20230224123642/https://www.ibm.com/sk-en\" hreflang=\"en-sk\" rel=\"alternate\"/>\n",
      "  <link href=\"https://web.archive.org/web/20230224123642/https://www.ibm.com/si-en\" hreflang=\"en-si\" rel=\"alternate\"/>\n",
      "  <link href=\"https://web.archive.org/web/20230224123642/https://www.ibm.com/za-en\" hreflang=\"en-za\" rel=\"alternate\"/>\n",
      "  <link href=\"https://web.archive.org/web/20230224123642/https://www.ibm.com/es-es\" hreflang=\"es-es\" rel=\"alternate\"/>\n",
      "  <link href=\"https://web.archive.org/web/20230224123642/https://www.ibm.com/lk-en\" hreflang=\"en-lk\" rel=\"alternate\"/>\n",
      "  <link href=\"https://web.archive.org/web/20230224123642/https://www.ibm.com/sr-en\" hreflang=\"en-sr\" rel=\"alternate\"/>\n",
      "  <link href=\"https://web.archive.org/web/20230224123642/https://www.ibm.com/se-en\" hreflang=\"en-se\" rel=\"alternate\"/>\n",
      "  <link href=\"https://web.archive.org/web/20230224123642/https://www.ibm.com/ch-fr\" hreflang=\"fr-ch\" rel=\"alternate\"/>\n",
      "  <link href=\"https://web.archive.org/web/20230224123642/https://www.ibm.com/ch-de\" hreflang=\"de-ch\" rel=\"alternate\"/>\n",
      "  <link href=\"https://web.archive.org/web/20230224123642/https://www.ibm.com/tw-zh\" hreflang=\"zh-tw\" rel=\"alternate\"/>\n",
      "  <link href=\"https://web.archive.org/web/20230224123642/https://www.ibm.com/tz-en\" hreflang=\"en-tz\" rel=\"alternate\"/>\n",
      "  <link href=\"https://web.archive.org/web/20230224123642/https://www.ibm.com/th-en\" hreflang=\"en-th\" rel=\"alternate\"/>\n",
      "  <link href=\"https://web.archive.org/web/20230224123642/https://www.ibm.com/tt-en\" hreflang=\"en-tt\" rel=\"alternate\"/>\n",
      "  <link href=\"https://web.archive.org/web/20230224123642/https://www.ibm.com/tn-fr\" hreflang=\"fr-tn\" rel=\"alternate\"/>\n",
      "  <link href=\"https://web.archive.org/web/20230224123642/https://www.ibm.com/tr-tr\" hreflang=\"tr-tr\" rel=\"alternate\"/>\n",
      "  <link href=\"https://web.archive.org/web/20230224123642/https://www.ibm.com/ye-en\" hreflang=\"en-ye\" rel=\"alternate\"/>\n",
      "  <link href=\"https://web.archive.org/web/20230224123642/https://www.ibm.com/tc-en\" hreflang=\"en-tc\" rel=\"alternate\"/>\n",
      "  <link href=\"https://web.archive.org/web/20230224123642/https://www.ibm.com/ua-en\" hreflang=\"en-ua\" rel=\"alternate\"/>\n",
      "  <link href=\"https://web.archive.org/web/20230224123642/https://www.ibm.com/ug-en\" hreflang=\"en-ug\" rel=\"alternate\"/>\n",
      "  <link href=\"https://web.archive.org/web/20230224123642/https://www.ibm.com/ae-en\" hreflang=\"en-ae\" rel=\"alternate\"/>\n",
      "  <link href=\"https://web.archive.org/web/20230224123642/https://www.ibm.com/uk-en\" hreflang=\"en-gb\" rel=\"alternate\"/>\n",
      "  <link href=\"https://web.archive.org/web/20230224123642/https://www.ibm.com/uy-es\" hreflang=\"es-uy\" rel=\"alternate\"/>\n",
      "  <link href=\"https://web.archive.org/web/20230224123642/https://www.ibm.com/uz-en\" hreflang=\"en-uz\" rel=\"alternate\"/>\n",
      "  <link href=\"https://web.archive.org/web/20230224123642/https://www.ibm.com/ve-es\" hreflang=\"es-ve\" rel=\"alternate\"/>\n",
      "  <link href=\"https://web.archive.org/web/20230224123642/https://www.ibm.com/vn-en\" hreflang=\"en-vn\" rel=\"alternate\"/>\n",
      "  <link href=\"https://web.archive.org/web/20230224123642/https://www.ibm.com/zm-en\" hreflang=\"en-zm\" rel=\"alternate\"/>\n",
      "  <link href=\"https://web.archive.org/web/20230224123642/https://www.ibm.com/zw-en\" hreflang=\"en-zw\" rel=\"alternate\"/>\n",
      "  <meta content=\"155\" name=\"next-head-count\"/>\n",
      "  <link as=\"style\" href=\"./_next/static/css/styles.00ad75a6.chunk.css\" rel=\"preload\"/>\n",
      "  <link data-n-g=\"\" href=\"/web/20230224123642cs_/https://www.ibm.com/us-en/_next/static/css/styles.00ad75a6.chunk.css\" rel=\"stylesheet\"/>\n",
      "  <noscript data-n-css=\"\">\n",
      "  </noscript>\n",
      "  <link as=\"script\" href=\"./_next/static/chunks/webpack-9a6e2dd34947de61505d.js\" rel=\"preload\"/>\n",
      "  <link as=\"script\" href=\"./_next/static/chunks/framework.602aaa49e9cf44108ea4.js\" rel=\"preload\"/>\n",
      "  <link as=\"script\" href=\"./_next/static/chunks/commons.56cd7ef778495da405ee.js\" rel=\"preload\"/>\n",
      "  <link as=\"script\" href=\"./_next/static/chunks/3ef630e34cd10ba68f9d468ac363ff81c534e1e9.d2f601340e1658353edc.js\" rel=\"preload\"/>\n",
      "  <link as=\"script\" href=\"./_next/static/chunks/main-51700067fcf16cbe3818.js\" rel=\"preload\"/>\n",
      "  <link as=\"script\" href=\"./_next/static/chunks/styles.3461e1160e1b06bf3496.js\" rel=\"preload\"/>\n",
      "  <link as=\"script\" href=\"./_next/static/chunks/pages/_app-692f4737856e6f61cf41.js\" rel=\"preload\"/>\n",
      "  <link as=\"script\" href=\"./_next/static/chunks/1c920f04.f4270e422fa8c16ba0f4.js\" rel=\"preload\"/>\n",
      "  <link as=\"script\" href=\"./_next/static/chunks/5f6bb6fb.63224c0f3a7ce047c8e2.js\" rel=\"preload\"/>\n",
      "  <link as=\"script\" href=\"./_next/static/chunks/8f19d780.9518ac89ebf3ed164ec7.js\" rel=\"preload\"/>\n",
      "  <link as=\"script\" href=\"./_next/static/chunks/8edc3fe5.f57e384a441d6dc22242.js\" rel=\"preload\"/>\n",
      "  <link as=\"script\" href=\"./_next/static/chunks/fc20e1c4.d98d23767340a1237305.js\" rel=\"preload\"/>\n",
      "  <link as=\"script\" href=\"./_next/static/chunks/a37fbe3b.f465653335f45cc0fa1b.js\" rel=\"preload\"/>\n",
      "  <link as=\"script\" href=\"./_next/static/chunks/bc80632e.7250d666a9b091e0e0e4.js\" rel=\"preload\"/>\n",
      "  <link as=\"script\" href=\"./_next/static/chunks/1dd0fb51.f16e33f7e2db3449d18e.js\" rel=\"preload\"/>\n",
      "  <link as=\"script\" href=\"./_next/static/chunks/56b0df7b.a548554a4a80dea8f00a.js\" rel=\"preload\"/>\n",
      "  <link as=\"script\" href=\"./_next/static/chunks/b222b98b.ebaff15e961fd9a66fec.js\" rel=\"preload\"/>\n",
      "  <link as=\"script\" href=\"./_next/static/chunks/500f7593.4b01426721d5ac82f9ba.js\" rel=\"preload\"/>\n",
      "  <link as=\"script\" href=\"./_next/static/chunks/5d8d49e442f4e00190cb1a13966c1f91ed87c0f4.c5cea6b9909ecf9bea26.js\" rel=\"preload\"/>\n",
      "  <link as=\"script\" href=\"./_next/static/chunks/11.f003844d8f71e73157c2.js\" rel=\"preload\"/>\n",
      "  <link as=\"script\" href=\"./_next/static/chunks/pages/index-6fa402b7cf0ac5e5bee1.js\" rel=\"preload\"/>\n",
      " </head>\n",
      " <body>\n",
      "  <!-- BEGIN WAYBACK TOOLBAR INSERT -->\n",
      "  <script>\n",
      "   __wm.rw(0);\n",
      "  </script>\n",
      "  <div id=\"wm-ipp-base\" lang=\"en\" style=\"display:none;direction:ltr;\" toolbar-mode=\"auto\">\n",
      "   <div id=\"wm-ipp\" style=\"position:fixed;left:0;top:0;right:0;\">\n",
      "    <div id=\"donato\" style=\"position:relative;width:100%;height:0;\">\n",
      "     <div id=\"donato-base\">\n",
      "      <iframe frameborder=\"0\" id=\"donato-if\" scrolling=\"no\" src=\"https://archive.org/includes/donate.php?as_page=1&amp;platform=wb&amp;referer=https%3A//web.archive.org/web/20230224123642/https%3A//www.ibm.com/us-en/\" style=\"width:100%; height:100%\">\n",
      "      </iframe>\n",
      "     </div>\n",
      "    </div>\n",
      "    <div id=\"wm-ipp-inside\">\n",
      "     <div id=\"wm-toolbar\" style=\"position:relative;display:flex;flex-flow:row nowrap;justify-content:space-between;\">\n",
      "      <div id=\"wm-logo\" style=\"/*width:110px;*/padding-top:12px;\">\n",
      "       <a href=\"/web/\" title=\"Wayback Machine home page\">\n",
      "        <img alt=\"Wayback Machine\" border=\"0\" src=\"https://web-static.archive.org/_static/images/toolbar/wayback-toolbar-logo-200.png\" srcset=\"https://web-static.archive.org/_static/images/toolbar/wayback-toolbar-logo-100.png, https://web-static.archive.org/_static/images/toolbar/wayback-toolbar-logo-150.png 1.5x, https://web-static.archive.org/_static/images/toolbar/wayback-toolbar-logo-200.png 2x\" style=\"width:100px\"/>\n",
      "       </a>\n",
      "      </div>\n",
      "      <div class=\"c\" style=\"display:flex;flex-flow:column nowrap;justify-content:space-between;flex:1;\">\n",
      "       <form action=\"/web/submit\" class=\"u\" id=\"wmtb\" method=\"get\" name=\"wmtb\" style=\"display:flex;flex-direction:row;flex-wrap:nowrap;\" target=\"_top\">\n",
      "        <input id=\"wmtbURL\" name=\"url\" onfocus=\"this.focus();this.select();\" style=\"flex:1;\" type=\"text\" value=\"https://www.ibm.com/us-en/\"/>\n",
      "        <input name=\"type\" type=\"hidden\" value=\"replay\"/>\n",
      "        <input name=\"date\" type=\"hidden\" value=\"20230224123642\"/>\n",
      "        <input type=\"submit\" value=\"Go\"/>\n",
      "       </form>\n",
      "       <div style=\"display:flex;flex-flow:row nowrap;align-items:flex-end;\">\n",
      "        <div class=\"s\" id=\"wm-nav-captures\" style=\"flex:1;\">\n",
      "        </div>\n",
      "        <div class=\"k\">\n",
      "         <a href=\"\" id=\"wm-graph-anchor\">\n",
      "          <div id=\"wm-ipp-sparkline\" style=\"position: relative\" title=\"Explore captures for this URL\">\n",
      "           <canvas border=\"0\" height=\"27\" id=\"wm-sparkline-canvas\" width=\"750\">\n",
      "           </canvas>\n",
      "          </div>\n",
      "         </a>\n",
      "        </div>\n",
      "       </div>\n",
      "      </div>\n",
      "      <div class=\"n\">\n",
      "       <table>\n",
      "        <tbody>\n",
      "         <!-- NEXT/PREV MONTH NAV AND MONTH INDICATOR -->\n",
      "         <tr class=\"m\">\n",
      "          <td class=\"b\" nowrap=\"nowrap\">\n",
      "           <a href=\"https://web.archive.org/web/20230123202556/https://www.ibm.com/us-en/\" title=\"23 Jan 2023\">\n",
      "            <strong>\n",
      "             Jan\n",
      "            </strong>\n",
      "           </a>\n",
      "          </td>\n",
      "          <td class=\"c\" id=\"displayMonthEl\" title=\"You are here: 12:36:42 Feb 24, 2023\">\n",
      "           FEB\n",
      "          </td>\n",
      "          <td class=\"f\" nowrap=\"nowrap\">\n",
      "           <a href=\"https://web.archive.org/web/20230324161647/https://www.ibm.com/us-en/\" title=\"24 Mar 2023\">\n",
      "            <strong>\n",
      "             Mar\n",
      "            </strong>\n",
      "           </a>\n",
      "          </td>\n",
      "         </tr>\n",
      "         <!-- NEXT/PREV CAPTURE NAV AND DAY OF MONTH INDICATOR -->\n",
      "         <tr class=\"d\">\n",
      "          <td class=\"b\" nowrap=\"nowrap\">\n",
      "           <a href=\"https://web.archive.org/web/20230223123029/https://www.ibm.com/us-en/\" title=\"12:30:29 Feb 23, 2023\">\n",
      "            <img alt=\"Previous capture\" border=\"0\" height=\"16\" src=\"https://web-static.archive.org/_static/images/toolbar/wm_tb_prv_on.png\" width=\"14\"/>\n",
      "           </a>\n",
      "          </td>\n",
      "          <td class=\"c\" id=\"displayDayEl\" style=\"width:34px;font-size:22px;white-space:nowrap;\" title=\"You are here: 12:36:42 Feb 24, 2023\">\n",
      "           24\n",
      "          </td>\n",
      "          <td class=\"f\" nowrap=\"nowrap\">\n",
      "           <a href=\"https://web.archive.org/web/20230225131444/https://www.ibm.com/us-en\" title=\"13:14:44 Feb 25, 2023\">\n",
      "            <img alt=\"Next capture\" border=\"0\" height=\"16\" src=\"https://web-static.archive.org/_static/images/toolbar/wm_tb_nxt_on.png\" width=\"14\"/>\n",
      "           </a>\n",
      "          </td>\n",
      "         </tr>\n",
      "         <!-- NEXT/PREV YEAR NAV AND YEAR INDICATOR -->\n",
      "         <tr class=\"y\">\n",
      "          <td class=\"b\" nowrap=\"nowrap\">\n",
      "           <a href=\"https://web.archive.org/web/20220224100443/https://www.ibm.com/us-en/\" title=\"24 Feb 2022\">\n",
      "            <strong>\n",
      "             2022\n",
      "            </strong>\n",
      "           </a>\n",
      "          </td>\n",
      "          <td class=\"c\" id=\"displayYearEl\" title=\"You are here: 12:36:42 Feb 24, 2023\">\n",
      "           2023\n",
      "          </td>\n",
      "          <td class=\"f\" nowrap=\"nowrap\">\n",
      "           <a href=\"https://web.archive.org/web/20240224144819/https://www.ibm.com/us-en\" title=\"24 Feb 2024\">\n",
      "            <strong>\n",
      "             2024\n",
      "            </strong>\n",
      "           </a>\n",
      "          </td>\n",
      "         </tr>\n",
      "        </tbody>\n",
      "       </table>\n",
      "      </div>\n",
      "      <div class=\"r\" style=\"display:flex;flex-flow:column nowrap;align-items:flex-end;justify-content:space-between;\">\n",
      "       <div id=\"wm-btns\" style=\"text-align:right;height:23px;\">\n",
      "        <span class=\"xxs\">\n",
      "         <div id=\"wm-save-snapshot-success\">\n",
      "          success\n",
      "         </div>\n",
      "         <div id=\"wm-save-snapshot-fail\">\n",
      "          fail\n",
      "         </div>\n",
      "         <a href=\"#\" id=\"wm-save-snapshot-open\" title=\"Share via My Web Archive\">\n",
      "          <span class=\"iconochive-web\">\n",
      "          </span>\n",
      "         </a>\n",
      "         <a href=\"https://archive.org/account/login.php\" id=\"wm-sign-in\" title=\"Sign In\">\n",
      "          <span class=\"iconochive-person\">\n",
      "          </span>\n",
      "         </a>\n",
      "         <span class=\"iconochive-web\" id=\"wm-save-snapshot-in-progress\">\n",
      "         </span>\n",
      "        </span>\n",
      "        <a class=\"xxs\" href=\"http://faq.web.archive.org/\" style=\"top:-6px;\" title=\"Get some help using the Wayback Machine\">\n",
      "         <span class=\"iconochive-question\" style=\"color:rgb(87,186,244);font-size:160%;\">\n",
      "         </span>\n",
      "        </a>\n",
      "        <a href=\"#close\" id=\"wm-tb-close\" style=\"top:-2px;\" title=\"Close the toolbar\">\n",
      "         <span class=\"iconochive-remove-circle\" style=\"color:#888888;font-size:240%;\">\n",
      "         </span>\n",
      "        </a>\n",
      "       </div>\n",
      "       <div class=\"xxs\" id=\"wm-share\">\n",
      "        <a href=\"/web/20230224123642/http://web.archive.org/screenshot/https://www.ibm.com/us-en/\" id=\"wm-screenshot\" title=\"screenshot\">\n",
      "         <span class=\"wm-icon-screen-shot\">\n",
      "         </span>\n",
      "        </a>\n",
      "        <a href=\"#\" id=\"wm-video\" title=\"video\">\n",
      "         <span class=\"iconochive-movies\">\n",
      "         </span>\n",
      "        </a>\n",
      "        <a data-url=\"https://web.archive.org/web/20230224123642/https://www.ibm.com/us-en/\" href=\"#\" id=\"wm-share-facebook\" style=\"margin-right:5px;\" target=\"_blank\" title=\"Share on Facebook\">\n",
      "         <span class=\"iconochive-facebook\" style=\"color:#3b5998;font-size:160%;\">\n",
      "         </span>\n",
      "        </a>\n",
      "        <a data-url=\"https://web.archive.org/web/20230224123642/https://www.ibm.com/us-en/\" href=\"#\" id=\"wm-share-twitter\" style=\"margin-right:5px;\" target=\"_blank\" title=\"Share on Twitter\">\n",
      "         <span class=\"iconochive-twitter\" style=\"color:#1dcaff;font-size:160%;\">\n",
      "         </span>\n",
      "        </a>\n",
      "       </div>\n",
      "       <div style=\"padding-right:2px;text-align:right;white-space:nowrap;\">\n",
      "        <a class=\"wm-btn wm-closed\" href=\"#expand\" id=\"wm-expand\">\n",
      "         <span class=\"iconochive-down-solid\" id=\"wm-expand-icon\">\n",
      "         </span>\n",
      "         <span class=\"xxs\" style=\"font-size:80%;\">\n",
      "          About this capture\n",
      "         </span>\n",
      "        </a>\n",
      "       </div>\n",
      "      </div>\n",
      "     </div>\n",
      "     <div id=\"wm-capinfo\" style=\"border-top:1px solid #777;display:none; overflow: hidden\">\n",
      "      <div id=\"wm-capinfo-notice\" source=\"api\">\n",
      "      </div>\n",
      "      <div id=\"wm-capinfo-collected-by\">\n",
      "       <div style=\"background-color:#666;color:#fff;font-weight:bold;text-align:center\">\n",
      "        COLLECTED BY\n",
      "       </div>\n",
      "       <div id=\"wm-collected-by-content\" style=\"padding:3px;position:relative\">\n",
      "        <div style=\"display:inline-block;vertical-align:top;width:50%;\">\n",
      "         <span class=\"c-logo\" style=\"background-image:url(https://archive.org/services/img/focused_crawls);\">\n",
      "         </span>\n",
      "         Organization:\n",
      "         <a href=\"https://archive.org/details/focused_crawls\" style=\"color:#33f;\" target=\"_new\">\n",
      "          <span class=\"wm-title\">\n",
      "           Internet Archive\n",
      "          </span>\n",
      "         </a>\n",
      "         <div style=\"max-height:75px;overflow:hidden;position:relative;\">\n",
      "          <div style=\"position:absolute;top:0;left:0;width:100%;height:75px;background:linear-gradient(to bottom,rgba(255,255,255,0) 0%,rgba(255,255,255,0) 90%,rgba(255,255,255,255) 100%);\">\n",
      "          </div>\n",
      "          Focused crawls are collections of frequently-updated webcrawl data from narrow (as opposed to broad or wide) web crawls, often focused on a single domain or subdomain.\n",
      "          <br/>\n",
      "         </div>\n",
      "        </div>\n",
      "        <div style=\"display:inline-block;vertical-align:top;width:49%;\">\n",
      "         <span class=\"c-logo\" style=\"background-image:url(https://archive.org/services/img/top_domains-00700)\">\n",
      "         </span>\n",
      "         <div>\n",
      "          Collection:\n",
      "          <a href=\"https://archive.org/details/top_domains-00700\" style=\"color:#33f;\" target=\"_new\">\n",
      "           <span class=\"wm-title\">\n",
      "            top_domains-00700\n",
      "           </span>\n",
      "          </a>\n",
      "         </div>\n",
      "        </div>\n",
      "       </div>\n",
      "      </div>\n",
      "      <div id=\"wm-capinfo-timestamps\">\n",
      "       <div style=\"background-color:#666;color:#fff;font-weight:bold;text-align:center\" title=\"Timestamps for the elements of this page\">\n",
      "        TIMESTAMPS\n",
      "       </div>\n",
      "       <div>\n",
      "        <div id=\"wm-capresources\" style=\"margin:0 5px 5px 5px;max-height:250px;overflow-y:scroll !important\">\n",
      "        </div>\n",
      "        <div id=\"wm-capresources-loading\" style=\"text-align:left;margin:0 20px 5px 5px;display:none\">\n",
      "         <img alt=\"loading\" src=\"https://web-static.archive.org/_static/images/loading.gif\"/>\n",
      "        </div>\n",
      "       </div>\n",
      "      </div>\n",
      "     </div>\n",
      "    </div>\n",
      "   </div>\n",
      "  </div>\n",
      "  <div id=\"wm-ipp-print\">\n",
      "   The Wayback Machine - https://web.archive.org/web/20230224123642/https://www.ibm.com/us-en/\n",
      "  </div>\n",
      "  <script type=\"text/javascript\">\n",
      "   //<![CDATA[\n",
      "__wm.bt(750,27,25,2,\"web\",\"https://www.ibm.com/us-en/\",\"20230224123642\",1996,\"https://web-static.archive.org/_static/\",[\"https://web-static.archive.org/_static/css/banner-styles.css?v=1B2M2Y8A\",\"https://web-static.archive.org/_static/css/iconochive.css?v=1B2M2Y8A\"], false);\n",
      "  __wm.rw(1);\n",
      "//]]>\n",
      "  </script>\n",
      "  <!-- END WAYBACK TOOLBAR INSERT -->\n",
      "  <div id=\"__next\">\n",
      "   <div>\n",
      "    <div class=\"bx--dotcom-shell\">\n",
      "     <main class=\"dds-ce-demo--ui-shell-content\">\n",
      "      <div>\n",
      "       <dds-masthead-container auth-method=\"profile-api\" data-endpoint=\"/common/carbon-for-ibm-dotcom/translations/masthead-footer/v2\" has-contact=\"false\">\n",
      "       </dds-masthead-container>\n",
      "      </div>\n",
      "      <div class=\"newsflash-placeholder\">\n",
      "      </div>\n",
      "      <div class=\"bx--grid\" id=\"typing-leadspace\">\n",
      "       <div class=\"bx--row\">\n",
      "        <div class=\"bx--col-lg-14\">\n",
      "         <div class=\"bx--typewriter-effect bx--typewriter-effect-large\">\n",
      "          <h1 class=\"bx--leadspace-title\">\n",
      "           <span class=\"bx--text-black\">\n",
      "           </span>\n",
      "           <span class=\"bx--text-blue\">\n",
      "            |\n",
      "           </span>\n",
      "           <span class=\"bx--text-white\">\n",
      "            X-Force Threat Intelligence Index\n",
      "           </span>\n",
      "          </h1>\n",
      "          <p class=\"bx--leadspace-copy\">\n",
      "           Backdoor deployments spiked in 2022, but 67% failed due to defender disruption of ransomware attempts\n",
      "          </p>\n",
      "          <ol class=\"bx--buttongroup\" data-autoid=\"dds--button-group\" style=\"--dds--button-group--item-count:1\">\n",
      "           <li class=\"bx--buttongroup-item\">\n",
      "            <a class=\"bx--btn bx--btn--primary bx--btn--expressive\" copy=\"Get the new report\" data-autoid=\"dds--button-group-0\" href=\"https://web.archive.org/web/20230224123642/https://www.ibm.com/reports/threat-intelligence/\" tabindex=\"0\">\n",
      "             Get the new report\n",
      "             <svg aria-hidden=\"true\" class=\"bx--btn__icon\" fill=\"currentColor\" focusable=\"false\" height=\"20\" preserveaspectratio=\"xMidYMid meet\" viewbox=\"0 0 20 20\" width=\"20\" xmlns=\"http://www.w3.org/2000/svg\">\n",
      "              <path d=\"M11.8 2.8L10.8 3.8 16.2 9.3 1 9.3 1 10.7 16.2 10.7 10.8 16.2 11.8 17.2 19 10z\">\n",
      "              </path>\n",
      "             </svg>\n",
      "            </a>\n",
      "           </li>\n",
      "          </ol>\n",
      "         </div>\n",
      "        </div>\n",
      "       </div>\n",
      "      </div>\n",
      "      <hr class=\"bx--hr bx--hr--medium-contrast\" data-autoid=\"dds--hr\"/>\n",
      "      <div id=\"main-content\" style=\"background-color:#FFF\">\n",
      "       <div>\n",
      "        <div class=\"ibm-br--toc-section\">\n",
      "         <section class=\"bx--tableofcontents bx--tableofcontents--white\" data-autoid=\"dds--tableofcontents\">\n",
      "          <div class=\"dds-ce--table-of-contents__container\">\n",
      "           <div class=\"bx--tableofcontents__sidebar\">\n",
      "            <div class=\"bx--tableofcontents__mobile-top\">\n",
      "            </div>\n",
      "            <div style=\"position:sticky;top:64px\">\n",
      "             <div class=\"bx--tableofcontents__desktop\" data-autoid=\"dds--tableofcontents__desktop\">\n",
      "              <ul>\n",
      "              </ul>\n",
      "             </div>\n",
      "             <div class=\"bx--tableofcontents__mobile\" data-autoid=\"dds--tableofcontents__mobile\">\n",
      "              <div class=\"bx--tableofcontents__mobile__select__wrapper\">\n",
      "               <select aria-label=\"Jump to\" class=\"bx--tableofcontents__mobile__select\">\n",
      "                <option class=\"bx--tableofcontents__mobile__select__option\" data-autoid=\"dds--tableofcontents__mobile__select__option-menuLabel\" disabled=\"\" hidden=\"\" selected=\"\" value=\"menuLabel\">\n",
      "                 Jump to ...\n",
      "                </option>\n",
      "               </select>\n",
      "               <svg aria-label=\"menu icon\" class=\"bx--tableofcontents__mobile__select__icon\" fill=\"currentColor\" focusable=\"false\" height=\"20\" preserveaspectratio=\"xMidYMid meet\" role=\"img\" viewbox=\"0 0 32 32\" width=\"20\" xmlns=\"http://www.w3.org/2000/svg\">\n",
      "                <path d=\"M4 6H22V8H4zM4 12H22V14H4zM4 18H22V20H4zM4 24H22V26H4zM26 6H28V8H26zM26 12H28V14H26zM26 18H28V20H26zM26 24H28V26H26z\">\n",
      "                </path>\n",
      "                <title>\n",
      "                 menu icon\n",
      "                </title>\n",
      "               </svg>\n",
      "              </div>\n",
      "             </div>\n",
      "            </div>\n",
      "           </div>\n",
      "           <div class=\"bx--tableofcontents__content\">\n",
      "            <div class=\"bx--tableofcontents__content-wrapper\">\n",
      "             <a data-title=\"About IBM\" name=\"welcome\">\n",
      "             </a>\n",
      "             <div class=\"ibm--br-intro-section ibm--fade\">\n",
      "              <h2 class=\"bx--type-expressive-heading-05 ibm-br--heading-05\">\n",
      "               We enable people, ideas and technologies to make the world work better through hybrid cloud and AI\n",
      "              </h2>\n",
      "              <p>\n",
      "               <div class=\"bx--link-list\" data-autoid=\"dds--link-list\">\n",
      "                <ul class=\"bx--link-list__list bx--link-list__list--vertical\">\n",
      "                 <li class=\"bx--link-list__list__CTA bx--link-list__list--local\">\n",
      "                  <div>\n",
      "                   <div class=\"bx--link-with-icon__container\" data-autoid=\"dds--link-with-icon\">\n",
      "                    <a class=\"bx--link bx--link-with-icon bx--link-with-icon--inline-icon bx--link--lg\" href=\"https://web.archive.org/web/20230224123642/https://www.ibm.com/about\">\n",
      "                     <span>\n",
      "                      About IBM\n",
      "                     </span>\n",
      "                     <svg aria-hidden=\"true\" fill=\"currentColor\" focusable=\"false\" height=\"20\" preserveaspectratio=\"xMidYMid meet\" viewbox=\"0 0 20 20\" width=\"20\" xmlns=\"http://www.w3.org/2000/svg\">\n",
      "                      <path d=\"M11.8 2.8L10.8 3.8 16.2 9.3 1 9.3 1 10.7 16.2 10.7 10.8 16.2 11.8 17.2 19 10z\">\n",
      "                      </path>\n",
      "                     </svg>\n",
      "                    </a>\n",
      "                   </div>\n",
      "                  </div>\n",
      "                 </li>\n",
      "                </ul>\n",
      "               </div>\n",
      "              </p>\n",
      "             </div>\n",
      "             <a data-title=\"Consulting\" name=\"consulting\">\n",
      "             </a>\n",
      "             <div class=\"ibm--spacer\">\n",
      "             </div>\n",
      "             <div class=\"ibm--fade bx--custom-band-consulting\">\n",
      "              <h2 class=\"bx--type-productive-heading-07\">\n",
      "               Consulting\n",
      "              </h2>\n",
      "              <dds-tabs-extended>\n",
      "               <dds-tab label=\"Overview\">\n",
      "                <div class=\"bx--custom-content-item bx--grid bx--no-gutter\">\n",
      "                 <div class=\"bx--row\">\n",
      "                  <div class=\"bx--custom-content-item-col-image\">\n",
      "                   <div class=\"bx--image\" data-autoid=\"dds--image__longdescription\">\n",
      "                    <picture>\n",
      "                     <img alt=\"Person standing with arms crossed\" aria-describedby=\"bx--image-1\" class=\"bx--image__img\" src=\"https://web.archive.org/web/20230224123642im_/https://1.dam.s81c.com/p/0a23e414312bcb6f/08196d0e04260ae5_cropped.jpg.global.sr_16x9.jpg\"/>\n",
      "                    </picture>\n",
      "                    <div class=\"bx--image__longdescription\" id=\"bx--image-1\">\n",
      "                     Person standing with arms crossed\n",
      "                    </div>\n",
      "                   </div>\n",
      "                  </div>\n",
      "                  <div class=\"bx--custom-content-item-col-content\">\n",
      "                   <h3>\n",
      "                    Accelerate together\n",
      "                   </h3>\n",
      "                   <p>\n",
      "                    Work with experts to speed business transformation through technology and an open ecosystem approach\n",
      "                   </p>\n",
      "                   <div class=\"bx--link-list\" data-autoid=\"dds--link-list\">\n",
      "                    <ul class=\"bx--link-list__list bx--link-list__list--vertical\">\n",
      "                     <li class=\"bx--link-list__list__CTA bx--link-list__list--local\">\n",
      "                      <div>\n",
      "                       <div class=\"bx--link-with-icon__container\" data-autoid=\"dds--link-with-icon\">\n",
      "                        <a class=\"bx--link bx--link-with-icon bx--link-with-icon--inline-icon bx--link--lg\" href=\"https://web.archive.org/web/20230224123642/https://www.ibm.com/consulting/?lnk=flathl\">\n",
      "                         <span>\n",
      "                          Explore IBM Consulting services\n",
      "                         </span>\n",
      "                         <svg aria-hidden=\"true\" fill=\"currentColor\" focusable=\"false\" height=\"20\" preserveaspectratio=\"xMidYMid meet\" viewbox=\"0 0 20 20\" width=\"20\" xmlns=\"http://www.w3.org/2000/svg\">\n",
      "                          <path d=\"M11.8 2.8L10.8 3.8 16.2 9.3 1 9.3 1 10.7 16.2 10.7 10.8 16.2 11.8 17.2 19 10z\">\n",
      "                          </path>\n",
      "                         </svg>\n",
      "                        </a>\n",
      "                       </div>\n",
      "                      </div>\n",
      "                     </li>\n",
      "                    </ul>\n",
      "                   </div>\n",
      "                  </div>\n",
      "                 </div>\n",
      "                </div>\n",
      "               </dds-tab>\n",
      "               <dds-tab label=\"Strategy\">\n",
      "                <div class=\"bx--custom-content-item bx--grid bx--no-gutter\">\n",
      "                 <div class=\"bx--row\">\n",
      "                  <div class=\"bx--custom-content-item-col-image\">\n",
      "                   <div class=\"bx--image\" data-autoid=\"dds--image__longdescription\">\n",
      "                    <picture>\n",
      "                     <img alt=\"Team members at work in a conference room\" aria-describedby=\"bx--image-2\" class=\"bx--image__img\" src=\"https://web.archive.org/web/20230224123642im_/https://1.dam.s81c.com/p/06655c075aa3aa29/CaitOppermann_2019_12_06_IBMGarage_DSC3304.jpg.global.m_16x9.jpg\"/>\n",
      "                    </picture>\n",
      "                    <div class=\"bx--image__longdescription\" id=\"bx--image-2\">\n",
      "                     Team members at work in a conference room\n",
      "                    </div>\n",
      "                   </div>\n",
      "                  </div>\n",
      "                  <div class=\"bx--custom-content-item-col-content\">\n",
      "                   <h3>\n",
      "                    Reimagine everything\n",
      "                   </h3>\n",
      "                   <p>\n",
      "                    Your business has the potential to thrive in a digital world. Letâs make it happen.\n",
      "                   </p>\n",
      "                   <div class=\"bx--link-list\" data-autoid=\"dds--link-list\">\n",
      "                    <ul class=\"bx--link-list__list bx--link-list__list--vertical\">\n",
      "                     <li class=\"bx--link-list__list__CTA bx--link-list__list--local\">\n",
      "                      <div>\n",
      "                       <div class=\"bx--link-with-icon__container\" data-autoid=\"dds--link-with-icon\">\n",
      "                        <a class=\"bx--link bx--link-with-icon bx--link-with-icon--inline-icon bx--link--lg\" href=\"https://web.archive.org/web/20230224123642/https://www.ibm.com/consulting/strategy/?lnk=flathl\">\n",
      "                         <span>\n",
      "                          Create your new strategy\n",
      "                         </span>\n",
      "                         <svg aria-hidden=\"true\" fill=\"currentColor\" focusable=\"false\" height=\"20\" preserveaspectratio=\"xMidYMid meet\" viewbox=\"0 0 20 20\" width=\"20\" xmlns=\"http://www.w3.org/2000/svg\">\n",
      "                          <path d=\"M11.8 2.8L10.8 3.8 16.2 9.3 1 9.3 1 10.7 16.2 10.7 10.8 16.2 11.8 17.2 19 10z\">\n",
      "                          </path>\n",
      "                         </svg>\n",
      "                        </a>\n",
      "                       </div>\n",
      "                      </div>\n",
      "                     </li>\n",
      "                    </ul>\n",
      "                   </div>\n",
      "                  </div>\n",
      "                 </div>\n",
      "                </div>\n",
      "               </dds-tab>\n",
      "               <dds-tab label=\"Experience\">\n",
      "                <div class=\"bx--custom-content-item bx--grid bx--no-gutter\">\n",
      "                 <div class=\"bx--row\">\n",
      "                  <div class=\"bx--custom-content-item-col-image\">\n",
      "                   <div class=\"bx--image\" data-autoid=\"dds--image__longdescription\">\n",
      "                    <picture>\n",
      "                     <img alt=\"Coworkers looking at laptops\" aria-describedby=\"bx--image-3\" class=\"bx--image__img\" src=\"https://web.archive.org/web/20230224123642im_/https://1.dam.s81c.com/p/08f951353c2707b8/052022_CaitOppermann_InsideIBM_London_2945_03.jpg.global.sr_16x9.jpg\"/>\n",
      "                    </picture>\n",
      "                    <div class=\"bx--image__longdescription\" id=\"bx--image-3\">\n",
      "                     Coworkers looking at laptops\n",
      "                    </div>\n",
      "                   </div>\n",
      "                  </div>\n",
      "                  <div class=\"bx--custom-content-item-col-content\">\n",
      "                   <h3>\n",
      "                    Transformation is a journey\n",
      "                   </h3>\n",
      "                   <p>\n",
      "                    A human-centered approach helps IBM Consulting clients transform user experiences\n",
      "                   </p>\n",
      "                   <div class=\"bx--link-list\" data-autoid=\"dds--link-list\">\n",
      "                    <ul class=\"bx--link-list__list bx--link-list__list--vertical\">\n",
      "                     <li class=\"bx--link-list__list__CTA bx--link-list__list--local\">\n",
      "                      <div>\n",
      "                       <div class=\"bx--link-with-icon__container\" data-autoid=\"dds--link-with-icon\">\n",
      "                        <a class=\"bx--link bx--link-with-icon bx--link-with-icon--inline-icon bx--link--lg\" href=\"https://web.archive.org/web/20230224123642/https://www.ibm.com/consulting/ibmix?lnk=flathl\">\n",
      "                         <span>\n",
      "                          Take the first step\n",
      "                         </span>\n",
      "                         <svg aria-hidden=\"true\" fill=\"currentColor\" focusable=\"false\" height=\"20\" preserveaspectratio=\"xMidYMid meet\" viewbox=\"0 0 20 20\" width=\"20\" xmlns=\"http://www.w3.org/2000/svg\">\n",
      "                          <path d=\"M11.8 2.8L10.8 3.8 16.2 9.3 1 9.3 1 10.7 16.2 10.7 10.8 16.2 11.8 17.2 19 10z\">\n",
      "                          </path>\n",
      "                         </svg>\n",
      "                        </a>\n",
      "                       </div>\n",
      "                      </div>\n",
      "                     </li>\n",
      "                    </ul>\n",
      "                   </div>\n",
      "                  </div>\n",
      "                 </div>\n",
      "                </div>\n",
      "               </dds-tab>\n",
      "               <dds-tab label=\"Technology\">\n",
      "                <div class=\"bx--custom-content-item bx--grid bx--no-gutter\">\n",
      "                 <div class=\"bx--row\">\n",
      "                  <div class=\"bx--custom-content-item-col-image\">\n",
      "                   <div class=\"bx--image\" data-autoid=\"dds--image__longdescription\">\n",
      "                    <picture>\n",
      "                     <img alt=\"Cloud developer with red sweater coding at desk\" aria-describedby=\"bx--image-4\" class=\"bx--image__img\" src=\"https://web.archive.org/web/20230224123642im_/https://1.dam.s81c.com/p/064e0139f5a3aa5e/0500002_Lowell_LI_100119.jpg.global.sr_16x9.jpg\"/>\n",
      "                    </picture>\n",
      "                    <div class=\"bx--image__longdescription\" id=\"bx--image-4\">\n",
      "                     Cloud developer with red sweater coding at desk\n",
      "                    </div>\n",
      "                   </div>\n",
      "                  </div>\n",
      "                  <div class=\"bx--custom-content-item-col-content\">\n",
      "                   <h3>\n",
      "                    An open future for technology\n",
      "                   </h3>\n",
      "                   <p>\n",
      "                    Unite and align your strategy and process to meaningful automation, AI insights and outcomes\n",
      "                   </p>\n",
      "                   <div class=\"bx--link-list\" data-autoid=\"dds--link-list\">\n",
      "                    <ul class=\"bx--link-list__list bx--link-list__list--vertical\">\n",
      "                     <li class=\"bx--link-list__list__CTA bx--link-list__list--local\">\n",
      "                      <div>\n",
      "                       <div class=\"bx--link-with-icon__container\" data-autoid=\"dds--link-with-icon\">\n",
      "                        <a class=\"bx--link bx--link-with-icon bx--link-with-icon--inline-icon bx--link--lg\" href=\"https://web.archive.org/web/20230224123642/https://www.ibm.com/consulting/technology/\">\n",
      "                         <span>\n",
      "                          Modernize with impact\n",
      "                         </span>\n",
      "                         <svg aria-hidden=\"true\" fill=\"currentColor\" focusable=\"false\" height=\"20\" preserveaspectratio=\"xMidYMid meet\" viewbox=\"0 0 20 20\" width=\"20\" xmlns=\"http://www.w3.org/2000/svg\">\n",
      "                          <path d=\"M11.8 2.8L10.8 3.8 16.2 9.3 1 9.3 1 10.7 16.2 10.7 10.8 16.2 11.8 17.2 19 10z\">\n",
      "                          </path>\n",
      "                         </svg>\n",
      "                        </a>\n",
      "                       </div>\n",
      "                      </div>\n",
      "                     </li>\n",
      "                    </ul>\n",
      "                   </div>\n",
      "                  </div>\n",
      "                 </div>\n",
      "                </div>\n",
      "               </dds-tab>\n",
      "               <dds-tab label=\"Operations\">\n",
      "                <div class=\"bx--custom-content-item bx--grid bx--no-gutter\">\n",
      "                 <div class=\"bx--row\">\n",
      "                  <div class=\"bx--custom-content-item-col-image\">\n",
      "                   <div class=\"bx--image\" data-autoid=\"dds--image__longdescription\">\n",
      "                    <picture>\n",
      "                     <img alt=\"Aerial view of automated conveyer belt and machinery at work\" aria-describedby=\"bx--image-5\" class=\"bx--image__img\" src=\"https://web.archive.org/web/20230224123642im_/https://1.dam.s81c.com/p/0795cae91a25156f/conveyorrobottopview.jpg.global.sr_16x9.jpg\"/>\n",
      "                    </picture>\n",
      "                    <div class=\"bx--image__longdescription\" id=\"bx--image-5\">\n",
      "                     Aerial view of automated conveyer belt and machinery at work\n",
      "                    </div>\n",
      "                   </div>\n",
      "                  </div>\n",
      "                  <div class=\"bx--custom-content-item-col-content\">\n",
      "                   <h3>\n",
      "                    Operate with experience\n",
      "                   </h3>\n",
      "                   <p>\n",
      "                    Flexibly orchestrate your people, process, data and technology to deliver outcomes efficiently\n",
      "                   </p>\n",
      "                   <div class=\"bx--link-list\" data-autoid=\"dds--link-list\">\n",
      "                    <ul class=\"bx--link-list__list bx--link-list__list--vertical\">\n",
      "                     <li class=\"bx--link-list__list__CTA bx--link-list__list--local\">\n",
      "                      <div>\n",
      "                       <div class=\"bx--link-with-icon__container\" data-autoid=\"dds--link-with-icon\">\n",
      "                        <a class=\"bx--link bx--link-with-icon bx--link-with-icon--inline-icon bx--link--lg\" href=\"https://web.archive.org/web/20230224123642/https://www.ibm.com/consulting/operations/?lnk=flathl\">\n",
      "                         <span>\n",
      "                          Turn ideas into action\n",
      "                         </span>\n",
      "                         <svg aria-hidden=\"true\" fill=\"currentColor\" focusable=\"false\" height=\"20\" preserveaspectratio=\"xMidYMid meet\" viewbox=\"0 0 20 20\" width=\"20\" xmlns=\"http://www.w3.org/2000/svg\">\n",
      "                          <path d=\"M11.8 2.8L10.8 3.8 16.2 9.3 1 9.3 1 10.7 16.2 10.7 10.8 16.2 11.8 17.2 19 10z\">\n",
      "                          </path>\n",
      "                         </svg>\n",
      "                        </a>\n",
      "                       </div>\n",
      "                      </div>\n",
      "                     </li>\n",
      "                    </ul>\n",
      "                   </div>\n",
      "                  </div>\n",
      "                 </div>\n",
      "                </div>\n",
      "               </dds-tab>\n",
      "               <dds-tab label=\"Partners\">\n",
      "                <div class=\"bx--custom-content-item bx--grid bx--no-gutter\">\n",
      "                 <div class=\"bx--row\">\n",
      "                  <div class=\"bx--custom-content-item-col-image\">\n",
      "                   <div class=\"bx--image\" data-autoid=\"dds--image__longdescription\">\n",
      "                    <picture>\n",
      "                     <img alt=\"Overhead view of partners collaborating on design with laptops and coffee\" aria-describedby=\"bx--image-6\" class=\"bx--image__img\" src=\"https://web.archive.org/web/20230224123642im_/https://1.dam.s81c.com/p/06dfa9ccdba4ec79/1f417900-9042-44d1-9c219a854bbb62ea.jpg.global.sr_16x9.jpg\"/>\n",
      "                    </picture>\n",
      "                    <div class=\"bx--image__longdescription\" id=\"bx--image-6\">\n",
      "                     Overhead view of partners collaborating on design with laptops and coffee\n",
      "                    </div>\n",
      "                   </div>\n",
      "                  </div>\n",
      "                  <div class=\"bx--custom-content-item-col-content\">\n",
      "                   <h3>\n",
      "                    Business relationships that count\n",
      "                   </h3>\n",
      "                   <p>\n",
      "                    Partner with platform and infrastructure leaders to build cost-effective, open ecosystems\n",
      "                   </p>\n",
      "                   <div class=\"bx--link-list\" data-autoid=\"dds--link-list\">\n",
      "                    <ul class=\"bx--link-list__list bx--link-list__list--vertical\">\n",
      "                     <li class=\"bx--link-list__list__CTA bx--link-list__list--local\">\n",
      "                      <div>\n",
      "                       <div class=\"bx--link-with-icon__container\" data-autoid=\"dds--link-with-icon\">\n",
      "                        <a class=\"bx--link bx--link-with-icon bx--link-with-icon--inline-icon bx--link--lg\" href=\"https://web.archive.org/web/20230224123642/https://www.ibm.com/strategic-partnerships\">\n",
      "                         <span>\n",
      "                          Unlock new opportunities\n",
      "                         </span>\n",
      "                         <svg aria-hidden=\"true\" fill=\"currentColor\" focusable=\"false\" height=\"20\" preserveaspectratio=\"xMidYMid meet\" viewbox=\"0 0 20 20\" width=\"20\" xmlns=\"http://www.w3.org/2000/svg\">\n",
      "                          <path d=\"M11.8 2.8L10.8 3.8 16.2 9.3 1 9.3 1 10.7 16.2 10.7 10.8 16.2 11.8 17.2 19 10z\">\n",
      "                          </path>\n",
      "                         </svg>\n",
      "                        </a>\n",
      "                       </div>\n",
      "                      </div>\n",
      "                     </li>\n",
      "                    </ul>\n",
      "                   </div>\n",
      "                  </div>\n",
      "                 </div>\n",
      "                </div>\n",
      "               </dds-tab>\n",
      "              </dds-tabs-extended>\n",
      "             </div>\n",
      "             <div class=\"bx--custom-featured-story ibm--fade\">\n",
      "              <div class=\"bx--custom-featured-story-heading\">\n",
      "               <h2 class=\"bx--type-productive-heading-07\">\n",
      "                Whatâs new\n",
      "               </h2>\n",
      "              </div>\n",
      "              <dds-feature-section class=\"bx--custom-featured-story-section\" media-alignment=\"right\">\n",
      "               <dds-image alt=\"Astronaut in a space suit posing with his helmet off\" default-src=\"https://1.dam.s81c.com/p/0a9d035b4eaa2eea/MVH_official_portrait.jpg.global.l_1x1.jpg\" slot=\"image\">\n",
      "                <dds-image-item media=\"(min-width: 1312px)\" srcset=\"https://1.dam.s81c.com/p/0a9d035b4eaa2eea/MVH_official_portrait.jpg.global.l_1x1.jpg\">\n",
      "                </dds-image-item>\n",
      "                <dds-image-item media=\"(min-width: 672px)\" srcset=\"https://1.dam.s81c.com/p/0a9d035b4eaa2eea/MVH_official_portrait.jpg.global.sr_4x3.jpg\">\n",
      "                </dds-image-item>\n",
      "                <dds-image-item media=\"(min-width: 320px)\" srcset=\"https://1.dam.s81c.com/p/0a9d035b4eaa2eea/MVH_official_portrait.jpg.global.m_1x1.jpg\">\n",
      "                </dds-image-item>\n",
      "                <dds-image-item media=\"(min-width: 320px)\" srcset=\"https://1.dam.s81c.com/p/0a9d035b4eaa2eea/MVH_official_portrait.jpg.global.s_1x1.jpg\">\n",
      "                </dds-image-item>\n",
      "               </dds-image>\n",
      "               <dds-content-block-heading>\n",
      "                A year in space\n",
      "               </dds-content-block-heading>\n",
      "               <dds-content-item-paragraph slot=\"copy\">\n",
      "                Astronaut Mark Vande Hei joins host Malcolm Gladwell to discuss his 355-day mission and what he learned about science and self-discovery\n",
      "               </dds-content-item-paragraph>\n",
      "               <dds-feature-section-card-link class=\"bx--custom-featured-story-section-card-link\" color-scheme=\"inverse\" cta-type=\"local\" href=\"https://www.ibm.com/thought-leadership/smart/talks/\" slot=\"footer\">\n",
      "                <dds-card-link-heading>\n",
      "                 Listen to the Smart Talks podcast\n",
      "                </dds-card-link-heading>\n",
      "                <dds-card-cta-footer color-scheme=\"inverse\">\n",
      "                </dds-card-cta-footer>\n",
      "               </dds-feature-section-card-link>\n",
      "              </dds-feature-section>\n",
      "             </div>\n",
      "             <a data-title=\"Technology\" id=\"ibm-hp--tech-section\" name=\"Technology\">\n",
      "             </a>\n",
      "             <div class=\"ibm--fade\">\n",
      "              <div class=\"bx--custom-widget-band-header\">\n",
      "               <h2 class=\"bx--type-productive-heading-07\">\n",
      "                Explore our technology\n",
      "               </h2>\n",
      "              </div>\n",
      "              <div class=\"bx--widget-container\" data-full-width=\"true\" data-localecode=\"en-us\" data-widget=\"product-explorer-main-offering\" id=\"product-explorer-main-offering\">\n",
      "              </div>\n",
      "             </div>\n",
      "             <a data-title=\"Inside IBM\" name=\"inside-ibm\">\n",
      "             </a>\n",
      "             <div class=\"bx--custom-cards-carousel-wrapper ibm--fade\">\n",
      "              <div class=\"bx--custom-cards-carousel-heading\">\n",
      "               <h2 class=\"bx--type-productive-heading-07\">\n",
      "                Inside IBM\n",
      "               </h2>\n",
      "              </div>\n",
      "              <div class=\"bx--grid bx--grid--narrow bx--no-gutter\">\n",
      "               <div class=\"bx--row\">\n",
      "                <div class=\"bx--col bx--no-gutter\">\n",
      "                 <div class=\"bx--custom-cards-carousel\">\n",
      "                  <div class=\"bx--card-group__cards__row bx--row--condensed\" data-autoid=\"dds--card-group\" style=\"--dds--card-group--cards-in-row:3\">\n",
      "                   <div class=\"bx--card-group__cards__col\">\n",
      "                    <div class=\"bx--card-group__card\">\n",
      "                     <div class=\"bx--tile bx--card bx--card-link bx--card__CTA bx--card__CardCTA\" data-autoid=\"dds--card\" href=\"https://www.ibm.com/employment/?lnk=flatitem\">\n",
      "                      <div class=\"bx--card__wrapper\">\n",
      "                       <div class=\"bx--card__content\">\n",
      "                        <h3 class=\"bx--card__heading\">\n",
      "                         Careers at IBM\n",
      "                        </h3>\n",
      "                        <div class=\"bx--card__copy\">\n",
      "                         <p>\n",
      "                          From a safer food supply to ethical AI, your skills can help tackle the worldâs toughest problems\n",
      "                         </p>\n",
      "                        </div>\n",
      "                        <a aria-label=\"Careers at IBM\" class=\"bx--link bx--card__footer\" href=\"https://web.archive.org/web/20230224123642/https://www.ibm.com/employment/?lnk=flatitem\">\n",
      "                         <svg aria-hidden=\"true\" class=\"bx--card__cta\" fill=\"currentColor\" focusable=\"false\" height=\"20\" preserveaspectratio=\"xMidYMid meet\" src=\"[object Object]\" viewbox=\"0 0 20 20\" width=\"20\" xmlns=\"http://www.w3.org/2000/svg\">\n",
      "                          <path d=\"M11.8 2.8L10.8 3.8 16.2 9.3 1 9.3 1 10.7 16.2 10.7 10.8 16.2 11.8 17.2 19 10z\">\n",
      "                          </path>\n",
      "                         </svg>\n",
      "                        </a>\n",
      "                       </div>\n",
      "                      </div>\n",
      "                     </div>\n",
      "                    </div>\n",
      "                   </div>\n",
      "                   <div class=\"bx--card-group__cards__col\">\n",
      "                    <div class=\"bx--card-group__card\">\n",
      "                     <div class=\"bx--tile bx--card bx--card-link bx--card__CTA bx--card__CardCTA\" data-autoid=\"dds--card\" href=\"https://www.ibm.com/impact\">\n",
      "                      <div class=\"bx--card__wrapper\">\n",
      "                       <div class=\"bx--card__content\">\n",
      "                        <h3 class=\"bx--card__heading\">\n",
      "                         Corporate social responsibility\n",
      "                        </h3>\n",
      "                        <div class=\"bx--card__copy\">\n",
      "                         <p>\n",
      "                          IBM aspires to make a positive impact on the world, and the places where we work and live\n",
      "                         </p>\n",
      "                        </div>\n",
      "                        <a aria-label=\"Corporate social responsibility\" class=\"bx--link bx--card__footer\" href=\"https://web.archive.org/web/20230224123642/https://www.ibm.com/impact\">\n",
      "                         <svg aria-hidden=\"true\" class=\"bx--card__cta\" fill=\"currentColor\" focusable=\"false\" height=\"20\" preserveaspectratio=\"xMidYMid meet\" src=\"[object Object]\" viewbox=\"0 0 20 20\" width=\"20\" xmlns=\"http://www.w3.org/2000/svg\">\n",
      "                          <path d=\"M11.8 2.8L10.8 3.8 16.2 9.3 1 9.3 1 10.7 16.2 10.7 10.8 16.2 11.8 17.2 19 10z\">\n",
      "                          </path>\n",
      "                         </svg>\n",
      "                        </a>\n",
      "                       </div>\n",
      "                      </div>\n",
      "                     </div>\n",
      "                    </div>\n",
      "                   </div>\n",
      "                   <div class=\"bx--card-group__cards__col\">\n",
      "                    <div class=\"bx--card-group__card\">\n",
      "                     <div class=\"bx--tile bx--card bx--card-link bx--card__CTA bx--card__CardCTA\" data-autoid=\"dds--card\" href=\"https://research.ibm.com/\">\n",
      "                      <div class=\"bx--card__wrapper\">\n",
      "                       <div class=\"bx--card__content\">\n",
      "                        <h3 class=\"bx--card__heading\">\n",
      "                         IBM Research\n",
      "                        </h3>\n",
      "                        <div class=\"bx--card__copy\">\n",
      "                         <p>\n",
      "                          Around the globe, 3,000 IBM scientists and design thinkers are inventing whatâs next in computing\n",
      "                         </p>\n",
      "                        </div>\n",
      "                        <a aria-label=\"IBM Research\" class=\"bx--link bx--card__footer\" href=\"https://web.archive.org/web/20230224123642/https://research.ibm.com/\">\n",
      "                         <svg aria-hidden=\"true\" class=\"bx--card__cta\" fill=\"currentColor\" focusable=\"false\" height=\"20\" preserveaspectratio=\"xMidYMid meet\" src=\"[object Object]\" viewbox=\"0 0 20 20\" width=\"20\" xmlns=\"http://www.w3.org/2000/svg\">\n",
      "                          <path d=\"M11.8 2.8L10.8 3.8 16.2 9.3 1 9.3 1 10.7 16.2 10.7 10.8 16.2 11.8 17.2 19 10z\">\n",
      "                          </path>\n",
      "                         </svg>\n",
      "                        </a>\n",
      "                       </div>\n",
      "                      </div>\n",
      "                     </div>\n",
      "                    </div>\n",
      "                   </div>\n",
      "                  </div>\n",
      "                 </div>\n",
      "                </div>\n",
      "               </div>\n",
      "              </div>\n",
      "             </div>\n",
      "             <div class=\"bx--custom-featured-story ibm--fade\">\n",
      "              <div class=\"bx--custom-featured-story-heading\">\n",
      "               <h2 class=\"bx--type-productive-heading-07\">\n",
      "                Powering the future\n",
      "               </h2>\n",
      "              </div>\n",
      "              <dds-feature-section class=\"bx--custom-featured-story-section\" media-alignment=\"right\">\n",
      "               <dds-image alt=\"IBM quantum computer\" default-src=\"https://1.dam.s81c.com/p/0a23e414312bcb7e/2019_ConnieZhou_BigBets_15.jpg.global.xl_1x1.jpg\" slot=\"image\">\n",
      "                <dds-image-item media=\"(min-width: 1312px)\" srcset=\"https://1.dam.s81c.com/p/0a23e414312bcb7e/2019_ConnieZhou_BigBets_15.jpg.global.xl_1x1.jpg\">\n",
      "                </dds-image-item>\n",
      "                <dds-image-item media=\"(min-width: 672px)\" srcset=\"https://1.dam.s81c.com/p/0a23e414312bcb7e/2019_ConnieZhou_BigBets_15.jpg.global.l_4x3.jpg\">\n",
      "                </dds-image-item>\n",
      "                <dds-image-item media=\"(min-width: 320px)\" srcset=\"https://1.dam.s81c.com/p/0a23e414312bcb7e/2019_ConnieZhou_BigBets_15.jpg.global.m_1x1.jpg\">\n",
      "                </dds-image-item>\n",
      "                <dds-image-item media=\"(min-width: 320px)\" srcset=\"https://1.dam.s81c.com/p/0a23e414312bcb7e/2019_ConnieZhou_BigBets_15.jpg.global.s_1x1.jpg\">\n",
      "                </dds-image-item>\n",
      "               </dds-image>\n",
      "               <dds-content-block-heading>\n",
      "                Security in the era of quantum\n",
      "               </dds-content-block-heading>\n",
      "               <dds-content-item-paragraph slot=\"copy\">\n",
      "                Through encryption, quantum computing will profoundly alter how we secure our digital economy\n",
      "               </dds-content-item-paragraph>\n",
      "               <dds-feature-section-card-link class=\"bx--custom-featured-story-section-card-link\" color-scheme=\"inverse\" cta-type=\"local\" href=\"https://www.ibm.com/thought-leadership/institute-business-value/en-us/report/quantum-safe-encryption\" slot=\"footer\">\n",
      "                <dds-card-link-heading>\n",
      "                 Read the Expert Insights report\n",
      "                </dds-card-link-heading>\n",
      "                <dds-card-cta-footer color-scheme=\"inverse\">\n",
      "                </dds-card-cta-footer>\n",
      "               </dds-feature-section-card-link>\n",
      "              </dds-feature-section>\n",
      "             </div>\n",
      "            </div>\n",
      "           </div>\n",
      "          </div>\n",
      "         </section>\n",
      "        </div>\n",
      "       </div>\n",
      "      </div>\n",
      "      <footer class=\"bx--footer\" data-autoid=\"dds--footer\">\n",
      "       <section class=\"bx--footer__main\">\n",
      "        <div class=\"bx--footer__main-container\">\n",
      "         <div class=\"bx--footer__logo-container\">\n",
      "          <div class=\"bx--footer__logo-row\">\n",
      "           <div class=\"bx--footer-logo\" data-autoid=\"dds--footer-logo\">\n",
      "            <a class=\"bx--footer-logo__link\" data-autoid=\"dds--footer-logo__link\" href=\"https://web.archive.org/web/20230224123642/https://www.ibm.com/\">\n",
      "             <svg class=\"bx--footer-logo__logo\" height=\"65\" viewbox=\"0 0 157 65\" width=\"157\" xmlns=\"http://www.w3.org/2000/svg\">\n",
      "              <title>\n",
      "               IBM Logo\n",
      "              </title>\n",
      "              <path d=\"M30.444 60.208v4.03H0v-4.03h30.444zm78.291-.001v4.03H86.983v-4.03h21.752zm47.858 0v4.03H134.84v-4.03h21.753zm-33.416 0l-1.398 4.03-1.38-4.03h2.778zm-88.384 0h42.775c-2.797 2.426-6.39 3.925-10.327 4.025l-.423.006H34.793v-4.03h42.775zm-4.35-8.46v4.03H0v-4.03h30.444zm52.402 0c-.332 1.248-.8 2.44-1.389 3.555l-.259.474H34.793v-4.029h48.052zm73.748-.005v4.031H134.84v-4.03h21.753zm-47.858 0v4.031H86.983v-4.03h21.752zm17.375 0l-1.398 4.031h-5.85l-1.395-4.03h8.643zM21.745 43.285v4.03H8.698v-4.03h13.047zm61.195 0a17.32 17.32 0 0 1 .476 3.51l.008.52H68.796v-4.03H82.94zm-26.401 0v4.03H43.491v-4.03H56.54zm72.502-.007l-1.396 4.03H115.93l-1.397-4.03h14.507zm18.85 0v4.03h-13.05v-4.03h13.05zm-39.156 0v4.03H95.684v-4.03h13.051zm-86.99-8.454v4.03H8.698v-4.03h13.047zm56.117 0a16.945 16.945 0 0 1 2.926 3.582l.264.447h-37.56v-4.03h34.37zm30.873-.01v4.03H95.684v-4.03h13.051zm39.157 0v4.03H134.84v-4.03h13.052zm-15.919 0l-1.396 4.03h-17.579l-1.396-4.03h20.371zm-50.778-8.452a16.963 16.963 0 0 1-2.82 3.674l-.37.355H43.49v-4.029h37.704zm-59.45 0v4.03H8.698v-4.03h13.047zm126.147-.013v4.031H134.84v-3.839l-1.33 3.839h-11.456l1.373-4.03h24.465zm-27.743 0l1.372 4.031h-11.456l-1.33-3.839v3.84H95.684v-4.032h24.465zm-98.404-8.448v4.03H8.698V17.9h13.047zm61.68 0c0 1.215-.134 2.399-.375 3.542l-.11.487H68.796V17.9h14.628zM56.538 17.9v4.03H43.491V17.9H56.54zm91.352-.015v4.03h-22.954l1.37-4.03h21.584zm-30.624 0l1.372 4.03H95.684v-4.03h21.583zM30.444 9.437v4.03H0v-4.03h30.444zm50.753 0a17.048 17.048 0 0 1 1.498 3.499l.15.531H34.794v-4.03h46.403zm75.396-.018v4.03h-28.776l1.373-4.03h27.403zm-42.207 0l1.372 4.031H86.982V9.42h27.404zM30.444.978v4.03H0V.977h30.444zm36.374 0c3.96 0 7.594 1.415 10.448 3.772l.303.257H34.794V.977h32.024zm89.775-.022v4.031h-25.894l1.372-4.03h24.522zm-45.098 0l1.372 4.03H86.982V.955h24.513z\">\n",
      "              </path>\n",
      "             </svg>\n",
      "            </a>\n",
      "           </div>\n",
      "           <div class=\"bx--locale-btn__container\">\n",
      "            <button aria-label=\"\" class=\"bx--locale-btn bx--btn bx--btn--tertiary\" data-autoid=\"dds--locale-btn\" tabindex=\"0\" type=\"button\">\n",
      "             <svg aria-hidden=\"true\" aria-label=\"Earth Filled Icon\" class=\"bx--btn__icon\" fill=\"currentColor\" focusable=\"false\" height=\"20\" preserveaspectratio=\"xMidYMid meet\" role=\"img\" viewbox=\"0 0 32 32\" width=\"20\" xmlns=\"http://www.w3.org/2000/svg\">\n",
      "              <path d=\"M16,2A14,14,0,1,0,30,16,14.0158,14.0158,0,0,0,16,2ZM4.02,16.394l1.3384.4458L7,19.3027v1.2831a1,1,0,0,0,.2929.7071L10,24v2.3765A11.9941,11.9941,0,0,1,4.02,16.394ZM16,28a11.9682,11.9682,0,0,1-2.5718-.2847L14,26l1.8046-4.5116a1,1,0,0,0-.0964-.9261l-1.4113-2.117A1,1,0,0,0,13.4648,18h-4.93L7.2866,16.1274,9.4141,14H11v2h2V13.2656l3.8682-6.7695-1.7364-.9922L14.2769,7H11.5352l-1.086-1.6289A11.861,11.861,0,0,1,20,4.7V8a1,1,0,0,0,1,1h1.4648a1,1,0,0,0,.8321-.4453l.8769-1.3154A12.0331,12.0331,0,0,1,26.8945,11H22.82a1,1,0,0,0-.9806.8039l-.7221,4.4708a1,1,0,0,0,.54,1.0539L25,19l.6851,4.0557A11.9793,11.9793,0,0,1,16,28Z\">\n",
      "              </path>\n",
      "             </svg>\n",
      "            </button>\n",
      "            <div aria-hidden=\"true\" class=\"bx--modal bx--locale-modal-container\" data-autoid=\"dds--locale-modal\" role=\"presentation\">\n",
      "             <div aria-label=\",[object Object]\" aria-modal=\"true\" class=\"bx--modal-container\" role=\"dialog\">\n",
      "              <button class=\"bx--visually-hidden\" type=\"button\">\n",
      "               Focus sentinel\n",
      "              </button>\n",
      "              <div class=\"bx--modal-container-body\">\n",
      "               <div class=\"bx--modal-header\">\n",
      "                <h2 class=\"bx--modal-header__label bx--type-delta\">\n",
      "                 <svg aria-hidden=\"true\" class=\"bx--locale-modal__label-globe\" fill=\"currentColor\" focusable=\"false\" height=\"16\" preserveaspectratio=\"xMidYMid meet\" viewbox=\"0 0 32 32\" width=\"16\" xmlns=\"http://www.w3.org/2000/svg\">\n",
      "                  <path d=\"M16,2A14,14,0,1,0,30,16,14.0158,14.0158,0,0,0,16,2ZM4.02,16.394l1.3384.4458L7,19.3027v1.2831a1,1,0,0,0,.2929.7071L10,24v2.3765A11.9941,11.9941,0,0,1,4.02,16.394ZM16,28a11.9682,11.9682,0,0,1-2.5718-.2847L14,26l1.8046-4.5116a1,1,0,0,0-.0964-.9261l-1.4113-2.117A1,1,0,0,0,13.4648,18h-4.93L7.2866,16.1274,9.4141,14H11v2h2V13.2656l3.8682-6.7695-1.7364-.9922L14.2769,7H11.5352l-1.086-1.6289A11.861,11.861,0,0,1,20,4.7V8a1,1,0,0,0,1,1h1.4648a1,1,0,0,0,.8321-.4453l.8769-1.3154A12.0331,12.0331,0,0,1,26.8945,11H22.82a1,1,0,0,0-.9806.8039l-.7221,4.4708a1,1,0,0,0,.54,1.0539L25,19l.6851,4.0557A11.9793,11.9793,0,0,1,16,28Z\">\n",
      "                  </path>\n",
      "                 </svg>\n",
      "                </h2>\n",
      "                <button aria-label=\"Close\" class=\"bx--modal-close\" title=\"Close\" type=\"button\">\n",
      "                 <svg aria-hidden=\"true\" class=\"bx--modal-close__icon\" fill=\"currentColor\" focusable=\"false\" height=\"20\" preserveaspectratio=\"xMidYMid meet\" viewbox=\"0 0 32 32\" width=\"20\" xmlns=\"http://www.w3.org/2000/svg\">\n",
      "                  <path d=\"M24 9.4L22.6 8 16 14.6 9.4 8 8 9.4 14.6 16 8 22.6 9.4 24 16 17.4 22.6 24 24 22.6 17.4 16 24 9.4z\">\n",
      "                  </path>\n",
      "                 </svg>\n",
      "                </button>\n",
      "               </div>\n",
      "               <div class=\"bx--modal-content bx--locale-modal\">\n",
      "                <div class=\"bx--grid bx--no-gutter bx--locale-modal__regions\">\n",
      "                 <div class=\"bx--row\">\n",
      "                 </div>\n",
      "                </div>\n",
      "                <div class=\"bx--locale-modal__filter\">\n",
      "                 <div class=\"bx--locale-modal__search\">\n",
      "                  <div aria-labelledby=\"bx--locale-modal__filter-search\" class=\"bx--search bx--search--xl\" role=\"search\">\n",
      "                   <div class=\"bx--search-magnifier\">\n",
      "                    <svg aria-hidden=\"true\" class=\"bx--search-magnifier-icon\" fill=\"currentColor\" focusable=\"false\" height=\"16\" preserveaspectratio=\"xMidYMid meet\" viewbox=\"0 0 16 16\" width=\"16\" xmlns=\"http://www.w3.org/2000/svg\">\n",
      "                     <path d=\"M15,14.3L10.7,10c1.9-2.3,1.6-5.8-0.7-7.7S4.2,0.7,2.3,3S0.7,8.8,3,10.7c2,1.7,5,1.7,7,0l4.3,4.3L15,14.3z M2,6.5\tC2,4,4,2,6.5,2S11,4,11,6.5S9,11,6.5,11S2,9,2,6.5z\">\n",
      "                     </path>\n",
      "                    </svg>\n",
      "                   </div>\n",
      "                   <label class=\"bx--label\" for=\"bx--locale-modal__filter\" id=\"bx--locale-modal__filter-search\">\n",
      "                    Search by location or language\n",
      "                   </label>\n",
      "                   <input autocomplete=\"off\" class=\"bx--search-input\" data-autoid=\"dds--locale-modal__filter\" id=\"bx--locale-modal__filter\" placeholder=\"\" role=\"searchbox\" tabindex=\"0\" type=\"text\"/>\n",
      "                   <button aria-label=\"Clear search input\" class=\"bx--search-close bx--search-close--hidden\" type=\"button\">\n",
      "                    <svg aria-hidden=\"true\" fill=\"currentColor\" focusable=\"false\" height=\"16\" preserveaspectratio=\"xMidYMid meet\" viewbox=\"0 0 32 32\" width=\"16\" xmlns=\"http://www.w3.org/2000/svg\">\n",
      "                     <path d=\"M24 9.4L22.6 8 16 14.6 9.4 8 8 9.4 14.6 16 8 22.6 9.4 24 16 17.4 22.6 24 24 22.6 17.4 16 24 9.4z\">\n",
      "                     </path>\n",
      "                    </svg>\n",
      "                   </button>\n",
      "                  </div>\n",
      "                  <p class=\"bx--locale-modal__search-text\">\n",
      "                  </p>\n",
      "                 </div>\n",
      "                 <ul class=\"bx--locale-modal__list\">\n",
      "                  <p aria-live=\"assertive\" class=\"bx--assistive-text\" role=\"status\">\n",
      "                  </p>\n",
      "                 </ul>\n",
      "                </div>\n",
      "               </div>\n",
      "              </div>\n",
      "              <button class=\"bx--visually-hidden\" type=\"button\">\n",
      "               Focus sentinel\n",
      "              </button>\n",
      "             </div>\n",
      "            </div>\n",
      "           </div>\n",
      "          </div>\n",
      "         </div>\n",
      "        </div>\n",
      "       </section>\n",
      "      </footer>\n",
      "     </main>\n",
      "     <script src=\"https://web.archive.org/web/20230224123642js_/https://cdn.jsdelivr.net/npm/react@17/umd/react.production.min.js\">\n",
      "     </script>\n",
      "     <script src=\"https://web.archive.org/web/20230224123642js_/https://cdn.jsdelivr.net/npm/react-dom@17/umd/react-dom.production.min.js\">\n",
      "     </script>\n",
      "     <script src=\"https://web.archive.org/web/20230224123642js_/https://cdn.jsdelivr.net/npm/react-intl@5/dist/react-intl.min.js\">\n",
      "     </script>\n",
      "    </div>\n",
      "   </div>\n",
      "   <script defer=\"\" src=\"//web.archive.org/web/20230224123642js_/https://1.www.s81c.com/common/stats/ibm-common.js\">\n",
      "   </script>\n",
      "   <link href=\"//web.archive.org/web/20230224123642cs_/https://1.www.s81c.com/common/v18/css/forms.css\" rel=\"stylesheet\"/>\n",
      "  </div>\n",
      "  <script id=\"__NEXT_DATA__\" type=\"application/json\">\n",
      "   {\"props\":{\"pageProps\":{\"data\":{\"_id\":\"7ec18a83cb1c595406965cba92f231c4\",\"_rev\":\"12390-664dacec7a75f48b5aaa3ac2b7c86663\",\"type\":\"production\",\"sections\":{\"leadspace\":{\"data\":{\"content\":[{\"blocklink\":true,\"largeCol\":\"bx--col-lg-6\",\"imagePos\":\"top right\",\"bgColor\":\"#000000\",\"ctaType\":\"links\",\"ctaColor\":\"gray-90\",\"webm\":\"\",\"gif\":\"\",\"videoImage\":\"\",\"ibmEvLinkTitle\":\"\",\"ibmEvGroup\":\"\",\"ibmEvName\":\"\",\"ibmEvSection\":\"L1\",\"ibmEvTarget\":\"\",\"lsPaddingTop\":\"ibm-pt-5\",\"lsPaddingBottom\":\"ibm-pb-5\",\"ctaOneVideoID\":\"\",\"ctaOneIcon\":\"forward\",\"videoID\":\"\",\"mp4\":\"\",\"type\":\"carbon\",\"ctaTwoVideoID\":\"\",\"ctaTwoIcon\":\"forward\",\"videoType\":\"kaltura\",\"alternate\":true,\"titleType\":\"bx--type-expressive-heading-05\",\"title\":\"The best of IBM 2022\\n\",\"copy\":\"From quantum breakthroughs to drug discovery, these 11 stories point to a brighter, more sustainable future\\n\",\"timestamp\":1671460488507,\"ctaOne\":\"See the year in review\",\"ctaOneLink\":\"https://web.archive.org/web/20230224123642/https://www.ibm.com/thought-leadership/best-of/2022/?lnk=ushpv18l1\",\"airtableID\":\"27195\",\"imageMobile\":\"https://web.archive.org/web/20230224123642/https://1.dam.s81c.com/p/0a23e3c651299e47/20221216-best-of-2022-mobile-720x360.jpg\",\"image\":\"https://web.archive.org/web/20230224123642/https://1.dam.s81c.com/p/0a23e3c651299e48/20221216-best-of-2022-2304x983.jpg\",\"videoPosition\":\"video-center\",\"imageAlt\":\"Collage of semiconductor, 6 new creators, mayflower ship, man in a cleanroom, woman writing on a whiteboard, 2 men moving a mainframe \"}]}},\"newsflash\":{\"data\":{\"content\":[{\"active\":false,\"videoID\":\"\",\"bgColor\":\"#001d6c\",\"videoType\":\"kaltura\",\"ibmEvSection\":\"NF1\",\"airtableID\":\"\",\"sandbox\":false,\"title\":\"\\u003cstrong\\u003eSurvey\\u003c/strong\\u003e: Many perceive technical training and certification as out of reach. IBM SkillsBuild can you help you learn for free, worldwide\\u0026nbsp;\\u0026#8594;\",\"stage\":false,\"timestamp\":1676563315130,\"videoTitle\":\"\",\"videoDesc\":\"\",\"link\":\"https://web.archive.org/web/20230224123642/https://newsroom.ibm.com/2023-02-14-New-IBM-Survey-Reveals-the-Greatest-Perceived-Barrier-to-Professional-or-Technical-Skill-Development-is-that-the-Programs-are-Too-Expensive?lnk=ushpv18nf1\"},{\"active\":false,\"videoID\":\"\",\"bgColor\":\"#001d6c\",\"videoType\":\"kaltura\",\"ibmEvSection\":\"NF2\",\"airtableID\":\"\",\"sandbox\":false,\"title\":\"\\u003cstrong\\u003eNew\\u003c/strong\\u003e: \\u0026nbsp;\\u0026#8594;\",\"stage\":false,\"timestamp\":1676316899591},{\"active\":false,\"videoID\":\"\",\"bgColor\":\"#001d6c\",\"videoType\":\"kaltura\",\"ibmEvSection\":\"NF3\",\"airtableID\":\"\",\"sandbox\":false,\"title\":\"\\u003cstrong\\u003eNew\\u003c/strong\\u003e: \\u0026nbsp;\\u0026#8594;\",\"stage\":false,\"timestamp\":1670900212031,\"videoTitle\":\"\",\"videoDesc\":\"\",\"link\":\"\"},{\"active\":false,\"videoID\":\"\",\"bgColor\":\"#001d6c\",\"videoType\":\"kaltura\",\"ibmEvSection\":\"NF4\",\"airtableID\":\"\",\"sandbox\":false,\"title\":\"\\u003cstrong\\u003eNew\\u003c/strong\\u003e: \\u0026nbsp;\\u0026#8594;\",\"stage\":false,\"timestamp\":1676046144350,\"link\":\"\"},{\"active\":false,\"videoID\":\"\",\"bgColor\":\"#001d6c\",\"videoType\":\"kaltura\",\"ibmEvSection\":\"NF5\",\"airtableID\":\"\",\"sandbox\":false,\"title\":\"\\u003cstrong\\u003eNew\\u003c/strong\\u003e:  IBM and NASA collaborate on new tech using AI to extract climate change insights from existing data\\u0026nbsp;\\u0026#8594;\",\"stage\":false,\"timestamp\":1675694677989,\"link\":\"https://web.archive.org/web/20230224123642/https://research.ibm.com/blog/ibm-nasa-foundation-models?lnk=ushpv18nf5\"},{\"active\":false,\"videoID\":\"\",\"bgColor\":\"#001d6c\",\"videoType\":\"kaltura\",\"ibmEvSection\":\"NF6\",\"airtableID\":\"\",\"sandbox\":false,\"title\":\"\\u003cstrong\\u003eNew\\u003c/strong\\u003e: \\u0026nbsp;\\u0026#8594;\",\"stage\":false,\"timestamp\":1668702082528,\"videoTitle\":\"\",\"videoDesc\":\"\",\"link\":\"\"},{\"active\":false,\"videoID\":\"\",\"bgColor\":\"#001d6c\",\"videoType\":\"kaltura\",\"ibmEvSection\":\"NF7\",\"airtableID\":\"\",\"sandbox\":false,\"title\":\"\\u003cstrong\\u003eNews\\u003c/strong\\u003e: IBM acquires StepZen to help enterprises get more business value from their data and APIs\\u0026nbsp;\\u0026#8594;\",\"stage\":false,\"timestamp\":1675970682146,\"link\":\"https://web.archive.org/web/20230224123642/https://newsroom.ibm.com/IBM-Acquires-StepZen-to-Help-Enterprises-Get-More-Business-Value-from-Their-Data-and-APIs?lnk=ushpv18nf7\"},{\"active\":false,\"videoID\":\"\",\"bgColor\":\"#001d6c\",\"videoType\":\"kaltura\",\"ibmEvSection\":\"NF8\",\"airtableID\":\"\",\"sandbox\":false,\"title\":\"\\u003cstrong\\u003eNew\\u003c/strong\\u003e: \\u0026nbsp;\\u0026#8594;\",\"stage\":false,\"timestamp\":1667576613575}]}},\"mastheadbtn\":{\"data\":{\"content\":[{\"stage\":false,\"tool\":false,\"title\":\"Stay safe, y\\u0026#8217;all.\",\"link\":\"https://web.archive.org/web/20230224123642/https://www.ibm.com/impact/covid-19/?lnk=ushpv18mb\",\"active\":false,\"timestamp\":1591040701251}]}},\"featured\":{\"data\":{\"content\":[{\"videoImage\":\"\",\"videoType\":\"kaltura\",\"ibmEvLinkTitle\":\"\",\"ibmEvGroup\":\"\",\"ibmEvName\":\"\",\"ibmEvSection\":\"F1\",\"ibmEvTarget\":\"\",\"damVideoMP4\":\"\",\"damVideoWebM\":\"\",\"icon\":\"forward\",\"videoID\":\"\",\"title\":\"27164 IBM iX\",\"timestamp\":1670602077463,\"airtableID\":\"27164\",\"eyebrow\":\"IBM iX: design-led, data-driven\",\"copy\":\"A human-centered approach helps IBM Consulting clients transform customer and employee experiences\",\"image\":\"https://web.archive.org/web/20230224123642/https://1.dam.s81c.com/p/0868c64e393cf933/2017_12_Slowell_Inside_IBM_Cloud_developers_242.jpg.global.s_4x3.jpg\",\"imageAlt\":\"Two co-workers talking at a desk\",\"button\":\"\",\"link\":\"https://web.archive.org/web/20230224123642/https://www.ibm.com/consulting/ibmix?lnk=ushpv18f1\"},{\"videoImage\":\"\",\"videoType\":\"youtube\",\"ibmEvLinkTitle\":\"\",\"ibmEvGroup\":\"\",\"ibmEvName\":\"\",\"ibmEvSection\":\"F2\",\"ibmEvTarget\":\"\",\"damVideoMP4\":\"\",\"damVideoWebM\":\"\",\"icon\":\"forward\",\"videoID\":\"\",\"title\":\"27173 Is your business cybersafe?\",\"copy\":\"Work with senior security consultants to understand where you are and where you need to go in this free 3\\u0026#8209;hour workshop\",\"eyebrow\":\"Is your business cybersafe?\\n\",\"timestamp\":1670602025015,\"airtableID\":\"27173\",\"image\":\"https://web.archive.org/web/20230224123642/https://1.dam.s81c.com/p/08a56f9ac246227c/20220801_26754_Countdown-to-Ransomware-guide-security-intelligence-444x333.jpg\",\"link\":\"https://web.archive.org/web/20230224123642/https://www.ibm.com/security/resources/workshop?lnk=ushpv18f2\",\"imageAlt\":\"Three IBM Security employees at a conference table interacting with a man at a whiteboard\"},{\"videoImage\":\"\",\"videoType\":\"youtube\",\"ibmEvLinkTitle\":\"\",\"ibmEvGroup\":\"\",\"ibmEvName\":\"\",\"ibmEvSection\":\"F3\",\"ibmEvTarget\":\"\",\"damVideoMP4\":\"\",\"damVideoWebM\":\"\",\"icon\":\"forward\",\"videoID\":\"\",\"title\":\"27158 Food trust/FSMA\",\"timestamp\":1670605658975,\"airtableID\":\"27158\",\"copy\":\"IBM Food Trust ensures a safer food supply and simplifies compliance with the latest US FDA traceability rules\",\"image\":\"https://web.archive.org/web/20230224123642/https://1.dam.s81c.com/p/04d38222a5bc17ff/84962edd-c289-4d32-ad92a178655984d5.jpg.global.s_4x3.jpg\",\"mobileImg\":\"https://web.archive.org/web/20230224123642/https://1.dam.s81c.com/public/content/dam/worldwide-content/homepage/ul/g/9e/7c/20210823-f-swiss-re-case-study-26069.jpg\",\"eyebrow\":\"A higher standard, farm to fork\",\"link\":\"https://web.archive.org/web/20230224123642/https://www.ibm.com/products/supply-chain-intelligence-suite/food-trust?lnk=ushpv18f3\",\"imageAlt\":\"Oranges on a factory assembly line\"},{\"videoImage\":\"\",\"videoType\":\"youtube\",\"ibmEvLinkTitle\":\"\",\"ibmEvGroup\":\"\",\"ibmEvName\":\"\",\"ibmEvSection\":\"F4\",\"ibmEvTarget\":\"\",\"damVideoMP4\":\"\",\"damVideoWebM\":\"\",\"icon\":\"forward\",\"videoID\":\"\",\"title\":\"27177 Year in review newsletters\",\"image\":\"https://web.archive.org/web/20230224123642/https://1.dam.s81c.com/p/08243aa34ebb7a36/2022_05_10_SpencerLowell_WorkingWorld_IBM_Brand_Library_285.jpg.global.s_4x3.jpg\",\"copy\":\"Three year-in-review newsletters will highlight the impact of todayâs technology on the future of business. Subscribe now.\",\"eyebrow\":\"2022âs top thought leadership\",\"timestamp\":1670853303889,\"airtableID\":\"27177\",\"link\":\"https://web.archive.org/web/20230224123642/https://www.ibm.com/subscribe/?lnk=ushpv18f4\",\"imageAlt\":\"Orion Crew Module solar panel mockup deployment test at NASA Glen Research Center in Sandusky, Ohio\"},{\"subcopy\":\"\",\"ibmEvLinkTitle\":\"\",\"ibmEvGroup\":\"\",\"ibmEvName\":\"\",\"ibmEvSection\":\"F5\",\"ibmEvTarget\":\"\",\"button_mobile\":\"t1\",\"videoID\":\"\",\"icon\":\"forward\",\"image\":\"\",\"title\":\"\",\"eyebrow\":\"\",\"copy\":\"\",\"button\":\"\",\"timestamp\":1644590702649,\"airtableID\":\"\",\"link\":\"\"},{\"subcopy\":\"\",\"ibmEvLinkTitle\":\"\",\"ibmEvGroup\":\"\",\"ibmEvName\":\"\",\"ibmEvSection\":\"F6\",\"ibmEvTarget\":\"\",\"button_mobile\":\"t1\",\"videoID\":\"\",\"icon\":\"forward\",\"image\":\"https://web.archive.org/web/20230224123642/https://1.dam.s81c.com/public/content/dam/worldwide-content/homepage/ul/g/7b/7b/20220117-cloud-simplicity-26358-2304x983.png\",\"title\":\"\",\"eyebrow\":\"A unified cloud experience\",\"copy\":\"Build, deploy and scale faster across any environment with consistency and security\",\"button\":\"Simplify your multicloud\",\"timestamp\":1643665707293,\"airtableID\":\"\",\"link\":\"https://web.archive.org/web/20230224123642/https://www.ibm.com/cloud/campaign/cloud-simplicity?lnk=ushpv18f6\"},{\"videoImage\":\"\",\"videoType\":\"youtube\",\"ibmEvLinkTitle\":\"\",\"ibmEvGroup\":\"\",\"ibmEvName\":\"\",\"ibmEvSection\":\"F7\",\"ibmEvTarget\":\"\",\"damVideoMP4\":\"\",\"damVideoWebM\":\"\",\"icon\":\"forward\",\"videoID\":\"\",\"title\":\"\",\"link\":\"https://web.archive.org/web/20230224123642/https://www.ibm.com/consulting/?lnk=ushpv18f7\",\"image\":\"https://web.archive.org/web/20230224123642/https://1.dam.s81c.com/public/content/dam/worldwide-content/homepage/ul/g/ae/b2/20211103-f-ibm-consulting-26242.gif\",\"eyebrow\":\"Move fast and far with IBM Consulting\",\"copy\":\"Together, we can turn ideas into action better than we ever could alone\",\"button\":\"Navigate the new rules of modern business with a partner you\\u0026nbsp;trust\",\"timestamp\":1643665749045,\"airtableID\":\"\"},{\"videoID\":\"\",\"videoImage\":\"\",\"videoType\":\"youtube\",\"ibmEvLinkTitle\":\"\",\"ibmEvGroup\":\"\",\"ibmEvName\":\"\",\"ibmEvSection\":\"F8\",\"ibmEvTarget\":\"\",\"damVideoMP4\":\"\",\"damVideoWebM\":\"\",\"icon\":\"forward\",\"timestamp\":1643665604671,\"title\":\"\",\"eyebrow\":\"\",\"button\":\"\",\"copy\":\"\",\"image\":\"\",\"link\":\"\",\"airtableID\":\"\"},{\"videoImage\":\"\",\"videoType\":\"kaltura\",\"ibmEvLinkTitle\":\"\",\"ibmEvGroup\":\"\",\"ibmEvName\":\"\",\"ibmEvSection\":\"F9\",\"ibmEvTarget\":\"\",\"damVideoMP4\":\"\",\"damVideoWebM\":\"\",\"icon\":\"forward\",\"videoID\":\"\",\"title\":\"\",\"image\":\"\",\"link\":\"\",\"button\":\"\",\"eyebrow\":\"\",\"copy\":\"\",\"timestamp\":1643665619583,\"airtableID\":\"\"},{\"subcopy\":\"\",\"ibmEvLinkTitle\":\"\",\"ibmEvGroup\":\"\",\"ibmEvName\":\"\",\"ibmEvSection\":\"F10\",\"ibmEvTarget\":\"\",\"button_mobile\":\"t1\",\"videoID\":\"\",\"icon\":\"forward\",\"image\":\"\",\"title\":\"\",\"eyebrow\":\"\",\"copy\":\"\",\"button\":\"\",\"link\":\"\",\"timestamp\":1643665630573,\"airtableID\":\"\"},{\"subcopy\":\"\",\"ibmEvLinkTitle\":\"\",\"ibmEvGroup\":\"\",\"ibmEvName\":\"\",\"ibmEvSection\":\"F11\",\"ibmEvTarget\":\"\",\"button_mobile\":\"t1\",\"videoID\":\"\",\"icon\":\"forward\",\"image\":\"\",\"title\":\"\",\"eyebrow\":\"\",\"copy\":\"\",\"button\":\"\",\"link\":\"\",\"timestamp\":1643665641479,\"airtableID\":\"\"},{\"videoImage\":\"\",\"videoType\":\"kaltura\",\"ibmEvLinkTitle\":\"\",\"ibmEvGroup\":\"\",\"ibmEvName\":\"\",\"ibmEvSection\":\"F12\",\"ibmEvTarget\":\"\",\"damVideoMP4\":\"\",\"damVideoWebM\":\"\",\"icon\":\"forward\",\"videoID\":\"\",\"title\":\"\",\"eyebrow\":\"\",\"copy\":\"\",\"button\":\"\",\"image\":\"\",\"link\":\"\",\"timestamp\":1643665651571,\"airtableID\":\"\"}]},\"config\":{\"type\":\"quatro\",\"totalCards\":\"12\"}},\"research\":{\"data\":{\"content\":[{\"videoImage\":\"\",\"videoType\":\"youtube\",\"ibmEvLinkTitle\":\"\",\"ibmEvGroup\":\"\",\"ibmEvName\":\"\",\"ibmEvSection\":\"R1\",\"ibmEvTarget\":\"\",\"damVideoMP4\":\"\",\"damVideoWebM\":\"\",\"icon\":\"forward\",\"videoID\":\"\",\"title\":\"27189 Spot the dog safety monitor\",\"timestamp\":1670853838373,\"airtableID\":\"27189\",\"image\":\"https://web.archive.org/web/20230224123642/https://1.dam.s81c.com/p/0a23e41430abcb17/20221208-r1-spot-the-dog-robotics-offerings-27188-1600x900.jpg\",\"mobileImg\":\"https://web.archive.org/web/20230224123642/https://1.dam.s81c.com/public/content/dam/worldwide-content/homepage/ul/g/9e/7c/20210823-f-swiss-re-case-study-26069.jpg\",\"headline\":\"Pin-Yu Chen challenges AI every day to build the most trustworthy systems possible\",\"eyebrow\":\"Will Spot the danger-detecting robot be your safety inspectorâs best friend?\",\"imageAlt\":\"composite image featuring Spot, the dog-like robot\",\"copy\":\"\\n\",\"link\":\"https://web.archive.org/web/20230224123642/https://research.ibm.com/blog/ibm-ai-edge-national-grid-monitoring?lnk=ushpv18r1\"},{\"videoImage\":\"\",\"videoType\":\"youtube\",\"ibmEvLinkTitle\":\"\",\"ibmEvGroup\":\"\",\"ibmEvName\":\"\",\"ibmEvSection\":\"R2\",\"ibmEvTarget\":\"\",\"damVideoMP4\":\"\",\"damVideoWebM\":\"\",\"icon\":\"forward\",\"videoID\":\"\",\"title\":\"27190 Quantum Open Science Prize\",\"timestamp\":1670593706262,\"airtableID\":\"27190\",\"copy\":\"\\n\",\"image\":\"https://web.archive.org/web/20230224123642/https://1.dam.s81c.com/p/09f257ea96c87909/20221205-r1-quantum-open-science-prize-1600x900.png\",\"mobileImg\":\"https://web.archive.org/web/20230224123642/https://1.dam.s81c.com/public/content/dam/worldwide-content/homepage/ul/g/9e/7c/20210823-f-swiss-re-case-study-26069.jpg\",\"headline\":\"AI processes can have a massive carbon footprint. They donât have to, thanks to analog AI.\",\"eyebrow\":\"IBM Quantumâs Open Science Prize seeks the best open source solutions to pressing problems\",\"imageAlt\":\"Schematic illustration of the honeycomb-pattered Kagome lattice\",\"link\":\"https://web.archive.org/web/20230224123642/https://research.ibm.com/blog/ibm-quantum-open-science-prize-2022?lnk=ushpv18r2\"},{\"videoImage\":\"\",\"videoType\":\"youtube\",\"ibmEvLinkTitle\":\"\",\"ibmEvGroup\":\"\",\"ibmEvName\":\"\",\"ibmEvSection\":\"R3\",\"ibmEvTarget\":\"\",\"damVideoMP4\":\"\",\"damVideoWebM\":\"\",\"icon\":\"forward\",\"videoID\":\"\",\"title\":\"27191 Ruthenium 1nm chip\",\"timestamp\":1670593873723,\"airtableID\":\"27191\",\"copy\":\"\\n\",\"image\":\"https://web.archive.org/web/20230224123642/https://1.dam.s81c.com/p/09e9905470286c48/20221205-r1-1nm-chips-ruthenium-27178-1600x900.jpg\",\"mobileImg\":\"https://web.archive.org/web/20230224123642/https://1.dam.s81c.com/public/content/dam/worldwide-content/homepage/ul/g/9e/7c/20210823-f-swiss-re-case-study-26069.jpg\",\"headline\":\"AI processes can have a massive carbon footprint. They donât have to, thanks to analog AI.\",\"eyebrow\":\"The 1-nanometer future: a metal called ruthenium will shrink the worldâs smallest chip below 2nm\",\"imageAlt\":\"Fingers holding a chip wafer with a computer chip closeup in an inset\",\"link\":\"https://web.archive.org/web/20230224123642/https://research.ibm.com/blog/1nm-chips-vtfet-ruthenium?lnk=ushpv18r3\"},{\"videoImage\":\"\",\"videoType\":\"youtube\",\"ibmEvLinkTitle\":\"\",\"ibmEvGroup\":\"\",\"ibmEvName\":\"\",\"ibmEvSection\":\"R4\",\"ibmEvTarget\":\"\",\"damVideoMP4\":\"\",\"damVideoWebM\":\"\",\"icon\":\"forward\",\"videoID\":\"https://web.archive.org/web/20230224123642/https://www.ibm.com/thought-leadership/institute-business-value/report/space-cloud-computing\",\"title\":\"27192 PyTorch AI foundation models\",\"timestamp\":1670593999804,\"airtableID\":\"27192\",\"image\":\"https://web.archive.org/web/20230224123642/https://1.dam.s81c.com/p/09e98ff48ebdd003/20221128-r-pytorch-foundational-models-27155-800x450.png\",\"mobileImg\":\"https://web.archive.org/web/20230224123642/https://1.dam.s81c.com/public/content/dam/worldwide-content/homepage/ul/g/9e/7c/20210823-f-swiss-re-case-study-26069.jpg\",\"headline\":\"Pin-Yu Chen challenges AI every day to build the most trustworthy systems possible\",\"eyebrow\":\"Train large AI models using standard Ethernet networking on Red Hat OpenShift, on any cloud\\n\",\"imageAlt\":\"intersecting groups of lines representing networking\",\"copy\":\"\\n\",\"link\":\"https://web.archive.org/web/20230224123642/https://research.ibm.com/blog/ibm-pytorch-cloud-ai-ethernet?lnk=ushpv18r4\"}]},\"config\":{\"enabled\":\"true\",\"type\":\"carousel\",\"totalCards\":\"12\"}},\"makers\":{\"data\":{\"content\":[{\"alternate\":true,\"ctaColor\":\"red-50\",\"ibmEvLinkTitle\":\"\",\"ibmEvGroup\":\"\",\"ibmEvName\":\"case study\",\"ibmEvSection\":\"M1\",\"ibmEvTarget\":\"\",\"imageMobile\":\"\",\"damVideoMP4\":\"\",\"damVideoWebM\":\"\",\"ctaCopyThree\":\"\",\"ctaLinkTwoThree\":\"\",\"imagePos\":\"center center\",\"copyTwo\":\"\",\"videoType\":\"kaltura\",\"eyebrow\":\"Sustainability insights make facilities work more efficiently\",\"airtableID\":\"27171\",\"videoID\":\"\",\"mobileColumnHalf\":true,\"timestamp\":1671118406356,\"ctaLinkOne\":\"https://web.archive.org/web/20230224123642/https://www.ibm.com/case-studies/audi-uk/?lnk=ushpv18cs1\",\"copyOne\":\"A commitment to enhanced user experience enabled Audi UK to deepen its connection to customers\",\"title\":\"27171 GRE-Envizi\",\"ctaCopyOne\":\"See how IBM Consulting helped boost lead generation by 59%\",\"button\":\"See how data provided by the Envizi ESG Suite helped IBM reduce carbon emissions by 62%\",\"copy\":\"IBM Global Real Estate needed a greener way to manage more than 50 million square feet of space worldwide\",\"link\":\"https://web.archive.org/web/20230224123642/https://www.ibm.com/case-studies/ibm-gre?lnk=ushpv18m1\",\"image\":\"https://web.archive.org/web/20230224123642/https://1.dam.s81c.com/p/09e9905470a86c9a/20221212-m-gre-envizi-27171-1600x900.jpg\",\"imageAlt\":\"A Black professional in an office building overlooking green landscape\"},{\"alternate\":true,\"ctaColor\":\"red-50\",\"ibmEvLinkTitle\":\"\",\"ibmEvGroup\":\"\",\"ibmEvName\":\"case study\",\"ibmEvSection\":\"M2\",\"ibmEvTarget\":\"\",\"imageMobile\":\"\",\"damVideoMP4\":\"\",\"damVideoWebM\":\"\",\"ctaCopyThree\":\"\",\"ctaLinkTwoThree\":\"\",\"imagePos\":\"center center\",\"copyTwo\":\"\",\"videoType\":\"kaltura\",\"eyebrow\":\"For predictable trains, we need predictive maintenance\",\"airtableID\":\"27193\",\"videoID\":\"\",\"mobileColumnHalf\":true,\"timestamp\":1670599073776,\"ctaLinkOne\":\"https://web.archive.org/web/20230224123642/https://www.ibm.com/case-studies/audi-uk/?lnk=ushpv18cs1\",\"copyOne\":\"A commitment to enhanced user experience enabled Audi UK to deepen its connection to customers\",\"title\":\"27193 Downer Group\",\"ctaCopyOne\":\"See how IBM Consulting helped boost lead generation by 59%\",\"button\":\"Working with IBM Consulting, they created TrainDNA and increased reliability by 51%\",\"copy\":\"When Australia moved to outsource operation of its railroad system, the Downer Group needed a way to handle a huge new workload\",\"link\":\"https://web.archive.org/web/20230224123642/https://www.ibm.com/case-studies/downer?lnk=ushpv18m2\",\"image\":\"https://web.archive.org/web/20230224123642/https://1.dam.s81c.com/p/09f257ea96c8790a/20221205-m-downer-group-27163-1600x900.jpg\",\"imageAlt\":\"Young woman looking out a train window at the landscape passing by\"},{\"alternate\":true,\"ctaColor\":\"red-50\",\"ibmEvLinkTitle\":\"\",\"ibmEvGroup\":\"\",\"ibmEvName\":\"case study\",\"ibmEvSection\":\"M3\",\"ibmEvTarget\":\"\",\"imageMobile\":\"\",\"damVideoMP4\":\"\",\"damVideoWebM\":\"\",\"ctaCopyThree\":\"\",\"ctaLinkTwoThree\":\"\",\"imagePos\":\"center center\",\"copyTwo\":\"\",\"videoType\":\"kaltura\",\"eyebrow\":\"New Jersey keeps the heat and lights on for those in need\",\"airtableID\":\"27194\",\"videoID\":\"\",\"mobileColumnHalf\":true,\"timestamp\":1670599058497,\"ctaLinkOne\":\"https://web.archive.org/web/20230224123642/https://www.ibm.com/case-studies/audi-uk/?lnk=ushpv18cs1\",\"copyOne\":\"A commitment to enhanced user experience enabled Audi UK to deepen its connection to customers\",\"title\":\"27194 State of New Jersey\",\"ctaCopyOne\":\"See how IBM Consulting helped boost lead generation by 59%\",\"button\":\"IBM Consulting designed a portal that handles 6,200 calls a month, fast-tracking $127M in relief\",\"copy\":\"The pandemic caused many low-income residents to fall behind on their utility bills, putting their home heating at risk\",\"link\":\"https://web.archive.org/web/20230224123642/https://www.ibm.com/case-studies/new-jersey-department-of-community-affairs/?lnk=ushpv18m3\",\"image\":\"https://web.archive.org/web/20230224123642/https://1.dam.s81c.com/p/09e98ff48ebdd004/20221128-m-new-jersey-department-of-community-affairs-27154-1600x900.jpg\",\"imageAlt\":\"Winter view of suburban houses through frost on a window\"}]},\"config\":{\"enabled\":\"true\",\"type\":\"carousel\",\"totalCards\":\"12\"}},\"tech\":{\"data\":{\"content\":[{\"imageMobile\":\"10312017-n-episode6-starwars-600x260.jpg\",\"videoType\":\"kaltura\",\"ibmEvLinkTitle\":\"Dear Tech Sonoma\",\"ibmEvGroup\":\"Advertising\",\"ibmEvName\":\"Ad support\",\"ibmEvSection\":\"DT\",\"ibmEvTarget\":\"\",\"damVideoMP4\":\"\",\"damVideoWebM\":\"\",\"videoID\":\"\",\"icon\":\"forward\",\"copy\":\"\",\"link\":\"\",\"airtableID\":\"\",\"title\":\"\",\"eyebrow\":\"\",\"button\":\"\",\"image\":\"\",\"timestamp\":1598626304757},{\"icon\":\"forward\",\"videoID\":\"\",\"videoType\":\"kaltura\",\"ibmEvLinkTitle\":\"Network Consulting Services\",\"ibmEvGroup\":\"GTS\",\"ibmEvName\":\"service\",\"ibmEvSection\":\"BT\",\"ibmEvTarget\":\"\",\"damVideoMP4\":\"\",\"damVideoWebM\":\"\",\"title\":\"\",\"eyebrow\":\"\",\"image\":\"\",\"copy\":\"\",\"button\":\"\",\"link\":\"\",\"timestamp\":1598626317181,\"airtableID\":\"\"},{\"videoType\":\"kaltura\",\"ibmEvLinkTitle\":\"Systems TechU Las Vegas\",\"ibmEvGroup\":\"STG\",\"ibmEvName\":\"event\",\"ibmEvSection\":\"ST\",\"ibmEvTarget\":\"\",\"damVideoMP4\":\"\",\"damVideoWebM\":\"\",\"videoID\":\"\",\"icon\":\"play\",\"airtableID\":\"\",\"title\":\"\",\"copy\":\"\",\"eyebrow\":\"\",\"link\":\"\",\"image\":\"\",\"button\":\"\",\"timestamp\":1598626329298}]}},\"trials\":{\"data\":{\"content\":[{\"icon\":\"forward\",\"videoID\":\"\",\"videoImage\":\"\",\"videoType\":\"youtube\",\"ibmEvLinkTitle\":\"\",\"ibmEvGroup\":\"\",\"ibmEvName\":\"\",\"ibmEvSection\":\"T1\",\"ibmEvTarget\":\"\",\"damVideoMP4\":\"\",\"damVideoWebM\":\"\",\"timestamp\":1670594621355,\"title\":\"1303 IBM Watson Assistant\",\"airtableID\":\"1303\",\"copy\":\"Help customers get stuff done quickly, easily, on any channel. Ask for a demo.\",\"eyebrow\":\"IBM Watson Assistant\",\"link\":\"https://web.archive.org/web/20230224123642/https://www.ibm.com/products/watson-assistant?lnk=ushpv18t1\\u0026lnk2=trial_WatAssist\\u0026psrc=none\\u0026pexp=def\",\"image\":\"https://web.archive.org/web/20230224123642/https://1.dam.s81c.com/public/content/dam/worldwide-content/homepage/ul/g/ee/15/20220216-t-ibm-watson-assistant.png\",\"imageAlt\":\"The Watson Assistant interface with text boxes and a simulated chatbot\"},{\"subcopy\":\"\",\"ibmEvLinkTitle\":\"\",\"ibmEvGroup\":\"\",\"ibmEvName\":\"\",\"ibmEvSection\":\"T2\",\"ibmEvTarget\":\"\",\"button_mobile\":\"T2\",\"icon\":\"forward\",\"timestamp\":1670594649943,\"title\":\"1304 Cloud Pak for Business Automation\",\"airtableID\":\"1304\",\"copy\":\"Build and scale automation applications on any cloud. Test drive it at no\\u0026nbsp;cost.\",\"eyebrow\":\"Cloud Pak for Business Automation\",\"image\":\"https://web.archive.org/web/20230224123642/https://1.dam.s81c.com/public/content/dam/worldwide-content/homepage/ul/g/67/6a/20220216-t-ibm-cloud-pak-for-automation.png\",\"link\":\"https://web.archive.org/web/20230224123642/https://www.ibm.com/cloud/cloud-pak-for-automation?lnk=ushpv18t2\\u0026lnk2=trial_CloudPakAtm\\u0026psrc=none\\u0026pexp=def\",\"imageAlt\":\"spreadsheet-type charts\"},{\"subcopy\":\"\",\"ibmEvLinkTitle\":\"\",\"ibmEvGroup\":\"\",\"ibmEvName\":\"\",\"ibmEvSection\":\"T3\",\"ibmEvTarget\":\"\",\"button_mobile\":\"T4\",\"timestamp\":1670594670414,\"airtableID\":\"1305\",\"title\":\"1305 IBM Instana Observability\",\"image\":\"https://web.archive.org/web/20230224123642/https://1.dam.s81c.com/p/08f951362f270092/Instana-trial-800x450.jpg\",\"eyebrow\":\"IBM Instana Observability\",\"copy\":\"Easily manage the performance of your microservice applications. Get a free trial.\",\"link\":\"https://web.archive.org/web/20230224123642/https://www.ibm.com/cloud/instana?lnk=ushpv18t3\\u0026lnk2=trial_Instana\\u0026psrc=none\\u0026pexp=def\",\"imageAlt\":\"Instana dashboard with status tables and charts\"},{\"subcopy\":\"\",\"ibmEvLinkTitle\":\"\",\"ibmEvGroup\":\"\",\"ibmEvName\":\"\",\"ibmEvSection\":\"T4\",\"ibmEvTarget\":\"\",\"button_mobile\":\"T4\",\"timestamp\":1645198930856,\"airtableID\":\"\",\"title\":\"\",\"image\":\"\",\"eyebrow\":\"\",\"copy\":\"\",\"button\":\"\",\"link\":\"\"}]}},\"contentspotlight\":{\"data\":{\"content\":[{\"alternate\":true,\"ctaColor\":\"red-50\",\"ibmEvLinkTitle\":\"\",\"ibmEvGroup\":\"\",\"ibmEvName\":\"case study\",\"ibmEvSection\":\"CS1\",\"ibmEvTarget\":\"\",\"imageMobile\":\"\",\"damVideoMP4\":\"\",\"damVideoWebM\":\"\",\"ctaCopyThree\":\"\",\"ctaLinkTwoThree\":\"\",\"imagePos\":\"center left\",\"copyTwo\":\"\",\"videoType\":\"kaltura\",\"eyebrow\":\"\",\"airtableID\":\"\",\"videoID\":\"\",\"mobileColumnHalf\":true,\"timestamp\":1645199476505,\"ctaLinkOne\":\"\",\"copyOne\":\"\",\"title\":\"\",\"ctaCopyOne\":\"\",\"image\":\"\"},{\"alternate\":true,\"image\":\"https://web.archive.org/web/20230224123642/https://1.dam.s81c.com/public/content/dam/worldwide-content/homepage/ul/g/ea/ca/cs-hub-logos-k-1042x1130.png\",\"ctaColor\":\"red-50\",\"videoID\":\"\",\"videoType\":\"youtube\",\"ibmEvLinkTitle\":\"\",\"ibmEvGroup\":\"\",\"ibmEvName\":\"case study\",\"ibmEvSection\":\"CS2\",\"ibmEvTarget\":\"\",\"imageMobile\":\"\",\"damVideoMP4\":\"\",\"damVideoWebM\":\"\",\"ctaCopyThree\":\"\",\"ctaLinkTwoThree\":\"\",\"imagePos\":\"center center\",\"eyebrow\":\"25339\",\"title\":\"Client success stories\",\"ctaCopyTwo\":\"\",\"ctaCopyOne\":\"Read how industry leaders put smart to work\",\"ctaLinkTwo\":\"\",\"ctaLinkOne\":\"https://web.archive.org/web/20230224123642/https://www.ibm.com/case-studies/search?search\\u0026lnk=ushpv18cs2\",\"copyOne\":\"\",\"copyTwo\":\"\",\"timestamp\":1638195426535,\"airtableID\":\"25339\",\"mobileColumnHalf\":true}]},\"config\":{\"type\":\"dos\"}},\"thinknews\":{\"data\":{\"content\":[{\"videoImage\":\"\",\"videoType\":\"youtube\",\"ibmEvLinkTitle\":\"\",\"ibmEvGroup\":\"\",\"ibmEvName\":\"\",\"ibmEvSection\":\"Th1\",\"ibmEvTarget\":\"\",\"damVideoMP4\":\"\",\"damVideoWebM\":\"\",\"icon\":\"forward\",\"videoID\":\"\",\"label\":\"\",\"title\":\"\",\"image\":\"https://web.archive.org/web/20230224123642/https://1.dam.s81c.com/p/0797bc3546c3dcc9/20220405-ibm-z-multiframe-annc-444x320-26343.jpg\",\"copy\":\"Breeze through 25 billion secure transactions daily, across any hybrid cloud structure\",\"eyebrow\":\"\",\"timestamp\":1655481021045,\"airtableID\":\"\",\"link\":\"\",\"active\":false,\"sandbox\":false,\"stage\":false},{\"videoImage\":\"\",\"videoType\":\"youtube\",\"ibmEvLinkTitle\":\"\",\"ibmEvGroup\":\"\",\"ibmEvName\":\"\",\"ibmEvSection\":\"Th2\",\"ibmEvTarget\":\"\",\"damVideoMP4\":\"\",\"damVideoWebM\":\"\",\"icon\":\"forward\",\"videoID\":\"\",\"label\":\"\",\"title\":\"\",\"timestamp\":1655481064068,\"airtableID\":\"\",\"eyebrow\":\"\",\"copy\":\"Four out of five companies surveyed use or plan to adopt AI. Find out why.\\n\",\"link\":\"\",\"active\":false,\"sandbox\":false,\"stage\":false},{\"videoImage\":\"\",\"videoType\":\"youtube\",\"ibmEvLinkTitle\":\"\",\"ibmEvGroup\":\"\",\"ibmEvName\":\"\",\"ibmEvSection\":\"Th3\",\"ibmEvTarget\":\"\",\"damVideoMP4\":\"\",\"damVideoWebM\":\"\",\"icon\":\"forward\",\"videoID\":\"\",\"label\":\"\",\"title\":\"\",\"timestamp\":1655481115853,\"airtableID\":\"\",\"eyebrow\":\"\",\"copy\":\"Boost your growth with up to $120K in cloud credits and expert mentoring when you join the Startup with IBM program\\n\",\"image\":\"https://web.archive.org/web/20230224123642/https://1.dam.s81c.com/public/content/dam/worldwide-content/homepage/ul/g/0e/e0/20220131-startup-26374-444x320.jpg\",\"link\":\"\",\"active\":false,\"sandbox\":false,\"stage\":false},{\"videoImage\":\"\",\"videoType\":\"youtube\",\"ibmEvLinkTitle\":\"\",\"ibmEvGroup\":\"\",\"ibmEvName\":\"\",\"ibmEvSection\":\"Th4\",\"ibmEvTarget\":\"\",\"damVideoMP4\":\"\",\"damVideoWebM\":\"\",\"icon\":\"forward\",\"videoID\":\"\",\"label\":\"\",\"title\":\"\",\"image\":\"https://web.archive.org/web/20230224123642/https://1.dam.s81c.com/p/0797bc3546c3dcc9/20220405-ibm-z-multiframe-annc-444x320-26343.jpg\",\"copy\":\"Breeze through 25 billion secure transactions daily, across any hybrid cloud structure\\n\",\"eyebrow\":\"\",\"timestamp\":1655481135287,\"airtableID\":\"\",\"link\":\"\",\"active\":false,\"sandbox\":false,\"stage\":false},{\"videoImage\":\"\",\"videoType\":\"youtube\",\"ibmEvLinkTitle\":\"\",\"ibmEvGroup\":\"\",\"ibmEvName\":\"\",\"ibmEvSection\":\"Th5\",\"ibmEvTarget\":\"\",\"damVideoMP4\":\"\",\"damVideoWebM\":\"\",\"icon\":\"forward\",\"videoID\":\"\",\"label\":\"Creativity at work\",\"title\":\"\",\"timestamp\":1652111841522,\"airtableID\":\"\",\"eyebrow\":\"Meet the New Creators, 10 visionaries creatively applying technology in business to drive change\",\"copy\":\"Boost your growth with up to $120K in cloud credits and expert mentoring when you join the Startup with IBM program\\n\",\"image\":\"https://web.archive.org/web/20230224123642/https://1.dam.s81c.com/public/content/dam/worldwide-content/homepage/ul/g/0e/e0/20220131-startup-26374-444x320.jpg\",\"link\":\"https://web.archive.org/web/20230224123642/https://www.ibm.com/thought-leadership/new-creators?lnk=ushpv18Th3\",\"active\":false,\"sandbox\":false,\"stage\":false},{\"videoImage\":\"\",\"videoType\":\"youtube\",\"ibmEvLinkTitle\":\"\",\"ibmEvGroup\":\"\",\"ibmEvName\":\"\",\"ibmEvSection\":\"Th6\",\"ibmEvTarget\":\"\",\"damVideoMP4\":\"\",\"damVideoWebM\":\"\",\"icon\":\"forward\",\"videoID\":\"\",\"label\":\"Creativity at work\",\"title\":\"\",\"timestamp\":1652111851031,\"airtableID\":\"\",\"eyebrow\":\"Meet the New Creators, 10 visionaries creatively applying technology in business to drive change\",\"copy\":\"Boost your growth with up to $120K in cloud credits and expert mentoring when you join the Startup with IBM program\\n\",\"image\":\"https://web.archive.org/web/20230224123642/https://1.dam.s81c.com/public/content/dam/worldwide-content/homepage/ul/g/0e/e0/20220131-startup-26374-444x320.jpg\",\"link\":\"https://web.archive.org/web/20230224123642/https://www.ibm.com/thought-leadership/new-creators?lnk=ushpv18Th3\",\"active\":false,\"sandbox\":false,\"stage\":false}]}},\"big6LeadspaceCards\":{\"data\":{\"content\":[{\"title\":\"Work safe. Work smart.\",\"copy\":\"\",\"link\":\"https://web.archive.org/web/20230224123642/https://www.ibm.com/smarter-business/work-safe?lnk=ushpv18cv1\",\"timestamp\":1591797887933},{\"title\":\"Engage customers anywhere with Watson\",\"copy\":\"\",\"link\":\"https://web.archive.org/web/20230224123642/https://www.ibm.com/smarter-business/customer-experience?lnk=ushpv18cv2\",\"timestamp\":1591797833198},{\"title\":\"Enhance your IT resiliency and business continuity\",\"copy\":\"\",\"link\":\"https://web.archive.org/web/20230224123642/https://www.ibm.com/services/business-continuity?lnk=ushpv18cv3\",\"timestamp\":1591797923124},{\"title\":\"Accelerate agility and efficiency with IBM Cloud\",\"copy\":\"\",\"link\":\"https://web.archive.org/web/20230224123642/https://www.ibm.com/cloud/yourcloud?lnk=ushpv18cv4\",\"timestamp\":1591798189360},{\"title\":\"Protect against new cyber risks\",\"copy\":\"\",\"link\":\"https://web.archive.org/web/20230224123642/https://www.ibm.com/security?lnk=ushpv18cv5\",\"timestamp\":1591990121847},{\"title\":\"Build resilient supply chains and operations\",\"copy\":\"\",\"link\":\"https://web.archive.org/web/20230224123642/https://www.ibm.com/supply-chain?lnk=ushpv18cv6\",\"timestamp\":1591990130317}]}},\"certifications\":{\"data\":{\"content\":[{\"ibmEvSection\":\"tc1\",\"image\":\" https://1.dam.s81c.com/public/content/dam/worldwide-content/homepage/ul/g/bb/fd/20211018-cert-tech-u-virtual-edition.png\",\"eyebrow\":\"IBM TechU virtual edition: October 25â28\",\"title\":\"IBM TechU 2021, the virtual edition\",\"button\":\"Register to choose from 250+ sessions and labs, and engage live with experts and peers\",\"timestamp\":1634607850644,\"airtableID\":\"26189\",\"link\":\"https://web.archive.org/web/20230224123642/https://www.ibm.com/training/events/vtechu2021?lnk=ushpv18tc1\",\"mobileImg\":\"https://web.archive.org/web/20230224123642/https://1.dam.s81c.com/public/content/dam/worldwide-content/homepage/ul/g/bb/fd/20211018-cert-tech-u-virtual-edition.png\",\"copy\":\"\\n\"},{\"ibmEvSection\":\"tc2\",\"eyebrow\":\"Design thinking is for everyone\",\"title\":\"26192 Design thinking practitioner \",\"button\":\"Learn how to drive business results by focusing on your usersâ needs in this free course\",\"timestamp\":1634315831253,\"airtableID\":\"26192\",\"mobileImg\":\"https://web.archive.org/web/20230224123642/https://1.dam.s81c.com/public/content/dam/worldwide-content/homepage/ul/g/e1/3b/20211018-cert-design-thinking.jpg\",\"copy\":\"\\n\",\"link\":\"https://web.archive.org/web/20230224123642/https://www.ibm.com/design/thinking/?lnk=ushpv18tc2\",\"image\":\"https://web.archive.org/web/20230224123642/https://1.dam.s81c.com/public/content/dam/worldwide-content/homepage/ul/g/e1/3b/20211018-cert-design-thinking.jpg\"}]},\"config\":{\"enabled\":\"true\"}},\"videonews\":{\"data\":{\"content\":[{\"ibmEvSection\":\"vn1\",\"alternateColor\":true,\"eyebrow\":\"AI can take you to places youâve only dreamed of\\n\",\"title\":\"26324 Data Science: Watson Studio\",\"button\":\"Build and scale trusted AI across any cloud\",\"link\":\"https://web.archive.org/web/20230224123642/https://www.ibm.com/cloud/watson-studio?lnk=ushpv18vn1\",\"timestamp\":1639779183583,\"airtableID\":\"26324\",\"copy\":\"Get there with Watson Studio, a simpler way to turn predictions into decisions collaboratively, on any cloud, on one data and AI platform\",\"videoLength\":\"1:13\",\"videoId\":\"1_iej13uex\",\"image\":\"https://web.archive.org/web/20230224123642/https://1.dam.s81c.com/public/content/dam/worldwide-content/homepage/ul/g/82/93/20211025-vn-data-science-watson-studio-1200x900.jpg\"},{\"ibmEvSection\":\"vn2\",\"eyebrow\":\"A ânever trust, always verifyâ security model\\n\",\"title\":\"26325 Zero Trust Security\",\"button\":\"Read about zero trust architecture and the future of security\",\"timestamp\":1639779210749,\"airtableID\":\"26325\",\"copy\":\"On average, it can take 77 days to contain an insider data breach. Companies with a zero trust framework in place can do so in near-real time.\",\"videoLength\":\"3:06\",\"videoId\":\"1_yr2j7p5f\",\"image\":\"https://web.archive.org/web/20230224123642/https://1.dam.s81c.com/public/content/dam/worldwide-content/homepage/ul/g/2e/5a/20211115-vn-zero-trust-security-26254-1200x900.jpg\",\"alternateColor\":true,\"link\":\"https://web.archive.org/web/20230224123642/https://www.ibm.com/security/zero-trust?lnk=ushpv18vn2\"},{\"ibmEvSection\":\"vn3\",\"eyebrow\":\"Home Trust and IBM Cloud: prepared for the unforeseeable\\n\",\"title\":\"26326 Home Trust CS\",\"button\":\"Learn how the right platform supported the workforce during COVID\\u0026#8209;19 lockdowns\",\"timestamp\":1639779304922,\"airtableID\":\"26326\",\"copy\":\"Because of an early transition to IBM Cloud, one of Canadaâs leading financial institutions was able to change to remote work and thrive in 2020\",\"videoLength\":\"2:37\",\"videoId\":\"1_fz1liaxf\",\"image\":\"https://web.archive.org/web/20230224123642/https://1.dam.s81c.com/public/content/dam/worldwide-content/homepage/ul/g/37/78/20211122-vn-home-trust-26271-1200x900.jpg\",\"alternateColor\":true,\"link\":\"https://web.archive.org/web/20230224123642/https://www.ibm.com/case-studies/home-trust/?lnk=ushpv18vn3\"}]},\"config\":{\"enabled\":\"true\"}}}}},\"__N_SSG\":true},\"page\":\"/\",\"query\":{},\"buildId\":\"0BehGL8Iczuyl_okDuIJa\",\"assetPrefix\":\".\",\"isFallback\":false,\"gsp\":true}\n",
      "  </script>\n",
      "  <script nomodule=\"\" src=\"/web/20230224123642js_/https://www.ibm.com/us-en/_next/static/chunks/polyfills-e4c38ea28892f36667af.js\">\n",
      "  </script>\n",
      "  <script async=\"\" src=\"/web/20230224123642js_/https://www.ibm.com/us-en/_next/static/chunks/webpack-9a6e2dd34947de61505d.js\">\n",
      "  </script>\n",
      "  <script async=\"\" src=\"/web/20230224123642js_/https://www.ibm.com/us-en/_next/static/chunks/framework.602aaa49e9cf44108ea4.js\">\n",
      "  </script>\n",
      "  <script async=\"\" src=\"/web/20230224123642js_/https://www.ibm.com/us-en/_next/static/chunks/commons.56cd7ef778495da405ee.js\">\n",
      "  </script>\n",
      "  <script async=\"\" src=\"/web/20230224123642js_/https://www.ibm.com/us-en/_next/static/chunks/3ef630e34cd10ba68f9d468ac363ff81c534e1e9.d2f601340e1658353edc.js\">\n",
      "  </script>\n",
      "  <script async=\"\" src=\"/web/20230224123642js_/https://www.ibm.com/us-en/_next/static/chunks/main-51700067fcf16cbe3818.js\">\n",
      "  </script>\n",
      "  <script async=\"\" src=\"/web/20230224123642js_/https://www.ibm.com/us-en/_next/static/chunks/styles.3461e1160e1b06bf3496.js\">\n",
      "  </script>\n",
      "  <script async=\"\" src=\"/web/20230224123642js_/https://www.ibm.com/us-en/_next/static/chunks/pages/_app-692f4737856e6f61cf41.js\">\n",
      "  </script>\n",
      "  <script async=\"\" src=\"/web/20230224123642js_/https://www.ibm.com/us-en/_next/static/chunks/1c920f04.f4270e422fa8c16ba0f4.js\">\n",
      "  </script>\n",
      "  <script async=\"\" src=\"/web/20230224123642js_/https://www.ibm.com/us-en/_next/static/chunks/5f6bb6fb.63224c0f3a7ce047c8e2.js\">\n",
      "  </script>\n",
      "  <script async=\"\" src=\"/web/20230224123642js_/https://www.ibm.com/us-en/_next/static/chunks/8f19d780.9518ac89ebf3ed164ec7.js\">\n",
      "  </script>\n",
      "  <script async=\"\" src=\"/web/20230224123642js_/https://www.ibm.com/us-en/_next/static/chunks/8edc3fe5.f57e384a441d6dc22242.js\">\n",
      "  </script>\n",
      "  <script async=\"\" src=\"/web/20230224123642js_/https://www.ibm.com/us-en/_next/static/chunks/fc20e1c4.d98d23767340a1237305.js\">\n",
      "  </script>\n",
      "  <script async=\"\" src=\"/web/20230224123642js_/https://www.ibm.com/us-en/_next/static/chunks/a37fbe3b.f465653335f45cc0fa1b.js\">\n",
      "  </script>\n",
      "  <script async=\"\" src=\"/web/20230224123642js_/https://www.ibm.com/us-en/_next/static/chunks/bc80632e.7250d666a9b091e0e0e4.js\">\n",
      "  </script>\n",
      "  <script async=\"\" src=\"/web/20230224123642js_/https://www.ibm.com/us-en/_next/static/chunks/1dd0fb51.f16e33f7e2db3449d18e.js\">\n",
      "  </script>\n",
      "  <script async=\"\" src=\"/web/20230224123642js_/https://www.ibm.com/us-en/_next/static/chunks/56b0df7b.a548554a4a80dea8f00a.js\">\n",
      "  </script>\n",
      "  <script async=\"\" src=\"/web/20230224123642js_/https://www.ibm.com/us-en/_next/static/chunks/b222b98b.ebaff15e961fd9a66fec.js\">\n",
      "  </script>\n",
      "  <script async=\"\" src=\"/web/20230224123642js_/https://www.ibm.com/us-en/_next/static/chunks/500f7593.4b01426721d5ac82f9ba.js\">\n",
      "  </script>\n",
      "  <script async=\"\" src=\"/web/20230224123642js_/https://www.ibm.com/us-en/_next/static/chunks/5d8d49e442f4e00190cb1a13966c1f91ed87c0f4.c5cea6b9909ecf9bea26.js\">\n",
      "  </script>\n",
      "  <script async=\"\" src=\"/web/20230224123642js_/https://www.ibm.com/us-en/_next/static/chunks/11.f003844d8f71e73157c2.js\">\n",
      "  </script>\n",
      "  <script async=\"\" src=\"/web/20230224123642js_/https://www.ibm.com/us-en/_next/static/chunks/pages/index-6fa402b7cf0ac5e5bee1.js\">\n",
      "  </script>\n",
      "  <script async=\"\" src=\"/web/20230224123642js_/https://www.ibm.com/us-en/_next/static/0BehGL8Iczuyl_okDuIJa/_buildManifest.js\">\n",
      "  </script>\n",
      "  <script async=\"\" src=\"/web/20230224123642js_/https://www.ibm.com/us-en/_next/static/0BehGL8Iczuyl_okDuIJa/_ssgManifest.js\">\n",
      "  </script>\n",
      "  <script src=\"/web/20230224123642js_/https://www.ibm.com/BBMvT9cBN/ZTfRs/BaKA/uk9tNGtLY7uG9G/FwcsSHIcHw0/ZCp3NG/hJJgw\" type=\"text/javascript\">\n",
      "  </script>\n",
      "  <link href=\"/web/20230224123642cs_/https://www.ibm.com/_sec/cp_challenge/sec-3-9.css\" rel=\"stylesheet\" type=\"text/css\"/>\n",
      "  <script async=\"\" defer=\"\" src=\"/web/20230224123642js_/https://www.ibm.com/_sec/cp_challenge/sec-cpt-3-9.js\">\n",
      "  </script>\n",
      "  <div id=\"sec-overlay\" style=\"display:none;\">\n",
      "   <div id=\"sec-container\">\n",
      "   </div>\n",
      "  </div>\n",
      " </body>\n",
      "</html>\n",
      "<!--\n",
      "     FILE ARCHIVED ON 12:36:42 Feb 24, 2023 AND RETRIEVED FROM THE\n",
      "     INTERNET ARCHIVE ON 20:26:37 Jul 07, 2025.\n",
      "     JAVASCRIPT APPENDED BY WAYBACK MACHINE, COPYRIGHT INTERNET ARCHIVE.\n",
      "\n",
      "     ALL OTHER CONTENT MAY ALSO BE PROTECTED BY COPYRIGHT (17 U.S.C.\n",
      "     SECTION 108(a)(3)).\n",
      "-->\n",
      "<!--\n",
      "playback timings (ms):\n",
      "  captures_list: 7.385 (7)\n",
      "  exclusion.robots: 0.26 (7)\n",
      "  exclusion.robots.policy: 0.158 (7)\n",
      "  esindex: 2.083 (7)\n",
      "  cdx.remote: 598.946 (7)\n",
      "  LoadShardBlock: 4441.558 (24)\n",
      "  PetaboxLoader3.datanode: 3870.805 (25)\n",
      "  PetaboxLoader3.resolve: 429.676 (3)\n",
      "  load_resource: 282.907\n",
      "-->\n",
      "\n"
     ]
    }
   ],
   "source": [
    "print(soup.prettify())"
   ]
  },
  {
   "cell_type": "markdown",
   "id": "1b4db955-abe6-485d-a3f7-55cf3235ee46",
   "metadata": {},
   "source": [
    "Scrape all links\n"
   ]
  },
  {
   "cell_type": "code",
   "execution_count": 109,
   "id": "c320669f-e823-41a7-a1d3-f333af9b0afa",
   "metadata": {},
   "outputs": [
    {
     "name": "stdout",
     "output_type": "stream",
     "text": [
      "/web/\n",
      "\n",
      "https://web.archive.org/web/20230123202556/https://www.ibm.com/us-en/\n",
      "https://web.archive.org/web/20230324161647/https://www.ibm.com/us-en/\n",
      "https://web.archive.org/web/20230223123029/https://www.ibm.com/us-en/\n",
      "https://web.archive.org/web/20230225131444/https://www.ibm.com/us-en\n",
      "https://web.archive.org/web/20220224100443/https://www.ibm.com/us-en/\n",
      "https://web.archive.org/web/20240224144819/https://www.ibm.com/us-en\n",
      "#\n",
      "https://archive.org/account/login.php\n",
      "http://faq.web.archive.org/\n",
      "#close\n",
      "/web/20230224123642/http://web.archive.org/screenshot/https://www.ibm.com/us-en/\n",
      "#\n",
      "#\n",
      "#\n",
      "#expand\n",
      "https://archive.org/details/focused_crawls\n",
      "https://archive.org/details/top_domains-00700\n",
      "https://web.archive.org/web/20230224123642/https://www.ibm.com/reports/threat-intelligence/\n",
      "https://web.archive.org/web/20230224123642/https://www.ibm.com/about\n",
      "https://web.archive.org/web/20230224123642/https://www.ibm.com/consulting/?lnk=flathl\n",
      "https://web.archive.org/web/20230224123642/https://www.ibm.com/consulting/strategy/?lnk=flathl\n",
      "https://web.archive.org/web/20230224123642/https://www.ibm.com/consulting/ibmix?lnk=flathl\n",
      "https://web.archive.org/web/20230224123642/https://www.ibm.com/consulting/technology/\n",
      "https://web.archive.org/web/20230224123642/https://www.ibm.com/consulting/operations/?lnk=flathl\n",
      "https://web.archive.org/web/20230224123642/https://www.ibm.com/strategic-partnerships\n",
      "https://web.archive.org/web/20230224123642/https://www.ibm.com/employment/?lnk=flatitem\n",
      "https://web.archive.org/web/20230224123642/https://www.ibm.com/impact\n",
      "https://web.archive.org/web/20230224123642/https://research.ibm.com/\n",
      "https://web.archive.org/web/20230224123642/https://www.ibm.com/\n"
     ]
    }
   ],
   "source": [
    "for link in soup.find_all('a',href=True):  # in html anchor/link is represented by the tag <a>\n",
    "\n",
    "    print(link.get('href'))\n"
   ]
  },
  {
   "cell_type": "markdown",
   "id": "5112a18e-2136-42b4-8824-6c0d793b0a54",
   "metadata": {},
   "source": [
    "## Scrape  all images  Tags\n"
   ]
  },
  {
   "cell_type": "code",
   "execution_count": 111,
   "id": "d506968b-fb86-4988-a23f-266511c61cb1",
   "metadata": {},
   "outputs": [
    {
     "name": "stdout",
     "output_type": "stream",
     "text": [
      "<img alt=\"Wayback Machine\" border=\"0\" src=\"https://web-static.archive.org/_static/images/toolbar/wayback-toolbar-logo-200.png\" srcset=\"https://web-static.archive.org/_static/images/toolbar/wayback-toolbar-logo-100.png, https://web-static.archive.org/_static/images/toolbar/wayback-toolbar-logo-150.png 1.5x, https://web-static.archive.org/_static/images/toolbar/wayback-toolbar-logo-200.png 2x\" style=\"width:100px\"/>\n",
      "https://web-static.archive.org/_static/images/toolbar/wayback-toolbar-logo-200.png\n",
      "<img alt=\"Previous capture\" border=\"0\" height=\"16\" src=\"https://web-static.archive.org/_static/images/toolbar/wm_tb_prv_on.png\" width=\"14\"/>\n",
      "https://web-static.archive.org/_static/images/toolbar/wm_tb_prv_on.png\n",
      "<img alt=\"Next capture\" border=\"0\" height=\"16\" src=\"https://web-static.archive.org/_static/images/toolbar/wm_tb_nxt_on.png\" width=\"14\"/>\n",
      "https://web-static.archive.org/_static/images/toolbar/wm_tb_nxt_on.png\n",
      "<img alt=\"loading\" src=\"https://web-static.archive.org/_static/images/loading.gif\"/>\n",
      "https://web-static.archive.org/_static/images/loading.gif\n",
      "<img alt=\"Person standing with arms crossed\" aria-describedby=\"bx--image-1\" class=\"bx--image__img\" src=\"https://web.archive.org/web/20230224123642im_/https://1.dam.s81c.com/p/0a23e414312bcb6f/08196d0e04260ae5_cropped.jpg.global.sr_16x9.jpg\"/>\n",
      "https://web.archive.org/web/20230224123642im_/https://1.dam.s81c.com/p/0a23e414312bcb6f/08196d0e04260ae5_cropped.jpg.global.sr_16x9.jpg\n",
      "<img alt=\"Team members at work in a conference room\" aria-describedby=\"bx--image-2\" class=\"bx--image__img\" src=\"https://web.archive.org/web/20230224123642im_/https://1.dam.s81c.com/p/06655c075aa3aa29/CaitOppermann_2019_12_06_IBMGarage_DSC3304.jpg.global.m_16x9.jpg\"/>\n",
      "https://web.archive.org/web/20230224123642im_/https://1.dam.s81c.com/p/06655c075aa3aa29/CaitOppermann_2019_12_06_IBMGarage_DSC3304.jpg.global.m_16x9.jpg\n",
      "<img alt=\"Coworkers looking at laptops\" aria-describedby=\"bx--image-3\" class=\"bx--image__img\" src=\"https://web.archive.org/web/20230224123642im_/https://1.dam.s81c.com/p/08f951353c2707b8/052022_CaitOppermann_InsideIBM_London_2945_03.jpg.global.sr_16x9.jpg\"/>\n",
      "https://web.archive.org/web/20230224123642im_/https://1.dam.s81c.com/p/08f951353c2707b8/052022_CaitOppermann_InsideIBM_London_2945_03.jpg.global.sr_16x9.jpg\n",
      "<img alt=\"Cloud developer with red sweater coding at desk\" aria-describedby=\"bx--image-4\" class=\"bx--image__img\" src=\"https://web.archive.org/web/20230224123642im_/https://1.dam.s81c.com/p/064e0139f5a3aa5e/0500002_Lowell_LI_100119.jpg.global.sr_16x9.jpg\"/>\n",
      "https://web.archive.org/web/20230224123642im_/https://1.dam.s81c.com/p/064e0139f5a3aa5e/0500002_Lowell_LI_100119.jpg.global.sr_16x9.jpg\n",
      "<img alt=\"Aerial view of automated conveyer belt and machinery at work\" aria-describedby=\"bx--image-5\" class=\"bx--image__img\" src=\"https://web.archive.org/web/20230224123642im_/https://1.dam.s81c.com/p/0795cae91a25156f/conveyorrobottopview.jpg.global.sr_16x9.jpg\"/>\n",
      "https://web.archive.org/web/20230224123642im_/https://1.dam.s81c.com/p/0795cae91a25156f/conveyorrobottopview.jpg.global.sr_16x9.jpg\n",
      "<img alt=\"Overhead view of partners collaborating on design with laptops and coffee\" aria-describedby=\"bx--image-6\" class=\"bx--image__img\" src=\"https://web.archive.org/web/20230224123642im_/https://1.dam.s81c.com/p/06dfa9ccdba4ec79/1f417900-9042-44d1-9c219a854bbb62ea.jpg.global.sr_16x9.jpg\"/>\n",
      "https://web.archive.org/web/20230224123642im_/https://1.dam.s81c.com/p/06dfa9ccdba4ec79/1f417900-9042-44d1-9c219a854bbb62ea.jpg.global.sr_16x9.jpg\n"
     ]
    }
   ],
   "source": [
    "for link in soup.find_all('img'):# in html image is represented by the tag <img>\n",
    "    print(link)\n",
    "    print(link.get('src'))"
   ]
  },
  {
   "cell_type": "markdown",
   "id": "093b8646-d8cd-4a50-a24b-d8c149a57464",
   "metadata": {},
   "source": [
    "## Scrape data from HTML tables\n"
   ]
  },
  {
   "cell_type": "code",
   "execution_count": 3,
   "id": "c57ab634-7682-48ee-9cd2-cb589c9d1a20",
   "metadata": {},
   "outputs": [],
   "source": [
    "#The below url contains an html table with data about colors and color codes.\n",
    "url = \"https://cf-courses-data.s3.us.cloud-object-storage.appdomain.cloud/IBM-DA0321EN-SkillsNetwork/labs/datasets/HTMLColorCodes.html\""
   ]
  },
  {
   "cell_type": "markdown",
   "id": "64fdb335-2190-4b96-ac87-e57452b5fe02",
   "metadata": {},
   "source": [
    "Before proceeding to scrape a web site, you need to examine the contents, and the way data is organized on the website. Open the above url in your browser and check how many rows and columns are there in the color table.\n"
   ]
  },
  {
   "cell_type": "code",
   "execution_count": 4,
   "id": "fc12b2fd-3671-4356-844c-2640bf464923",
   "metadata": {},
   "outputs": [],
   "source": [
    "# get the contents of the webpage in text format and store in a variable called data\n",
    "data  = requests.get(url).text"
   ]
  },
  {
   "cell_type": "code",
   "execution_count": 5,
   "id": "235835ed-d3fb-475c-87c0-1b0cf2e6deff",
   "metadata": {},
   "outputs": [],
   "source": [
    "soup = BeautifulSoup(data,\"html.parser\")"
   ]
  },
  {
   "cell_type": "code",
   "execution_count": 6,
   "id": "08bb2a9a-0c9e-41fb-8744-f1ffe3db829e",
   "metadata": {},
   "outputs": [
    {
     "data": {
      "text/plain": [
       "<table border=\"1\" class=\"main-table\">\n",
       "<tr>\n",
       "<td>Number </td>\n",
       "<td>Color</td>\n",
       "<td>Color Name</td>\n",
       "<td>Hex Code<br/>#RRGGBB</td>\n",
       "<td>Decimal Code<br/>(R,G,B)</td>\n",
       "</tr>\n",
       "<tr>\n",
       "<td>1</td>\n",
       "<td style=\"background:lightsalmon;\"> </td>\n",
       "<td>lightsalmon</td>\n",
       "<td>#FFA07A</td>\n",
       "<td>rgb(255,160,122)</td>\n",
       "</tr>\n",
       "<tr>\n",
       "<td>2</td>\n",
       "<td style=\"background:salmon;\"> </td>\n",
       "<td>salmon</td>\n",
       "<td>#FA8072</td>\n",
       "<td>rgb(250,128,114)</td>\n",
       "</tr>\n",
       "<tr>\n",
       "<td>3</td>\n",
       "<td style=\"background:darksalmon;\"> </td>\n",
       "<td>darksalmon</td>\n",
       "<td>#E9967A</td>\n",
       "<td>rgb(233,150,122)</td>\n",
       "</tr>\n",
       "<tr>\n",
       "<td>4</td>\n",
       "<td style=\"background:lightcoral;\"> </td>\n",
       "<td>lightcoral</td>\n",
       "<td>#F08080</td>\n",
       "<td>rgb(240,128,128)</td>\n",
       "</tr>\n",
       "<tr>\n",
       "<td>5</td>\n",
       "<td style=\"background:coral;\"> </td>\n",
       "<td>coral</td>\n",
       "<td>#FF7F50</td>\n",
       "<td>rgb(255,127,80)</td>\n",
       "</tr>\n",
       "<tr>\n",
       "<td>6</td>\n",
       "<td style=\"background:tomato;\"> </td>\n",
       "<td>tomato</td>\n",
       "<td>#FF6347</td>\n",
       "<td>rgb(255,99,71)</td>\n",
       "</tr>\n",
       "<tr>\n",
       "<td>7</td>\n",
       "<td style=\"background:orangered;\"> </td>\n",
       "<td>orangered</td>\n",
       "<td>#FF4500</td>\n",
       "<td>rgb(255,69,0)</td>\n",
       "</tr>\n",
       "<tr>\n",
       "<td>8</td>\n",
       "<td style=\"background:gold;\"> </td>\n",
       "<td>gold</td>\n",
       "<td>#FFD700</td>\n",
       "<td>rgb(255,215,0)</td>\n",
       "</tr>\n",
       "<tr>\n",
       "<td>9</td>\n",
       "<td style=\"background:orange;\"> </td>\n",
       "<td>orange</td>\n",
       "<td>#FFA500</td>\n",
       "<td>rgb(255,165,0)</td>\n",
       "</tr>\n",
       "<tr>\n",
       "<td>10</td>\n",
       "<td style=\"background:darkorange;\"> </td>\n",
       "<td>darkorange</td>\n",
       "<td>#FF8C00</td>\n",
       "<td>rgb(255,140,0)</td>\n",
       "</tr>\n",
       "<tr>\n",
       "<td>11</td>\n",
       "<td style=\"background:lightyellow;\"> </td>\n",
       "<td>lightyellow</td>\n",
       "<td>#FFFFE0</td>\n",
       "<td>rgb(255,255,224)</td>\n",
       "</tr>\n",
       "<tr>\n",
       "<td>12</td>\n",
       "<td style=\"background:lemonchiffon;\"> </td>\n",
       "<td>lemonchiffon</td>\n",
       "<td>#FFFACD</td>\n",
       "<td>rgb(255,250,205)</td>\n",
       "</tr>\n",
       "<tr>\n",
       "<td>13</td>\n",
       "<td style=\"background:papayawhip;\"> </td>\n",
       "<td>papayawhip</td>\n",
       "<td>#FFEFD5</td>\n",
       "<td>rgb(255,239,213)</td>\n",
       "</tr>\n",
       "<tr>\n",
       "<td>14</td>\n",
       "<td style=\"background:moccasin;\"> </td>\n",
       "<td>moccasin</td>\n",
       "<td>#FFE4B5</td>\n",
       "<td>rgb(255,228,181)</td>\n",
       "</tr>\n",
       "<tr>\n",
       "<td>15</td>\n",
       "<td style=\"background:peachpuff;\"> </td>\n",
       "<td>peachpuff</td>\n",
       "<td>#FFDAB9</td>\n",
       "<td>rgb(255,218,185)</td>\n",
       "</tr>\n",
       "<tr>\n",
       "<td>16</td>\n",
       "<td style=\"background:palegoldenrod;\"> </td>\n",
       "<td>palegoldenrod</td>\n",
       "<td>#EEE8AA</td>\n",
       "<td>rgb(238,232,170)</td>\n",
       "</tr>\n",
       "<tr>\n",
       "<td>17</td>\n",
       "<td style=\"background:khaki;\"> </td>\n",
       "<td>khaki</td>\n",
       "<td>#F0E68C</td>\n",
       "<td>rgb(240,230,140)</td>\n",
       "</tr>\n",
       "<tr>\n",
       "<td>18</td>\n",
       "<td style=\"background:darkkhaki;\"> </td>\n",
       "<td>darkkhaki</td>\n",
       "<td>#BDB76B</td>\n",
       "<td>rgb(189,183,107)</td>\n",
       "</tr>\n",
       "<tr>\n",
       "<td>19</td>\n",
       "<td style=\"background:yellow;\"> </td>\n",
       "<td>yellow</td>\n",
       "<td>#FFFF00</td>\n",
       "<td>rgb(255,255,0)</td>\n",
       "</tr>\n",
       "<tr>\n",
       "<td>20</td>\n",
       "<td style=\"background:lawngreen;\"> </td>\n",
       "<td>lawngreen</td>\n",
       "<td>#7CFC00</td>\n",
       "<td>rgb(124,252,0)</td>\n",
       "</tr>\n",
       "<tr>\n",
       "<td>21</td>\n",
       "<td style=\"background:chartreuse;\"> </td>\n",
       "<td>chartreuse</td>\n",
       "<td>#7FFF00</td>\n",
       "<td>rgb(127,255,0)</td>\n",
       "</tr>\n",
       "<tr>\n",
       "<td>22</td>\n",
       "<td style=\"background:limegreen;\"> </td>\n",
       "<td>limegreen</td>\n",
       "<td>#32CD32</td>\n",
       "<td>rgb(50,205,50)</td>\n",
       "</tr>\n",
       "<tr>\n",
       "<td>23</td>\n",
       "<td style=\"background:lime;\"> </td>\n",
       "<td>lime</td>\n",
       "<td>#00FF00</td>\n",
       "<td>rgb(0.255.0)</td>\n",
       "</tr>\n",
       "<tr>\n",
       "<td>24</td>\n",
       "<td style=\"background:forestgreen;\"> </td>\n",
       "<td>forestgreen</td>\n",
       "<td>#228B22</td>\n",
       "<td>rgb(34,139,34)</td>\n",
       "</tr>\n",
       "<tr>\n",
       "<td>25</td>\n",
       "<td style=\"background:green;\"> </td>\n",
       "<td>green</td>\n",
       "<td>#008000</td>\n",
       "<td>rgb(0,128,0)</td>\n",
       "</tr>\n",
       "<tr>\n",
       "<td>26</td>\n",
       "<td style=\"background:powderblue;\"> </td>\n",
       "<td>powderblue</td>\n",
       "<td>#B0E0E6</td>\n",
       "<td>rgb(176,224,230)</td>\n",
       "</tr>\n",
       "<tr>\n",
       "<td>27</td>\n",
       "<td style=\"background:lightblue;\"> </td>\n",
       "<td>lightblue</td>\n",
       "<td>#ADD8E6</td>\n",
       "<td>rgb(173,216,230)</td>\n",
       "</tr>\n",
       "<tr>\n",
       "<td>28</td>\n",
       "<td style=\"background:lightskyblue;\"> </td>\n",
       "<td>lightskyblue</td>\n",
       "<td>#87CEFA</td>\n",
       "<td>rgb(135,206,250)</td>\n",
       "</tr>\n",
       "<tr>\n",
       "<td>29</td>\n",
       "<td style=\"background:skyblue;\"> </td>\n",
       "<td>skyblue</td>\n",
       "<td>#87CEEB</td>\n",
       "<td>rgb(135,206,235)</td>\n",
       "</tr>\n",
       "<tr>\n",
       "<td>30</td>\n",
       "<td style=\"background:deepskyblue;\"> </td>\n",
       "<td>deepskyblue</td>\n",
       "<td>#00BFFF</td>\n",
       "<td>rgb(0,191,255)</td>\n",
       "</tr>\n",
       "<tr>\n",
       "<td>31</td>\n",
       "<td style=\"background:lightsteelblue;\"> </td>\n",
       "<td>lightsteelblue</td>\n",
       "<td>#B0C4DE</td>\n",
       "<td>rgb(176,196,222)</td>\n",
       "</tr>\n",
       "<tr>\n",
       "<td>32</td>\n",
       "<td style=\"background:dodgerblue;\"> </td>\n",
       "<td>dodgerblue</td>\n",
       "<td>#1E90FF</td>\n",
       "<td>rgb(30,144,255)</td>\n",
       "</tr>\n",
       "</table>"
      ]
     },
     "execution_count": 6,
     "metadata": {},
     "output_type": "execute_result"
    }
   ],
   "source": [
    "#find a html table in the web page\n",
    "table = soup.find('table') # in html table is represented by the tag <table>\n",
    "table"
   ]
  },
  {
   "cell_type": "code",
   "execution_count": 7,
   "id": "7f6c7735-110b-448e-88d7-b15dfaa2d6e0",
   "metadata": {},
   "outputs": [
    {
     "name": "stdout",
     "output_type": "stream",
     "text": [
      "Color Name--->None--->None\n",
      "lightsalmon--->#FFA07A--->rgb(255,160,122)\n",
      "salmon--->#FA8072--->rgb(250,128,114)\n",
      "darksalmon--->#E9967A--->rgb(233,150,122)\n",
      "lightcoral--->#F08080--->rgb(240,128,128)\n",
      "coral--->#FF7F50--->rgb(255,127,80)\n",
      "tomato--->#FF6347--->rgb(255,99,71)\n",
      "orangered--->#FF4500--->rgb(255,69,0)\n",
      "gold--->#FFD700--->rgb(255,215,0)\n",
      "orange--->#FFA500--->rgb(255,165,0)\n",
      "darkorange--->#FF8C00--->rgb(255,140,0)\n",
      "lightyellow--->#FFFFE0--->rgb(255,255,224)\n",
      "lemonchiffon--->#FFFACD--->rgb(255,250,205)\n",
      "papayawhip--->#FFEFD5--->rgb(255,239,213)\n",
      "moccasin--->#FFE4B5--->rgb(255,228,181)\n",
      "peachpuff--->#FFDAB9--->rgb(255,218,185)\n",
      "palegoldenrod--->#EEE8AA--->rgb(238,232,170)\n",
      "khaki--->#F0E68C--->rgb(240,230,140)\n",
      "darkkhaki--->#BDB76B--->rgb(189,183,107)\n",
      "yellow--->#FFFF00--->rgb(255,255,0)\n",
      "lawngreen--->#7CFC00--->rgb(124,252,0)\n",
      "chartreuse--->#7FFF00--->rgb(127,255,0)\n",
      "limegreen--->#32CD32--->rgb(50,205,50)\n",
      "lime--->#00FF00--->rgb(0.255.0)\n",
      "forestgreen--->#228B22--->rgb(34,139,34)\n",
      "green--->#008000--->rgb(0,128,0)\n",
      "powderblue--->#B0E0E6--->rgb(176,224,230)\n",
      "lightblue--->#ADD8E6--->rgb(173,216,230)\n",
      "lightskyblue--->#87CEFA--->rgb(135,206,250)\n",
      "skyblue--->#87CEEB--->rgb(135,206,235)\n",
      "deepskyblue--->#00BFFF--->rgb(0,191,255)\n",
      "lightsteelblue--->#B0C4DE--->rgb(176,196,222)\n",
      "dodgerblue--->#1E90FF--->rgb(30,144,255)\n"
     ]
    }
   ],
   "source": [
    "#Get all rows from the table\n",
    "for row in table.find_all('tr'): # in html table row is represented by the tag <tr>\n",
    "    # Get all columns in each row.\n",
    "    cols = row.find_all('td') # in html a column is represented by the tag <td>\n",
    "    color_name = cols[2].string # store the value in column 3 as color_name\n",
    "    color_code = cols[3].string # store the value in column 4 as color_code\n",
    "    hex_code = cols[4].string\n",
    "    print(\"{}--->{}--->{}\".format(color_name,color_code, hex_code))"
   ]
  },
  {
   "cell_type": "markdown",
   "id": "f073669e-e584-4e75-b8b3-0c31d44ec546",
   "metadata": {},
   "source": [
    "## Scrape data from HTML tables into a DataFrame using BeautifulSoup and Pandas\n"
   ]
  },
  {
   "cell_type": "code",
   "execution_count": 8,
   "id": "b3432429-43df-4315-880e-310c78952e21",
   "metadata": {},
   "outputs": [],
   "source": [
    "import pandas as pd"
   ]
  },
  {
   "cell_type": "code",
   "execution_count": 9,
   "id": "4241d7fe-121b-46f7-a2cc-7e8f985f94ba",
   "metadata": {},
   "outputs": [],
   "source": [
    "#The below url contains html tables with data about world population.\n",
    "url = \"https://en.wikipedia.org/wiki/World_population\""
   ]
  },
  {
   "cell_type": "markdown",
   "id": "24e34229-95c6-42bf-8940-b4c645951849",
   "metadata": {},
   "source": [
    "Before proceeding to scrape a web site, you need to examine the contents, and the way data is organized on the website. Open the above url in your browser and check the tables on the webpage.\n"
   ]
  },
  {
   "cell_type": "code",
   "execution_count": 10,
   "id": "857eddd8-1dfd-40c8-8643-9da5f30deb24",
   "metadata": {},
   "outputs": [],
   "source": [
    "# get the contents of the webpage in text format and store in a variable called data\n",
    "data  = requests.get(url).text"
   ]
  },
  {
   "cell_type": "code",
   "execution_count": 11,
   "id": "93d691f5-734a-45fc-a328-d17142f4e61b",
   "metadata": {},
   "outputs": [],
   "source": [
    "soup = BeautifulSoup(data,\"html.parser\")"
   ]
  },
  {
   "cell_type": "code",
   "execution_count": 12,
   "id": "3c27cfce-393c-4b29-adde-57a24528ba23",
   "metadata": {},
   "outputs": [],
   "source": [
    "#find all html tables in the web page\n",
    "tables = soup.find_all('table') # in html table is represented by the tag <table>"
   ]
  },
  {
   "cell_type": "code",
   "execution_count": 13,
   "id": "bba68d2d-8255-462b-9e6c-c7532ad90380",
   "metadata": {},
   "outputs": [
    {
     "data": {
      "text/plain": [
       "26"
      ]
     },
     "execution_count": 13,
     "metadata": {},
     "output_type": "execute_result"
    }
   ],
   "source": [
    "# we can see how many tables were found by checking the length of the tables list\n",
    "len(tables)"
   ]
  },
  {
   "cell_type": "markdown",
   "id": "873dec95-0dc5-44b1-b897-4862e64e24ed",
   "metadata": {},
   "source": [
    "Assume that we are looking for the `10 most densly populated countries` table, we can look through the tables list and find the right one we are look for based on the data in each table or we can search for the table name if it is in the table but this option might not always work.\n"
   ]
  },
  {
   "cell_type": "code",
   "execution_count": 14,
   "id": "c0deda4c-aa66-44b8-bed6-6db0cb10a170",
   "metadata": {},
   "outputs": [
    {
     "name": "stdout",
     "output_type": "stream",
     "text": [
      "5\n"
     ]
    }
   ],
   "source": [
    "for index,table in enumerate(tables):\n",
    "    if (\"10 most densely populated countries\" in str(table)):\n",
    "        table_index = index\n",
    "print(table_index)"
   ]
  },
  {
   "cell_type": "code",
   "execution_count": 15,
   "metadata": {},
   "outputs": [
    {
     "data": {
      "text/plain": [
       "int"
      ]
     },
     "execution_count": 15,
     "metadata": {},
     "output_type": "execute_result"
    }
   ],
   "source": [
    "type(table_index)"
   ]
  },
  {
   "cell_type": "markdown",
   "id": "9466ab02-acec-484c-8773-94a64c842414",
   "metadata": {},
   "source": [
    "See if you can locate the table name of the table, `10 most densly populated countries`, below.\n"
   ]
  },
  {
   "cell_type": "code",
   "execution_count": 16,
   "id": "284bd8dd-9b48-4ffb-af21-12aaa57ee3b9",
   "metadata": {},
   "outputs": [
    {
     "name": "stdout",
     "output_type": "stream",
     "text": [
      "<table class=\"wikitable sortable\" style=\"text-align:right\">\n",
      " <caption>\n",
      "  10 most densely populated countries\n",
      "  <small>\n",
      "   (with population above 5 million)\n",
      "  </small>\n",
      "  <sup class=\"reference\" id=\"cite_ref-:10_106-0\">\n",
      "   <a href=\"#cite_note-:10-106\">\n",
      "    <span class=\"cite-bracket\">\n",
      "     [\n",
      "    </span>\n",
      "    101\n",
      "    <span class=\"cite-bracket\">\n",
      "     ]\n",
      "    </span>\n",
      "   </a>\n",
      "  </sup>\n",
      " </caption>\n",
      " <tbody>\n",
      "  <tr>\n",
      "   <th scope=\"col\">\n",
      "    Rank\n",
      "   </th>\n",
      "   <th scope=\"col\">\n",
      "    Country\n",
      "   </th>\n",
      "   <th scope=\"col\">\n",
      "    Population\n",
      "   </th>\n",
      "   <th scope=\"col\">\n",
      "    Area\n",
      "    <br/>\n",
      "    <small>\n",
      "     (km\n",
      "     <sup>\n",
      "      2\n",
      "     </sup>\n",
      "     )\n",
      "    </small>\n",
      "   </th>\n",
      "   <th scope=\"col\">\n",
      "    Density\n",
      "    <br/>\n",
      "    <small>\n",
      "     (pop/km\n",
      "     <sup>\n",
      "      2\n",
      "     </sup>\n",
      "     )\n",
      "    </small>\n",
      "   </th>\n",
      "  </tr>\n",
      "  <tr>\n",
      "   <td>\n",
      "    1\n",
      "   </td>\n",
      "   <td align=\"left\">\n",
      "    <span class=\"flagicon nowrap\">\n",
      "     <span class=\"mw-image-border\" typeof=\"mw:File\">\n",
      "      <span>\n",
      "       <img alt=\"\" class=\"mw-file-element\" data-file-height=\"600\" data-file-width=\"900\" decoding=\"async\" height=\"15\" src=\"//upload.wikimedia.org/wikipedia/commons/thumb/4/48/Flag_of_Singapore.svg/40px-Flag_of_Singapore.svg.png\" srcset=\"//upload.wikimedia.org/wikipedia/commons/thumb/4/48/Flag_of_Singapore.svg/60px-Flag_of_Singapore.svg.png 2x\" width=\"23\"/>\n",
      "      </span>\n",
      "     </span>\n",
      "    </span>\n",
      "    <a href=\"/wiki/Singapore\" title=\"Singapore\">\n",
      "     Singapore\n",
      "    </a>\n",
      "   </td>\n",
      "   <td>\n",
      "    5,921,231\n",
      "   </td>\n",
      "   <td>\n",
      "    719\n",
      "   </td>\n",
      "   <td>\n",
      "    8,235\n",
      "   </td>\n",
      "  </tr>\n",
      "  <tr>\n",
      "   <td>\n",
      "    2\n",
      "   </td>\n",
      "   <td align=\"left\">\n",
      "    <span class=\"flagicon nowrap\">\n",
      "     <span class=\"mw-image-border\" typeof=\"mw:File\">\n",
      "      <span>\n",
      "       <img alt=\"\" class=\"mw-file-element\" data-file-height=\"307\" data-file-width=\"512\" decoding=\"async\" height=\"14\" src=\"//upload.wikimedia.org/wikipedia/commons/thumb/f/f9/Flag_of_Bangladesh.svg/40px-Flag_of_Bangladesh.svg.png\" srcset=\"//upload.wikimedia.org/wikipedia/commons/thumb/f/f9/Flag_of_Bangladesh.svg/60px-Flag_of_Bangladesh.svg.png 2x\" width=\"23\"/>\n",
      "      </span>\n",
      "     </span>\n",
      "    </span>\n",
      "    <a href=\"/wiki/Bangladesh\" title=\"Bangladesh\">\n",
      "     Bangladesh\n",
      "    </a>\n",
      "   </td>\n",
      "   <td>\n",
      "    165,650,475\n",
      "   </td>\n",
      "   <td>\n",
      "    148,460\n",
      "   </td>\n",
      "   <td>\n",
      "    1,116\n",
      "   </td>\n",
      "  </tr>\n",
      "  <tr>\n",
      "   <td>\n",
      "    3\n",
      "   </td>\n",
      "   <td align=\"left\">\n",
      "    <p>\n",
      "     <span class=\"flagicon nowrap\">\n",
      "      <span class=\"mw-image-border\" typeof=\"mw:File\">\n",
      "       <span>\n",
      "        <img alt=\"\" class=\"mw-file-element\" data-file-height=\"600\" data-file-width=\"1200\" decoding=\"async\" height=\"12\" src=\"//upload.wikimedia.org/wikipedia/commons/thumb/0/00/Flag_of_Palestine.svg/40px-Flag_of_Palestine.svg.png\" srcset=\"//upload.wikimedia.org/wikipedia/commons/thumb/0/00/Flag_of_Palestine.svg/60px-Flag_of_Palestine.svg.png 2x\" width=\"23\"/>\n",
      "       </span>\n",
      "      </span>\n",
      "     </span>\n",
      "     <a href=\"/wiki/Palestine\" title=\"Palestine\">\n",
      "      Palestine\n",
      "     </a>\n",
      "     <sup class=\"reference\" id=\"cite_ref-107\">\n",
      "      <a href=\"#cite_note-107\">\n",
      "       <span class=\"cite-bracket\">\n",
      "        [\n",
      "       </span>\n",
      "       note 3\n",
      "       <span class=\"cite-bracket\">\n",
      "        ]\n",
      "       </span>\n",
      "      </a>\n",
      "     </sup>\n",
      "     <sup class=\"reference\" id=\"cite_ref-108\">\n",
      "      <a href=\"#cite_note-108\">\n",
      "       <span class=\"cite-bracket\">\n",
      "        [\n",
      "       </span>\n",
      "       102\n",
      "       <span class=\"cite-bracket\">\n",
      "        ]\n",
      "       </span>\n",
      "      </a>\n",
      "     </sup>\n",
      "    </p>\n",
      "   </td>\n",
      "   <td>\n",
      "    5,223,000\n",
      "   </td>\n",
      "   <td>\n",
      "    6,025\n",
      "   </td>\n",
      "   <td>\n",
      "    867\n",
      "   </td>\n",
      "  </tr>\n",
      "  <tr>\n",
      "   <td>\n",
      "    4\n",
      "   </td>\n",
      "   <td align=\"left\">\n",
      "    <span class=\"flagicon nowrap\">\n",
      "     <span class=\"mw-image-border\" typeof=\"mw:File\">\n",
      "      <span>\n",
      "       <img alt=\"\" class=\"mw-file-element\" data-file-height=\"600\" data-file-width=\"900\" decoding=\"async\" height=\"15\" src=\"//upload.wikimedia.org/wikipedia/commons/thumb/7/72/Flag_of_the_Republic_of_China.svg/40px-Flag_of_the_Republic_of_China.svg.png\" srcset=\"//upload.wikimedia.org/wikipedia/commons/thumb/7/72/Flag_of_the_Republic_of_China.svg/60px-Flag_of_the_Republic_of_China.svg.png 2x\" width=\"23\"/>\n",
      "      </span>\n",
      "     </span>\n",
      "    </span>\n",
      "    <a href=\"/wiki/Taiwan\" title=\"Taiwan\">\n",
      "     Taiwan\n",
      "    </a>\n",
      "    <sup class=\"reference\" id=\"cite_ref-109\">\n",
      "     <a href=\"#cite_note-109\">\n",
      "      <span class=\"cite-bracket\">\n",
      "       [\n",
      "      </span>\n",
      "      note 4\n",
      "      <span class=\"cite-bracket\">\n",
      "       ]\n",
      "      </span>\n",
      "     </a>\n",
      "    </sup>\n",
      "   </td>\n",
      "   <td>\n",
      "    23,580,712\n",
      "   </td>\n",
      "   <td>\n",
      "    35,980\n",
      "   </td>\n",
      "   <td>\n",
      "    655\n",
      "   </td>\n",
      "  </tr>\n",
      "  <tr>\n",
      "   <td>\n",
      "    5\n",
      "   </td>\n",
      "   <td align=\"left\">\n",
      "    <span class=\"flagicon nowrap\">\n",
      "     <span class=\"mw-image-border\" typeof=\"mw:File\">\n",
      "      <span>\n",
      "       <img alt=\"\" class=\"mw-file-element\" data-file-height=\"600\" data-file-width=\"900\" decoding=\"async\" height=\"15\" src=\"//upload.wikimedia.org/wikipedia/commons/thumb/0/09/Flag_of_South_Korea.svg/40px-Flag_of_South_Korea.svg.png\" srcset=\"//upload.wikimedia.org/wikipedia/commons/thumb/0/09/Flag_of_South_Korea.svg/60px-Flag_of_South_Korea.svg.png 2x\" width=\"23\"/>\n",
      "      </span>\n",
      "     </span>\n",
      "    </span>\n",
      "    <a href=\"/wiki/South_Korea\" title=\"South Korea\">\n",
      "     South Korea\n",
      "    </a>\n",
      "   </td>\n",
      "   <td>\n",
      "    51,844,834\n",
      "   </td>\n",
      "   <td>\n",
      "    99,720\n",
      "   </td>\n",
      "   <td>\n",
      "    520\n",
      "   </td>\n",
      "  </tr>\n",
      "  <tr>\n",
      "   <td>\n",
      "    6\n",
      "   </td>\n",
      "   <td align=\"left\">\n",
      "    <span class=\"flagicon nowrap\">\n",
      "     <span class=\"mw-image-border\" typeof=\"mw:File\">\n",
      "      <span>\n",
      "       <img alt=\"\" class=\"mw-file-element\" data-file-height=\"1920\" data-file-width=\"2880\" decoding=\"async\" height=\"15\" src=\"//upload.wikimedia.org/wikipedia/commons/thumb/5/59/Flag_of_Lebanon.svg/40px-Flag_of_Lebanon.svg.png\" srcset=\"//upload.wikimedia.org/wikipedia/commons/thumb/5/59/Flag_of_Lebanon.svg/60px-Flag_of_Lebanon.svg.png 2x\" width=\"23\"/>\n",
      "      </span>\n",
      "     </span>\n",
      "    </span>\n",
      "    <a href=\"/wiki/Lebanon\" title=\"Lebanon\">\n",
      "     Lebanon\n",
      "    </a>\n",
      "   </td>\n",
      "   <td>\n",
      "    5,296,814\n",
      "   </td>\n",
      "   <td>\n",
      "    10,400\n",
      "   </td>\n",
      "   <td>\n",
      "    509\n",
      "   </td>\n",
      "  </tr>\n",
      "  <tr>\n",
      "   <td>\n",
      "    7\n",
      "   </td>\n",
      "   <td align=\"left\">\n",
      "    <span class=\"flagicon nowrap\">\n",
      "     <span class=\"mw-image-border\" typeof=\"mw:File\">\n",
      "      <span>\n",
      "       <img alt=\"\" class=\"mw-file-element\" data-file-height=\"600\" data-file-width=\"900\" decoding=\"async\" height=\"15\" src=\"//upload.wikimedia.org/wikipedia/commons/thumb/1/17/Flag_of_Rwanda.svg/40px-Flag_of_Rwanda.svg.png\" srcset=\"//upload.wikimedia.org/wikipedia/commons/thumb/1/17/Flag_of_Rwanda.svg/60px-Flag_of_Rwanda.svg.png 2x\" width=\"23\"/>\n",
      "      </span>\n",
      "     </span>\n",
      "    </span>\n",
      "    <a href=\"/wiki/Rwanda\" title=\"Rwanda\">\n",
      "     Rwanda\n",
      "    </a>\n",
      "   </td>\n",
      "   <td>\n",
      "    13,173,730\n",
      "   </td>\n",
      "   <td>\n",
      "    26,338\n",
      "   </td>\n",
      "   <td>\n",
      "    500\n",
      "   </td>\n",
      "  </tr>\n",
      "  <tr>\n",
      "   <td>\n",
      "    8\n",
      "   </td>\n",
      "   <td align=\"left\">\n",
      "    <span class=\"flagicon nowrap\">\n",
      "     <span class=\"mw-image-border\" typeof=\"mw:File\">\n",
      "      <span>\n",
      "       <img alt=\"\" class=\"mw-file-element\" data-file-height=\"600\" data-file-width=\"1000\" decoding=\"async\" height=\"14\" src=\"//upload.wikimedia.org/wikipedia/commons/thumb/5/50/Flag_of_Burundi.svg/40px-Flag_of_Burundi.svg.png\" srcset=\"//upload.wikimedia.org/wikipedia/commons/thumb/5/50/Flag_of_Burundi.svg/60px-Flag_of_Burundi.svg.png 2x\" width=\"23\"/>\n",
      "      </span>\n",
      "     </span>\n",
      "    </span>\n",
      "    <a href=\"/wiki/Burundi\" title=\"Burundi\">\n",
      "     Burundi\n",
      "    </a>\n",
      "   </td>\n",
      "   <td>\n",
      "    12,696,478\n",
      "   </td>\n",
      "   <td>\n",
      "    27,830\n",
      "   </td>\n",
      "   <td>\n",
      "    456\n",
      "   </td>\n",
      "  </tr>\n",
      "  <tr>\n",
      "   <td>\n",
      "    9\n",
      "   </td>\n",
      "   <td align=\"left\">\n",
      "    <span class=\"flagicon nowrap\">\n",
      "     <span class=\"mw-image-border\" typeof=\"mw:File\">\n",
      "      <span>\n",
      "       <img alt=\"\" class=\"mw-file-element\" data-file-height=\"800\" data-file-width=\"1100\" decoding=\"async\" height=\"15\" src=\"//upload.wikimedia.org/wikipedia/commons/thumb/d/d4/Flag_of_Israel.svg/40px-Flag_of_Israel.svg.png\" srcset=\"//upload.wikimedia.org/wikipedia/commons/thumb/d/d4/Flag_of_Israel.svg/60px-Flag_of_Israel.svg.png 2x\" width=\"21\"/>\n",
      "      </span>\n",
      "     </span>\n",
      "    </span>\n",
      "    <a href=\"/wiki/Israel\" title=\"Israel\">\n",
      "     Israel\n",
      "    </a>\n",
      "   </td>\n",
      "   <td>\n",
      "    9,402,617\n",
      "   </td>\n",
      "   <td>\n",
      "    21,937\n",
      "   </td>\n",
      "   <td>\n",
      "    429\n",
      "   </td>\n",
      "  </tr>\n",
      "  <tr>\n",
      "   <td>\n",
      "    10\n",
      "   </td>\n",
      "   <td align=\"left\">\n",
      "    <span class=\"flagicon nowrap\">\n",
      "     <span class=\"mw-image-border\" typeof=\"mw:File\">\n",
      "      <span>\n",
      "       <img alt=\"\" class=\"mw-file-element\" data-file-height=\"600\" data-file-width=\"900\" decoding=\"async\" height=\"15\" src=\"//upload.wikimedia.org/wikipedia/en/thumb/4/41/Flag_of_India.svg/40px-Flag_of_India.svg.png\" srcset=\"//upload.wikimedia.org/wikipedia/en/thumb/4/41/Flag_of_India.svg/60px-Flag_of_India.svg.png 2x\" width=\"23\"/>\n",
      "      </span>\n",
      "     </span>\n",
      "    </span>\n",
      "    <a href=\"/wiki/India\" title=\"India\">\n",
      "     India\n",
      "    </a>\n",
      "   </td>\n",
      "   <td>\n",
      "    1,389,637,446\n",
      "   </td>\n",
      "   <td>\n",
      "    3,287,263\n",
      "   </td>\n",
      "   <td>\n",
      "    423\n",
      "   </td>\n",
      "  </tr>\n",
      " </tbody>\n",
      "</table>\n",
      "\n"
     ]
    }
   ],
   "source": [
    "print(tables[table_index].prettify())"
   ]
  },
  {
   "cell_type": "code",
   "execution_count": 16,
   "id": "6f401e16-95fc-4c4d-b91a-ae993cad6f40",
   "metadata": {},
   "outputs": [
    {
     "data": {
      "text/html": [
       "<div>\n",
       "<style scoped>\n",
       "    .dataframe tbody tr th:only-of-type {\n",
       "        vertical-align: middle;\n",
       "    }\n",
       "\n",
       "    .dataframe tbody tr th {\n",
       "        vertical-align: top;\n",
       "    }\n",
       "\n",
       "    .dataframe thead th {\n",
       "        text-align: right;\n",
       "    }\n",
       "</style>\n",
       "<table border=\"1\" class=\"dataframe\">\n",
       "  <thead>\n",
       "    <tr style=\"text-align: right;\">\n",
       "      <th></th>\n",
       "      <th>Rank</th>\n",
       "      <th>Country</th>\n",
       "      <th>Population</th>\n",
       "      <th>Area</th>\n",
       "      <th>Density</th>\n",
       "    </tr>\n",
       "  </thead>\n",
       "  <tbody>\n",
       "    <tr>\n",
       "      <th>0</th>\n",
       "      <td>1</td>\n",
       "      <td>Singapore</td>\n",
       "      <td>5,921,231</td>\n",
       "      <td>719</td>\n",
       "      <td>8,235</td>\n",
       "    </tr>\n",
       "    <tr>\n",
       "      <th>1</th>\n",
       "      <td>2</td>\n",
       "      <td>Bangladesh</td>\n",
       "      <td>165,650,475</td>\n",
       "      <td>148,460</td>\n",
       "      <td>1,116</td>\n",
       "    </tr>\n",
       "    <tr>\n",
       "      <th>2</th>\n",
       "      <td>3</td>\n",
       "      <td>Palestine[note 3][102]</td>\n",
       "      <td>5,223,000</td>\n",
       "      <td>6,025</td>\n",
       "      <td>867</td>\n",
       "    </tr>\n",
       "    <tr>\n",
       "      <th>3</th>\n",
       "      <td>4</td>\n",
       "      <td>Taiwan[note 4]</td>\n",
       "      <td>23,580,712</td>\n",
       "      <td>35,980</td>\n",
       "      <td>655</td>\n",
       "    </tr>\n",
       "    <tr>\n",
       "      <th>4</th>\n",
       "      <td>5</td>\n",
       "      <td>South Korea</td>\n",
       "      <td>51,844,834</td>\n",
       "      <td>99,720</td>\n",
       "      <td>520</td>\n",
       "    </tr>\n",
       "    <tr>\n",
       "      <th>5</th>\n",
       "      <td>6</td>\n",
       "      <td>Lebanon</td>\n",
       "      <td>5,296,814</td>\n",
       "      <td>10,400</td>\n",
       "      <td>509</td>\n",
       "    </tr>\n",
       "    <tr>\n",
       "      <th>6</th>\n",
       "      <td>7</td>\n",
       "      <td>Rwanda</td>\n",
       "      <td>13,173,730</td>\n",
       "      <td>26,338</td>\n",
       "      <td>500</td>\n",
       "    </tr>\n",
       "    <tr>\n",
       "      <th>7</th>\n",
       "      <td>8</td>\n",
       "      <td>Burundi</td>\n",
       "      <td>12,696,478</td>\n",
       "      <td>27,830</td>\n",
       "      <td>456</td>\n",
       "    </tr>\n",
       "    <tr>\n",
       "      <th>8</th>\n",
       "      <td>9</td>\n",
       "      <td>Israel</td>\n",
       "      <td>9,402,617</td>\n",
       "      <td>21,937</td>\n",
       "      <td>429</td>\n",
       "    </tr>\n",
       "    <tr>\n",
       "      <th>9</th>\n",
       "      <td>10</td>\n",
       "      <td>India</td>\n",
       "      <td>1,389,637,446</td>\n",
       "      <td>3,287,263</td>\n",
       "      <td>423</td>\n",
       "    </tr>\n",
       "  </tbody>\n",
       "</table>\n",
       "</div>"
      ],
      "text/plain": [
       "  Rank                 Country     Population       Area Density\n",
       "0    1               Singapore      5,921,231        719   8,235\n",
       "1    2              Bangladesh    165,650,475    148,460   1,116\n",
       "2    3  Palestine[note 3][102]      5,223,000      6,025     867\n",
       "3    4          Taiwan[note 4]     23,580,712     35,980     655\n",
       "4    5             South Korea     51,844,834     99,720     520\n",
       "5    6                 Lebanon      5,296,814     10,400     509\n",
       "6    7                  Rwanda     13,173,730     26,338     500\n",
       "7    8                 Burundi     12,696,478     27,830     456\n",
       "8    9                  Israel      9,402,617     21,937     429\n",
       "9   10                   India  1,389,637,446  3,287,263     423"
      ]
     },
     "execution_count": 16,
     "metadata": {},
     "output_type": "execute_result"
    }
   ],
   "source": [
    "population_data = pd.DataFrame(columns=[\"Rank\", \"Country\", \"Population\", \"Area\", \"Density\"])\n",
    "\n",
    "for row in tables[table_index].tbody.find_all(\"tr\"):\n",
    "    col = row.find_all(\"td\")\n",
    "    if col:\n",
    "        rank = col[0].text.strip()\n",
    "        country = col[1].text.strip()\n",
    "        population = col[2].text.strip()\n",
    "        area = col[3].text.strip()\n",
    "        density = col[4].text.strip()\n",
    "\n",
    "        # Create a temporary DataFrame for the new row\n",
    "        new_row = pd.DataFrame([{\"Rank\": rank, \"Country\": country, \"Population\": population, \"Area\": area, \"Density\": density}])\n",
    "\n",
    "        # Use concat \n",
    "        population_data = pd.concat([population_data, new_row], ignore_index=True)\n",
    "\n",
    "population_data"
   ]
  },
  {
   "cell_type": "markdown",
   "id": "babcfc00-188f-4b10-8e84-b2eacc581abe",
   "metadata": {},
   "source": [
    "## Scrape data from HTML tables into a DataFrame using BeautifulSoup and read_html\n"
   ]
  },
  {
   "cell_type": "markdown",
   "id": "05740d2c-f0a3-4def-b4dc-39afd0b0da47",
   "metadata": {},
   "source": [
    "Using the same `url`, `data`, `soup`, and `tables` object as in the last section we can use the `read_html` function to create a DataFrame.\n",
    "\n",
    "Remember the table we need is located in `tables[table_index]`\n",
    "\n",
    "We can now use the `pandas` function `read_html` and give it the string version of the table as well as the `flavor` which is the parsing engine `bs4`.\n"
   ]
  },
  {
   "cell_type": "code",
   "execution_count": 19,
   "id": "6d35e83c-3534-4bd6-9c7d-3ea15c9040e7",
   "metadata": {},
   "outputs": [
    {
     "ename": "ImportError",
     "evalue": "Missing optional dependency 'html5lib'.  Use pip or conda to install html5lib.",
     "output_type": "error",
     "traceback": [
      "\u001b[1;31m---------------------------------------------------------------------------\u001b[0m",
      "\u001b[1;31mModuleNotFoundError\u001b[0m                       Traceback (most recent call last)",
      "File \u001b[1;32mc:\\Users\\Família\\anaconda3\\Lib\\site-packages\\pandas\\compat\\_optional.py:135\u001b[0m, in \u001b[0;36mimport_optional_dependency\u001b[1;34m(name, extra, errors, min_version)\u001b[0m\n\u001b[0;32m    134\u001b[0m \u001b[38;5;28;01mtry\u001b[39;00m:\n\u001b[1;32m--> 135\u001b[0m     module \u001b[38;5;241m=\u001b[39m importlib\u001b[38;5;241m.\u001b[39mimport_module(name)\n\u001b[0;32m    136\u001b[0m \u001b[38;5;28;01mexcept\u001b[39;00m \u001b[38;5;167;01mImportError\u001b[39;00m:\n",
      "File \u001b[1;32mc:\\Users\\Família\\anaconda3\\Lib\\importlib\\__init__.py:88\u001b[0m, in \u001b[0;36mimport_module\u001b[1;34m(name, package)\u001b[0m\n\u001b[0;32m     87\u001b[0m         level \u001b[38;5;241m+\u001b[39m\u001b[38;5;241m=\u001b[39m \u001b[38;5;241m1\u001b[39m\n\u001b[1;32m---> 88\u001b[0m \u001b[38;5;28;01mreturn\u001b[39;00m _bootstrap\u001b[38;5;241m.\u001b[39m_gcd_import(name[level:], package, level)\n",
      "File \u001b[1;32m<frozen importlib._bootstrap>:1387\u001b[0m, in \u001b[0;36m_gcd_import\u001b[1;34m(name, package, level)\u001b[0m\n",
      "File \u001b[1;32m<frozen importlib._bootstrap>:1360\u001b[0m, in \u001b[0;36m_find_and_load\u001b[1;34m(name, import_)\u001b[0m\n",
      "File \u001b[1;32m<frozen importlib._bootstrap>:1324\u001b[0m, in \u001b[0;36m_find_and_load_unlocked\u001b[1;34m(name, import_)\u001b[0m\n",
      "\u001b[1;31mModuleNotFoundError\u001b[0m: No module named 'html5lib'",
      "\nDuring handling of the above exception, another exception occurred:\n",
      "\u001b[1;31mImportError\u001b[0m                               Traceback (most recent call last)",
      "Cell \u001b[1;32mIn[19], line 1\u001b[0m\n\u001b[1;32m----> 1\u001b[0m pd\u001b[38;5;241m.\u001b[39mread_html(\u001b[38;5;28mstr\u001b[39m(tables[\u001b[38;5;241m5\u001b[39m]), flavor\u001b[38;5;241m=\u001b[39m\u001b[38;5;124m'\u001b[39m\u001b[38;5;124mbs4\u001b[39m\u001b[38;5;124m'\u001b[39m)\n",
      "File \u001b[1;32mc:\\Users\\Família\\anaconda3\\Lib\\site-packages\\pandas\\io\\html.py:1240\u001b[0m, in \u001b[0;36mread_html\u001b[1;34m(io, match, flavor, header, index_col, skiprows, attrs, parse_dates, thousands, encoding, decimal, converters, na_values, keep_default_na, displayed_only, extract_links, dtype_backend, storage_options)\u001b[0m\n\u001b[0;32m   1224\u001b[0m \u001b[38;5;28;01mif\u001b[39;00m \u001b[38;5;28misinstance\u001b[39m(io, \u001b[38;5;28mstr\u001b[39m) \u001b[38;5;129;01mand\u001b[39;00m \u001b[38;5;129;01mnot\u001b[39;00m \u001b[38;5;28many\u001b[39m(\n\u001b[0;32m   1225\u001b[0m     [\n\u001b[0;32m   1226\u001b[0m         is_file_like(io),\n\u001b[1;32m   (...)\u001b[0m\n\u001b[0;32m   1230\u001b[0m     ]\n\u001b[0;32m   1231\u001b[0m ):\n\u001b[0;32m   1232\u001b[0m     warnings\u001b[38;5;241m.\u001b[39mwarn(\n\u001b[0;32m   1233\u001b[0m         \u001b[38;5;124m\"\u001b[39m\u001b[38;5;124mPassing literal html to \u001b[39m\u001b[38;5;124m'\u001b[39m\u001b[38;5;124mread_html\u001b[39m\u001b[38;5;124m'\u001b[39m\u001b[38;5;124m is deprecated and \u001b[39m\u001b[38;5;124m\"\u001b[39m\n\u001b[0;32m   1234\u001b[0m         \u001b[38;5;124m\"\u001b[39m\u001b[38;5;124mwill be removed in a future version. To read from a \u001b[39m\u001b[38;5;124m\"\u001b[39m\n\u001b[1;32m   (...)\u001b[0m\n\u001b[0;32m   1237\u001b[0m         stacklevel\u001b[38;5;241m=\u001b[39mfind_stack_level(),\n\u001b[0;32m   1238\u001b[0m     )\n\u001b[1;32m-> 1240\u001b[0m \u001b[38;5;28;01mreturn\u001b[39;00m _parse(\n\u001b[0;32m   1241\u001b[0m     flavor\u001b[38;5;241m=\u001b[39mflavor,\n\u001b[0;32m   1242\u001b[0m     io\u001b[38;5;241m=\u001b[39mio,\n\u001b[0;32m   1243\u001b[0m     match\u001b[38;5;241m=\u001b[39mmatch,\n\u001b[0;32m   1244\u001b[0m     header\u001b[38;5;241m=\u001b[39mheader,\n\u001b[0;32m   1245\u001b[0m     index_col\u001b[38;5;241m=\u001b[39mindex_col,\n\u001b[0;32m   1246\u001b[0m     skiprows\u001b[38;5;241m=\u001b[39mskiprows,\n\u001b[0;32m   1247\u001b[0m     parse_dates\u001b[38;5;241m=\u001b[39mparse_dates,\n\u001b[0;32m   1248\u001b[0m     thousands\u001b[38;5;241m=\u001b[39mthousands,\n\u001b[0;32m   1249\u001b[0m     attrs\u001b[38;5;241m=\u001b[39mattrs,\n\u001b[0;32m   1250\u001b[0m     encoding\u001b[38;5;241m=\u001b[39mencoding,\n\u001b[0;32m   1251\u001b[0m     decimal\u001b[38;5;241m=\u001b[39mdecimal,\n\u001b[0;32m   1252\u001b[0m     converters\u001b[38;5;241m=\u001b[39mconverters,\n\u001b[0;32m   1253\u001b[0m     na_values\u001b[38;5;241m=\u001b[39mna_values,\n\u001b[0;32m   1254\u001b[0m     keep_default_na\u001b[38;5;241m=\u001b[39mkeep_default_na,\n\u001b[0;32m   1255\u001b[0m     displayed_only\u001b[38;5;241m=\u001b[39mdisplayed_only,\n\u001b[0;32m   1256\u001b[0m     extract_links\u001b[38;5;241m=\u001b[39mextract_links,\n\u001b[0;32m   1257\u001b[0m     dtype_backend\u001b[38;5;241m=\u001b[39mdtype_backend,\n\u001b[0;32m   1258\u001b[0m     storage_options\u001b[38;5;241m=\u001b[39mstorage_options,\n\u001b[0;32m   1259\u001b[0m )\n",
      "File \u001b[1;32mc:\\Users\\Família\\anaconda3\\Lib\\site-packages\\pandas\\io\\html.py:971\u001b[0m, in \u001b[0;36m_parse\u001b[1;34m(flavor, io, match, attrs, encoding, displayed_only, extract_links, storage_options, **kwargs)\u001b[0m\n\u001b[0;32m    969\u001b[0m retained \u001b[38;5;241m=\u001b[39m \u001b[38;5;28;01mNone\u001b[39;00m\n\u001b[0;32m    970\u001b[0m \u001b[38;5;28;01mfor\u001b[39;00m flav \u001b[38;5;129;01min\u001b[39;00m flavor:\n\u001b[1;32m--> 971\u001b[0m     parser \u001b[38;5;241m=\u001b[39m _parser_dispatch(flav)\n\u001b[0;32m    972\u001b[0m     p \u001b[38;5;241m=\u001b[39m parser(\n\u001b[0;32m    973\u001b[0m         io,\n\u001b[0;32m    974\u001b[0m         compiled_match,\n\u001b[1;32m   (...)\u001b[0m\n\u001b[0;32m    979\u001b[0m         storage_options,\n\u001b[0;32m    980\u001b[0m     )\n\u001b[0;32m    982\u001b[0m     \u001b[38;5;28;01mtry\u001b[39;00m:\n",
      "File \u001b[1;32mc:\\Users\\Família\\anaconda3\\Lib\\site-packages\\pandas\\io\\html.py:915\u001b[0m, in \u001b[0;36m_parser_dispatch\u001b[1;34m(flavor)\u001b[0m\n\u001b[0;32m    910\u001b[0m     \u001b[38;5;28;01mraise\u001b[39;00m \u001b[38;5;167;01mValueError\u001b[39;00m(\n\u001b[0;32m    911\u001b[0m         \u001b[38;5;124mf\u001b[39m\u001b[38;5;124m\"\u001b[39m\u001b[38;5;132;01m{\u001b[39;00m\u001b[38;5;28mrepr\u001b[39m(flavor)\u001b[38;5;132;01m}\u001b[39;00m\u001b[38;5;124m is not a valid flavor, valid flavors are \u001b[39m\u001b[38;5;132;01m{\u001b[39;00mvalid_parsers\u001b[38;5;132;01m}\u001b[39;00m\u001b[38;5;124m\"\u001b[39m\n\u001b[0;32m    912\u001b[0m     )\n\u001b[0;32m    914\u001b[0m \u001b[38;5;28;01mif\u001b[39;00m flavor \u001b[38;5;129;01min\u001b[39;00m (\u001b[38;5;124m\"\u001b[39m\u001b[38;5;124mbs4\u001b[39m\u001b[38;5;124m\"\u001b[39m, \u001b[38;5;124m\"\u001b[39m\u001b[38;5;124mhtml5lib\u001b[39m\u001b[38;5;124m\"\u001b[39m):\n\u001b[1;32m--> 915\u001b[0m     import_optional_dependency(\u001b[38;5;124m\"\u001b[39m\u001b[38;5;124mhtml5lib\u001b[39m\u001b[38;5;124m\"\u001b[39m)\n\u001b[0;32m    916\u001b[0m     import_optional_dependency(\u001b[38;5;124m\"\u001b[39m\u001b[38;5;124mbs4\u001b[39m\u001b[38;5;124m\"\u001b[39m)\n\u001b[0;32m    917\u001b[0m \u001b[38;5;28;01melse\u001b[39;00m:\n",
      "File \u001b[1;32mc:\\Users\\Família\\anaconda3\\Lib\\site-packages\\pandas\\compat\\_optional.py:138\u001b[0m, in \u001b[0;36mimport_optional_dependency\u001b[1;34m(name, extra, errors, min_version)\u001b[0m\n\u001b[0;32m    136\u001b[0m \u001b[38;5;28;01mexcept\u001b[39;00m \u001b[38;5;167;01mImportError\u001b[39;00m:\n\u001b[0;32m    137\u001b[0m     \u001b[38;5;28;01mif\u001b[39;00m errors \u001b[38;5;241m==\u001b[39m \u001b[38;5;124m\"\u001b[39m\u001b[38;5;124mraise\u001b[39m\u001b[38;5;124m\"\u001b[39m:\n\u001b[1;32m--> 138\u001b[0m         \u001b[38;5;28;01mraise\u001b[39;00m \u001b[38;5;167;01mImportError\u001b[39;00m(msg)\n\u001b[0;32m    139\u001b[0m     \u001b[38;5;28;01mreturn\u001b[39;00m \u001b[38;5;28;01mNone\u001b[39;00m\n\u001b[0;32m    141\u001b[0m \u001b[38;5;66;03m# Handle submodules: if we have submodule, grab parent module from sys.modules\u001b[39;00m\n",
      "\u001b[1;31mImportError\u001b[0m: Missing optional dependency 'html5lib'.  Use pip or conda to install html5lib."
     ]
    }
   ],
   "source": [
    "pd.read_html(str(tables[5]), flavor='bs4')"
   ]
  },
  {
   "cell_type": "markdown",
   "id": "f4c214df-6e69-4c5d-8db8-afb7de2464fb",
   "metadata": {},
   "source": [
    "The function `read_html` always returns a list of DataFrames so we must pick the one we want out of the list.\n"
   ]
  },
  {
   "cell_type": "code",
   "execution_count": 20,
   "id": "d1895408-2941-4d8c-acec-a2ebfdaa2c07",
   "metadata": {},
   "outputs": [
    {
     "ename": "ImportError",
     "evalue": "Missing optional dependency 'html5lib'.  Use pip or conda to install html5lib.",
     "output_type": "error",
     "traceback": [
      "\u001b[1;31m---------------------------------------------------------------------------\u001b[0m",
      "\u001b[1;31mModuleNotFoundError\u001b[0m                       Traceback (most recent call last)",
      "File \u001b[1;32mc:\\Users\\Família\\anaconda3\\Lib\\site-packages\\pandas\\compat\\_optional.py:135\u001b[0m, in \u001b[0;36mimport_optional_dependency\u001b[1;34m(name, extra, errors, min_version)\u001b[0m\n\u001b[0;32m    134\u001b[0m \u001b[38;5;28;01mtry\u001b[39;00m:\n\u001b[1;32m--> 135\u001b[0m     module \u001b[38;5;241m=\u001b[39m importlib\u001b[38;5;241m.\u001b[39mimport_module(name)\n\u001b[0;32m    136\u001b[0m \u001b[38;5;28;01mexcept\u001b[39;00m \u001b[38;5;167;01mImportError\u001b[39;00m:\n",
      "File \u001b[1;32mc:\\Users\\Família\\anaconda3\\Lib\\importlib\\__init__.py:88\u001b[0m, in \u001b[0;36mimport_module\u001b[1;34m(name, package)\u001b[0m\n\u001b[0;32m     87\u001b[0m         level \u001b[38;5;241m+\u001b[39m\u001b[38;5;241m=\u001b[39m \u001b[38;5;241m1\u001b[39m\n\u001b[1;32m---> 88\u001b[0m \u001b[38;5;28;01mreturn\u001b[39;00m _bootstrap\u001b[38;5;241m.\u001b[39m_gcd_import(name[level:], package, level)\n",
      "File \u001b[1;32m<frozen importlib._bootstrap>:1387\u001b[0m, in \u001b[0;36m_gcd_import\u001b[1;34m(name, package, level)\u001b[0m\n",
      "File \u001b[1;32m<frozen importlib._bootstrap>:1360\u001b[0m, in \u001b[0;36m_find_and_load\u001b[1;34m(name, import_)\u001b[0m\n",
      "File \u001b[1;32m<frozen importlib._bootstrap>:1324\u001b[0m, in \u001b[0;36m_find_and_load_unlocked\u001b[1;34m(name, import_)\u001b[0m\n",
      "\u001b[1;31mModuleNotFoundError\u001b[0m: No module named 'html5lib'",
      "\nDuring handling of the above exception, another exception occurred:\n",
      "\u001b[1;31mImportError\u001b[0m                               Traceback (most recent call last)",
      "Cell \u001b[1;32mIn[20], line 1\u001b[0m\n\u001b[1;32m----> 1\u001b[0m population_data_read_html \u001b[38;5;241m=\u001b[39m pd\u001b[38;5;241m.\u001b[39mread_html(\u001b[38;5;28mstr\u001b[39m(tables[\u001b[38;5;241m5\u001b[39m]), flavor\u001b[38;5;241m=\u001b[39m\u001b[38;5;124m'\u001b[39m\u001b[38;5;124mbs4\u001b[39m\u001b[38;5;124m'\u001b[39m)[\u001b[38;5;241m0\u001b[39m]\n\u001b[0;32m      3\u001b[0m population_data_read_html\n",
      "File \u001b[1;32mc:\\Users\\Família\\anaconda3\\Lib\\site-packages\\pandas\\io\\html.py:1240\u001b[0m, in \u001b[0;36mread_html\u001b[1;34m(io, match, flavor, header, index_col, skiprows, attrs, parse_dates, thousands, encoding, decimal, converters, na_values, keep_default_na, displayed_only, extract_links, dtype_backend, storage_options)\u001b[0m\n\u001b[0;32m   1224\u001b[0m \u001b[38;5;28;01mif\u001b[39;00m \u001b[38;5;28misinstance\u001b[39m(io, \u001b[38;5;28mstr\u001b[39m) \u001b[38;5;129;01mand\u001b[39;00m \u001b[38;5;129;01mnot\u001b[39;00m \u001b[38;5;28many\u001b[39m(\n\u001b[0;32m   1225\u001b[0m     [\n\u001b[0;32m   1226\u001b[0m         is_file_like(io),\n\u001b[1;32m   (...)\u001b[0m\n\u001b[0;32m   1230\u001b[0m     ]\n\u001b[0;32m   1231\u001b[0m ):\n\u001b[0;32m   1232\u001b[0m     warnings\u001b[38;5;241m.\u001b[39mwarn(\n\u001b[0;32m   1233\u001b[0m         \u001b[38;5;124m\"\u001b[39m\u001b[38;5;124mPassing literal html to \u001b[39m\u001b[38;5;124m'\u001b[39m\u001b[38;5;124mread_html\u001b[39m\u001b[38;5;124m'\u001b[39m\u001b[38;5;124m is deprecated and \u001b[39m\u001b[38;5;124m\"\u001b[39m\n\u001b[0;32m   1234\u001b[0m         \u001b[38;5;124m\"\u001b[39m\u001b[38;5;124mwill be removed in a future version. To read from a \u001b[39m\u001b[38;5;124m\"\u001b[39m\n\u001b[1;32m   (...)\u001b[0m\n\u001b[0;32m   1237\u001b[0m         stacklevel\u001b[38;5;241m=\u001b[39mfind_stack_level(),\n\u001b[0;32m   1238\u001b[0m     )\n\u001b[1;32m-> 1240\u001b[0m \u001b[38;5;28;01mreturn\u001b[39;00m _parse(\n\u001b[0;32m   1241\u001b[0m     flavor\u001b[38;5;241m=\u001b[39mflavor,\n\u001b[0;32m   1242\u001b[0m     io\u001b[38;5;241m=\u001b[39mio,\n\u001b[0;32m   1243\u001b[0m     match\u001b[38;5;241m=\u001b[39mmatch,\n\u001b[0;32m   1244\u001b[0m     header\u001b[38;5;241m=\u001b[39mheader,\n\u001b[0;32m   1245\u001b[0m     index_col\u001b[38;5;241m=\u001b[39mindex_col,\n\u001b[0;32m   1246\u001b[0m     skiprows\u001b[38;5;241m=\u001b[39mskiprows,\n\u001b[0;32m   1247\u001b[0m     parse_dates\u001b[38;5;241m=\u001b[39mparse_dates,\n\u001b[0;32m   1248\u001b[0m     thousands\u001b[38;5;241m=\u001b[39mthousands,\n\u001b[0;32m   1249\u001b[0m     attrs\u001b[38;5;241m=\u001b[39mattrs,\n\u001b[0;32m   1250\u001b[0m     encoding\u001b[38;5;241m=\u001b[39mencoding,\n\u001b[0;32m   1251\u001b[0m     decimal\u001b[38;5;241m=\u001b[39mdecimal,\n\u001b[0;32m   1252\u001b[0m     converters\u001b[38;5;241m=\u001b[39mconverters,\n\u001b[0;32m   1253\u001b[0m     na_values\u001b[38;5;241m=\u001b[39mna_values,\n\u001b[0;32m   1254\u001b[0m     keep_default_na\u001b[38;5;241m=\u001b[39mkeep_default_na,\n\u001b[0;32m   1255\u001b[0m     displayed_only\u001b[38;5;241m=\u001b[39mdisplayed_only,\n\u001b[0;32m   1256\u001b[0m     extract_links\u001b[38;5;241m=\u001b[39mextract_links,\n\u001b[0;32m   1257\u001b[0m     dtype_backend\u001b[38;5;241m=\u001b[39mdtype_backend,\n\u001b[0;32m   1258\u001b[0m     storage_options\u001b[38;5;241m=\u001b[39mstorage_options,\n\u001b[0;32m   1259\u001b[0m )\n",
      "File \u001b[1;32mc:\\Users\\Família\\anaconda3\\Lib\\site-packages\\pandas\\io\\html.py:971\u001b[0m, in \u001b[0;36m_parse\u001b[1;34m(flavor, io, match, attrs, encoding, displayed_only, extract_links, storage_options, **kwargs)\u001b[0m\n\u001b[0;32m    969\u001b[0m retained \u001b[38;5;241m=\u001b[39m \u001b[38;5;28;01mNone\u001b[39;00m\n\u001b[0;32m    970\u001b[0m \u001b[38;5;28;01mfor\u001b[39;00m flav \u001b[38;5;129;01min\u001b[39;00m flavor:\n\u001b[1;32m--> 971\u001b[0m     parser \u001b[38;5;241m=\u001b[39m _parser_dispatch(flav)\n\u001b[0;32m    972\u001b[0m     p \u001b[38;5;241m=\u001b[39m parser(\n\u001b[0;32m    973\u001b[0m         io,\n\u001b[0;32m    974\u001b[0m         compiled_match,\n\u001b[1;32m   (...)\u001b[0m\n\u001b[0;32m    979\u001b[0m         storage_options,\n\u001b[0;32m    980\u001b[0m     )\n\u001b[0;32m    982\u001b[0m     \u001b[38;5;28;01mtry\u001b[39;00m:\n",
      "File \u001b[1;32mc:\\Users\\Família\\anaconda3\\Lib\\site-packages\\pandas\\io\\html.py:915\u001b[0m, in \u001b[0;36m_parser_dispatch\u001b[1;34m(flavor)\u001b[0m\n\u001b[0;32m    910\u001b[0m     \u001b[38;5;28;01mraise\u001b[39;00m \u001b[38;5;167;01mValueError\u001b[39;00m(\n\u001b[0;32m    911\u001b[0m         \u001b[38;5;124mf\u001b[39m\u001b[38;5;124m\"\u001b[39m\u001b[38;5;132;01m{\u001b[39;00m\u001b[38;5;28mrepr\u001b[39m(flavor)\u001b[38;5;132;01m}\u001b[39;00m\u001b[38;5;124m is not a valid flavor, valid flavors are \u001b[39m\u001b[38;5;132;01m{\u001b[39;00mvalid_parsers\u001b[38;5;132;01m}\u001b[39;00m\u001b[38;5;124m\"\u001b[39m\n\u001b[0;32m    912\u001b[0m     )\n\u001b[0;32m    914\u001b[0m \u001b[38;5;28;01mif\u001b[39;00m flavor \u001b[38;5;129;01min\u001b[39;00m (\u001b[38;5;124m\"\u001b[39m\u001b[38;5;124mbs4\u001b[39m\u001b[38;5;124m\"\u001b[39m, \u001b[38;5;124m\"\u001b[39m\u001b[38;5;124mhtml5lib\u001b[39m\u001b[38;5;124m\"\u001b[39m):\n\u001b[1;32m--> 915\u001b[0m     import_optional_dependency(\u001b[38;5;124m\"\u001b[39m\u001b[38;5;124mhtml5lib\u001b[39m\u001b[38;5;124m\"\u001b[39m)\n\u001b[0;32m    916\u001b[0m     import_optional_dependency(\u001b[38;5;124m\"\u001b[39m\u001b[38;5;124mbs4\u001b[39m\u001b[38;5;124m\"\u001b[39m)\n\u001b[0;32m    917\u001b[0m \u001b[38;5;28;01melse\u001b[39;00m:\n",
      "File \u001b[1;32mc:\\Users\\Família\\anaconda3\\Lib\\site-packages\\pandas\\compat\\_optional.py:138\u001b[0m, in \u001b[0;36mimport_optional_dependency\u001b[1;34m(name, extra, errors, min_version)\u001b[0m\n\u001b[0;32m    136\u001b[0m \u001b[38;5;28;01mexcept\u001b[39;00m \u001b[38;5;167;01mImportError\u001b[39;00m:\n\u001b[0;32m    137\u001b[0m     \u001b[38;5;28;01mif\u001b[39;00m errors \u001b[38;5;241m==\u001b[39m \u001b[38;5;124m\"\u001b[39m\u001b[38;5;124mraise\u001b[39m\u001b[38;5;124m\"\u001b[39m:\n\u001b[1;32m--> 138\u001b[0m         \u001b[38;5;28;01mraise\u001b[39;00m \u001b[38;5;167;01mImportError\u001b[39;00m(msg)\n\u001b[0;32m    139\u001b[0m     \u001b[38;5;28;01mreturn\u001b[39;00m \u001b[38;5;28;01mNone\u001b[39;00m\n\u001b[0;32m    141\u001b[0m \u001b[38;5;66;03m# Handle submodules: if we have submodule, grab parent module from sys.modules\u001b[39;00m\n",
      "\u001b[1;31mImportError\u001b[0m: Missing optional dependency 'html5lib'.  Use pip or conda to install html5lib."
     ]
    }
   ],
   "source": [
    "population_data_read_html = pd.read_html(str(tables[5]), flavor='bs4')[0]\n",
    "\n",
    "population_data_read_html"
   ]
  },
  {
   "cell_type": "markdown",
   "id": "4a82a116-e106-4097-b5e3-203ac0014764",
   "metadata": {},
   "source": [
    "## Scrape data from HTML tables into a DataFrame using read_html\n"
   ]
  },
  {
   "cell_type": "markdown",
   "id": "f9452391-a339-4e3f-ac80-dc6819e290da",
   "metadata": {},
   "source": [
    "We can also use the `read_html` function to directly get DataFrames from a `url`.\n"
   ]
  },
  {
   "cell_type": "code",
   "execution_count": null,
   "id": "46aa3333-441e-42ec-a3ba-c6cdc3d42484",
   "metadata": {},
   "outputs": [],
   "source": [
    "dataframe_list = pd.read_html(url, flavor='bs4')"
   ]
  },
  {
   "cell_type": "markdown",
   "id": "85faef3c-ce48-4a57-a3fa-198ec9b0a752",
   "metadata": {},
   "source": [
    "We can see there are 25 DataFrames just like when we used `find_all` on the `soup` object.\n"
   ]
  },
  {
   "cell_type": "code",
   "execution_count": null,
   "id": "4e6a5791-cd89-4fbf-a7b9-0a02d5aa42bb",
   "metadata": {},
   "outputs": [],
   "source": [
    "len(dataframe_list)"
   ]
  },
  {
   "cell_type": "markdown",
   "id": "9e8664b6-765d-4fc2-aef8-5b0bc072b93b",
   "metadata": {},
   "source": [
    "Finally we can pick the DataFrame we need out of the list.\n"
   ]
  },
  {
   "cell_type": "code",
   "execution_count": null,
   "id": "de11692c-13d5-4896-9acb-5bd5ade9bd8b",
   "metadata": {},
   "outputs": [],
   "source": [
    "dataframe_list[5]"
   ]
  },
  {
   "cell_type": "markdown",
   "id": "f1ed20d1-37db-4bb9-95d1-d420915172df",
   "metadata": {},
   "source": [
    "We can also use the `match` parameter to select the specific table we want. If the table contains a string matching the text it will be read.\n"
   ]
  },
  {
   "cell_type": "code",
   "execution_count": null,
   "id": "4a187a62-0f1d-4edf-a4a3-82aceb641162",
   "metadata": {},
   "outputs": [],
   "source": [
    "pd.read_html(url, match=\"10 most densely populated countries\", flavor='bs4')[0]"
   ]
  },
  {
   "cell_type": "markdown",
   "id": "0a6bb893-a6a5-40da-819a-cae1b9ec35f1",
   "metadata": {},
   "source": [
    "## Authors\n"
   ]
  },
  {
   "cell_type": "markdown",
   "id": "01c27b40-b1c5-4df2-871e-896e2a0158be",
   "metadata": {},
   "source": [
    "Ramesh Sannareddy\n"
   ]
  },
  {
   "cell_type": "markdown",
   "id": "6dbd2cca-3721-4c7a-b067-5af9ec2e0cb3",
   "metadata": {},
   "source": [
    "### Other Contributors\n"
   ]
  },
  {
   "cell_type": "markdown",
   "id": "50ac4388-cdf5-47e5-8623-aa62b2af1ad9",
   "metadata": {},
   "source": [
    "Rav Ahuja\n"
   ]
  },
  {
   "cell_type": "markdown",
   "id": "dacf7d4b-e7c9-4560-9074-0ae10be4641e",
   "metadata": {},
   "source": [
    "<!-- ## Change Log\n",
    "| Date (YYYY-MM-DD) | Version | Changed By                                               | Change Description |\n",
    "| ----------------- | ------- | -------------------------------------------------------- | ------------------ |\n",
    "| 2021-08-04        | 0.2     | Made changes to markdown of nextsibling                  |                    |\n",
    "| 2020-10-17        | 0.1     | Joseph Santarcangelo  Created initial version of the lab |                    |\n",
    "--!>\n"
   ]
  },
  {
   "cell_type": "markdown",
   "id": "de38920f-a738-442c-ac7d-d91954935c68",
   "metadata": {},
   "source": [
    "####  Copyright © 2020 IBM Corporation. This notebook and its source code are released under the terms of the [MIT License](https://cognitiveclass.ai/mit-license?utm_medium=Exinfluencer&utm_source=Exinfluencer&utm_content=000026UJ&utm_term=10006555&utm_id=NA-SkillsNetwork-Channel-SkillsNetworkCoursesIBMDeveloperSkillsNetworkPY0220ENSkillsNetwork23455606-2021-01-01&cm_mmc=Email_Newsletter-\\_-Developer_Ed%2BTech-\\_-WW_WW-\\_-SkillsNetwork-Courses-IBMDeveloperSkillsNetwork-PY0101EN-SkillsNetwork-19487395&cm_mmca1=000026UJ&cm_mmca2=10006555&cm_mmca3=M12345678&cvosrc=email.Newsletter.M12345678&cvo_campaign=000026UJ).\n"
   ]
  }
 ],
 "metadata": {
  "kernelspec": {
   "display_name": "base",
   "language": "python",
   "name": "python3"
  },
  "language_info": {
   "codemirror_mode": {
    "name": "ipython",
    "version": 3
   },
   "file_extension": ".py",
   "mimetype": "text/x-python",
   "name": "python",
   "nbconvert_exporter": "python",
   "pygments_lexer": "ipython3",
   "version": "3.13.5"
  },
  "prev_pub_hash": "c975bc569b09cdc49e9f499aac075862b2ff7356b23b8f06b39f154846eb837e"
 },
 "nbformat": 4,
 "nbformat_minor": 4
}
